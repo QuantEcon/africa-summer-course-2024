{
 "cells": [
  {
   "cell_type": "markdown",
   "metadata": {
    "id": "psy6Az1k5IeC"
   },
   "source": [
    "# Probability Exercise"
   ]
  },
  {
   "cell_type": "markdown",
   "metadata": {},
   "source": [
    "<div align=\"right\"><button><a href=\"https://colab.research.google.com/github/QuantEcon/africa-summer-course-2024/blob/main/exercises/day-08a/exercise_set_8_with_solution.ipynb\"><img src=\"\" heght=\"10px\"/><img\n",
    "  src=\"https://colab.research.google.com/assets/colab-badge.svg\"\n",
    "  alt=\"open with Colab\" width=\"100px\"/></a></button></div>"
   ]
  },
  {
   "cell_type": "markdown",
   "metadata": {},
   "source": [
    "#### Written for the QuantEcon Africa Workshop (July 2024)\n",
    "#### Author: [Smit Lunagariya](https://github.com/Smit-create),  [Shu Hu](https://shu-hu.com/)"
   ]
  },
  {
   "cell_type": "markdown",
   "metadata": {},
   "source": [
    "This notebook provides some exercises on basic probability concepts."
   ]
  },
  {
   "cell_type": "code",
   "execution_count": null,
   "metadata": {
    "id": "j8ZQc6Fc9Gn_"
   },
   "outputs": [],
   "source": [
    "import matplotlib.pyplot as plt\n",
    "import numpy as np\n",
    "import quantecon as qe"
   ]
  },
  {
   "cell_type": "markdown",
   "metadata": {
    "id": "sELGoYXB5ptX"
   },
   "source": [
    "### Exercise 1"
   ]
  },
  {
   "cell_type": "markdown",
   "metadata": {
    "id": "sELGoYXB5ptX"
   },
   "source": [
    "**Question 1.1**: Consider you have $n$ cards numbered from $1$ to $n$. You need to complete the following function that returns the probability of getting an odd-numbered card."
   ]
  },
  {
   "cell_type": "code",
   "execution_count": null,
   "metadata": {
    "id": "8R9sI21c61l2"
   },
   "outputs": [],
   "source": [
    "def odd_card_probability(n):\n",
    "    possible_odds = n//2\n",
    "    if n%2 == 1:\n",
    "        possible_odds += 1\n",
    "    return possible_odds/n"
   ]
  },
  {
   "cell_type": "code",
   "execution_count": null,
   "metadata": {
    "id": "2043nDRa7bPj"
   },
   "outputs": [],
   "source": [
    "# Test the solution\n",
    "try:\n",
    "    assert abs(odd_card_probability(5) - 3/5) < 1e-12\n",
    "    assert abs(odd_card_probability(240) - 1/2) < 1e-12\n",
    "    print(\"Congratulations!\")\n",
    "except:\n",
    "    print(\"Wrong answer, please check your code again.\")"
   ]
  },
  {
   "cell_type": "markdown",
   "metadata": {
    "id": "fERHpY9l8lAS"
   },
   "source": [
    "### Exercise 2"
   ]
  },
  {
   "cell_type": "markdown",
   "metadata": {
    "id": "fERHpY9l8lAS"
   },
   "source": [
    "The **Newcomb–Benford law** fits  many data sets, e.g., reports of incomes to tax authorities, in which\n",
    "the leading digit is more likely to be small than large.\n",
    "\n",
    "See [Benford's law](https://en.wikipedia.org/wiki/Benford%27s_law)\n",
    "\n",
    "A Benford probability distribution is\n",
    "\n",
    "$$\n",
    "\\textrm{Prob}\\{X=d\\}=\\log _{10}(d+1)-\\log _{10}(d)=\\log _{10}\\left(1+\\frac{1}{d}\\right)\n",
    "$$\n",
    "\n",
    "where $ d\\in\\{1,2,\\cdots,9\\} $."
   ]
  },
  {
   "cell_type": "markdown",
   "metadata": {
    "id": "f1PVcKvv9MSx"
   },
   "source": [
    "**Question 2.1**: Write a function that returns the probability at any given point $d$ using the Benford probability distribution."
   ]
  },
  {
   "cell_type": "code",
   "execution_count": null,
   "metadata": {
    "id": "ffmK3bkW9LJ0"
   },
   "outputs": [],
   "source": [
    "def probability_benford(d):\n",
    "    return np.log10(1 + 1/d)"
   ]
  },
  {
   "cell_type": "code",
   "execution_count": null,
   "metadata": {
    "id": "dD0GrlpA9qhk"
   },
   "outputs": [],
   "source": [
    "# Test the solution\n",
    "try:\n",
    "    assert abs(probability_benford(2) - 0.17609125905568124) < 1e-12\n",
    "    print(\"Congratulations!\")\n",
    "except:\n",
    "    print(\"Wrong answer, please check your code again.\")"
   ]
  },
  {
   "cell_type": "markdown",
   "metadata": {
    "id": "cix3Fecl-XQF"
   },
   "source": [
    "**Question 2.2**: Using the above function, write a function that returns the sum of probabilities at all the points in the state space of Benford's distribution i.e $d \\in \\{1, 2, ... 9\\}$. This function will help us to verify that the sum of probabilities sum to $1$.\n",
    "\n",
    "$$\n",
    "\\quad\\sum_{d=1}^{9}\\textrm{Prob}\\{X=d\\}=1\n",
    "$$"
   ]
  },
  {
   "cell_type": "code",
   "execution_count": null,
   "metadata": {
    "id": "5RRZNe2H-Fy4"
   },
   "outputs": [],
   "source": [
    "def test_probability_benford():\n",
    "    return sum(probability_benford(d) for d in range(1, 10))"
   ]
  },
  {
   "cell_type": "code",
   "execution_count": null,
   "metadata": {
    "id": "RQGsgFdl_2v3"
   },
   "outputs": [],
   "source": [
    "# Test the solution\n",
    "try:\n",
    "    assert abs(test_probability_benford() - 1.0) < 1e-12\n",
    "    print(\"Congratulations!\")\n",
    "except:\n",
    "    print(\"Wrong answer, please check your code again.\")"
   ]
  },
  {
   "cell_type": "markdown",
   "metadata": {
    "id": "CYB3Q2I5Axyy"
   },
   "source": [
    "**Question 2.3**: Using the above given probability distribution function, compute the cumulative density distribution. Also, plot the PMF and CDF in the same graph.\n",
    "\n",
    "*Hint 1: If $ X $ ia a random variable then CDF $ F_X(x)=F(x)=\\textrm{Prob}\\{X\\le x\\} $.*\n",
    "\n",
    "*Hint 2: See the documentation of [numpy.cumsum](https://numpy.org/doc/stable/reference/generated/numpy.cumsum.html)*"
   ]
  },
  {
   "cell_type": "code",
   "execution_count": null,
   "metadata": {
    "colab": {
     "base_uri": "https://localhost:8080/",
     "height": 281
    },
    "id": "q0wM7YtfCe-Y",
    "outputId": "7639fbe7-ce8f-4b58-b92b-0eda043bcbce"
   },
   "outputs": [],
   "source": [
    "fig, ax = plt.subplots()\n",
    "\n",
    "benford_pmf = np.array([probability_benford(d) for d in range(1,10)])\n",
    "benford_cdf = np.cumsum(benford_pmf)\n",
    "\n",
    "ax.plot(range(1,10), benford_pmf, 'o', label=\"PMF\")\n",
    "ax.plot(range(1,10), benford_cdf, '*', label=\"CDF\")\n",
    "plt.title('Benford\\'s distribution')\n",
    "plt.legend()\n",
    "plt.show()"
   ]
  },
  {
   "cell_type": "markdown",
   "metadata": {
    "id": "dv0z2an6K5D2"
   },
   "source": [
    "### Exercise 3"
   ]
  },
  {
   "cell_type": "markdown",
   "metadata": {
    "id": "dv0z2an6K5D2"
   },
   "source": [
    "Consider the following joint distribution over $(X, Y)$ as:\n",
    "\n",
    "$$\n",
    "F=[f_{ij}]=\\left[\\begin{array}{cc}\n",
    "0.2 & 0.15 & 0.15\\\\\n",
    "0.1 & 0.15  & 0.05\\\\\n",
    "0.025 & 0.025 & 0.15\n",
    "\\end{array}\\right]\n",
    "$$"
   ]
  },
  {
   "cell_type": "code",
   "execution_count": null,
   "metadata": {
    "id": "2jMWxxdZLul7"
   },
   "outputs": [],
   "source": [
    "F = np.array([\n",
    "  [0.2, 0.15, 0.15],\n",
    "  [0.1, 0.15, 0.05],\n",
    "  [0.025, 0.025, 0.15]\n",
    "])"
   ]
  },
  {
   "cell_type": "markdown",
   "metadata": {
    "id": "vPMwRWmAL5hx"
   },
   "source": [
    "**Question 3.1**: Write two functions that help to calculate the marginal distribution for $\\textrm{Prob}(X=i)$ and $\\textrm{Prob}(Y=j)$ respectively.\n",
    "\n",
    "*Hint: See the documentation of [numpy.sum](https://numpy.org/doc/stable/reference/generated/numpy.sum.html). Read about `axis` argument.*"
   ]
  },
  {
   "cell_type": "code",
   "execution_count": null,
   "metadata": {
    "id": "TC0N7tsVMW3a"
   },
   "outputs": [],
   "source": [
    "def marginal_x(i):\n",
    "    return F.sum(axis=1)[i]\n",
    "\n",
    "def marginal_y(j):\n",
    "    return F.sum(axis=0)[j]"
   ]
  },
  {
   "cell_type": "code",
   "execution_count": null,
   "metadata": {
    "id": "nsg486HCNdPb"
   },
   "outputs": [],
   "source": [
    "# Test the solution\n",
    "try:\n",
    "    assert abs(marginal_x(0) - 0.5) < 1e-12\n",
    "    assert abs(marginal_y(0) - 0.325) < 1e-12\n",
    "    print(\"Congratulations!\")\n",
    "except:\n",
    "    print(\"Wrong answer, please check your code again.\")"
   ]
  },
  {
   "cell_type": "markdown",
   "metadata": {
    "id": "T4CuMxHtOB9L"
   },
   "source": [
    "**Question 3.2**: Using the above two functions, write two new functions for computing the conditional distribution of $\\textrm{Prob}\\{X=i\\vert Y=j\\}$ and $\\textrm{Prob}\\{Y=i\\vert X=j\\}$ respectively.\n",
    "\n",
    "\n"
   ]
  },
  {
   "cell_type": "code",
   "execution_count": null,
   "metadata": {
    "id": "ZQWdN5QlOycF"
   },
   "outputs": [],
   "source": [
    "def conditional_x_given_y(i, j): # Prob {X = i | Y = j}\n",
    "    return F[i][j]/marginal_y(j)\n",
    "\n",
    "def conditional_y_given_x(i, j): # Prob {Y = i | X = j}\n",
    "    return F[j][i]/marginal_x(j)"
   ]
  },
  {
   "cell_type": "code",
   "execution_count": null,
   "metadata": {
    "id": "nyGKNmz3PhLz"
   },
   "outputs": [],
   "source": [
    "# Test the solution\n",
    "try:\n",
    "    assert abs(conditional_x_given_y(0, 1) - 0.4615384615384615) < 1e-12\n",
    "    assert abs(conditional_y_given_x(2, 0) - 0.3) < 1e-12\n",
    "    print(\"Congratulations!\")\n",
    "except:\n",
    "    print(\"Wrong answer, please check your code again.\")"
   ]
  },
  {
   "cell_type": "markdown",
   "metadata": {},
   "source": [
    "### Exercise 4"
   ]
  },
  {
   "cell_type": "markdown",
   "metadata": {},
   "source": [
    "Generate 100000 data points from the [exponential distribution](https://en.wikipedia.org/wiki/Exponential_distribution) with density\n",
    "\n",
    "$$\n",
    "f(x; \\alpha) = \\alpha \\exp(-\\alpha x)\n",
    "\\qquad\n",
    "(x > 0, \\alpha > 0)\n",
    "$$\n",
    "\n",
    "taking $\\alpha = 0.5$. Then\n",
    "\n",
    "1. Plot a histogram of your sample and compare it to the density of the exponential distribution.\n",
    "2. After looking up the maximum likelihood estimator of $\\alpha$, compute the estimate given your data and check that it is in fact close to $\\alpha$."
   ]
  },
  {
   "cell_type": "markdown",
   "metadata": {},
   "source": [
    "### Solution\n",
    "\n",
    "After checking [the docs for the exponential distribution](http://docs.scipy.org/doc/scipy/reference/generated/scipy.stats.expon.html) we proceed as follows"
   ]
  },
  {
   "cell_type": "code",
   "execution_count": null,
   "metadata": {},
   "outputs": [],
   "source": [
    "from scipy.stats import expon\n",
    "import numpy as np\n",
    "\n",
    "alpha = 0.5\n",
    "n = int(1e5)\n",
    "# Scale controls the exponential parameter\n",
    "ep = expon(scale=1.0/alpha)\n",
    "# Generate n randome variables\n",
    "x = ep.rvs(size=n)"
   ]
  },
  {
   "cell_type": "markdown",
   "metadata": {},
   "source": [
    "Here's a histogram and density."
   ]
  },
  {
   "cell_type": "code",
   "execution_count": null,
   "metadata": {},
   "outputs": [],
   "source": [
    "fig, ax = plt.subplots(figsize=(8, 5))\n",
    "xmin, xmax = 0.001, 10.0\n",
    "ax.set_xlim(xmin, xmax)\n",
    "ax.hist(x, density=True, bins=60, alpha=0.3)\n",
    "grid = np.linspace(xmin, xmax, 200)\n",
    "ax.plot(grid, ep.pdf(grid), 'k-', lw=2, label='true density')\n",
    "ax.legend()\n",
    "plt.show()"
   ]
  },
  {
   "cell_type": "markdown",
   "metadata": {},
   "source": [
    "It's [well-known](http://en.wikipedia.org/wiki/Exponential_distribution) that the MLE of $\\alpha$ is $1/\\bar x$ where $\\bar x$ is the mean of the sample.  Let's check that it is indeed close to $\\alpha$."
   ]
  },
  {
   "cell_type": "code",
   "execution_count": null,
   "metadata": {},
   "outputs": [],
   "source": [
    "alpha_mle = 1.0 / x.mean()\n",
    "print(f\"max likelihood estimate of alpha is {alpha_mle}.\")"
   ]
  },
  {
   "cell_type": "markdown",
   "metadata": {},
   "source": [
    "### Exercise 5 (Markov chains)\n",
    "\n",
    "Read the \n",
    "- lecture [Markov Chains: Basic Concepts](https://intro.quantecon.org/markov_chains_I.html) and \n",
    "- the [corresponding methods in the QuantEcon package](https://quanteconpy.readthedocs.io/en/latest/markov/core.html) \n",
    "\n",
    "before you attempt the following exercises.\n",
    "\n",
    "**Exercise 5.1**\n",
    "\n",
    "Using a method from the [QuantEcon package](https://quanteconpy.readthedocs.io/en/latest/markov/core.html), define a Markov chain object, called ``mc``, characterised by a stochastic matrix ``P`` and state values ``state_values``"
   ]
  },
  {
   "cell_type": "code",
   "execution_count": null,
   "metadata": {},
   "outputs": [],
   "source": [
    "P = [[0.1, 0.3, 0.2, 0.4],\n",
    "     [0.1, 0.4, 0.1, 0.4], \n",
    "     [0.3, 0.2, 0.3, 0.2], \n",
    "     [0.2, 0.1, 0.2, 0.5]]\n",
    "\n",
    "state_values = [\"recession\", \"slump\", \"recovery\", \"boom\"]"
   ]
  },
  {
   "cell_type": "markdown",
   "metadata": {},
   "source": [
    "#### Solution\n"
   ]
  },
  {
   "cell_type": "code",
   "execution_count": null,
   "metadata": {},
   "outputs": [],
   "source": [
    "T = 5\n",
    "mc = qe.MarkovChain(P, state_values=state_values)"
   ]
  },
  {
   "cell_type": "markdown",
   "metadata": {},
   "source": [
    "**Exercise 5.2**\n",
    "\n",
    "Simulate a Markov chain with length of ``T=5`` using the Markov chain defined from Exercise 5.1 with an initial value ``initial_value``."
   ]
  },
  {
   "cell_type": "code",
   "execution_count": null,
   "metadata": {},
   "outputs": [],
   "source": [
    "initial_value = \"recession\""
   ]
  },
  {
   "cell_type": "markdown",
   "metadata": {},
   "source": [
    "#### Solution\n"
   ]
  },
  {
   "cell_type": "code",
   "execution_count": null,
   "metadata": {},
   "outputs": [],
   "source": [
    "mc.simulate(ts_length=T, init=initial_value)"
   ]
  },
  {
   "cell_type": "markdown",
   "metadata": {},
   "source": [
    "**Exercise 5.3**\n",
    "\n",
    "Calculate the stationary distribution(s), called ``ψ_star``, for the Markov chain defined from Exercise 5.1.\n",
    "\n",
    "#### Solution\n"
   ]
  },
  {
   "cell_type": "code",
   "execution_count": null,
   "metadata": {},
   "outputs": [],
   "source": [
    "ψ_star = mc.stationary_distributions[0]\n",
    "ψ_star"
   ]
  },
  {
   "cell_type": "markdown",
   "metadata": {},
   "source": [
    "**Exercise 5.4**\n",
    "\n",
    "With the Markov chain defined from Exercise 5.1., compute the marignal distribution $\\psi_t = \\psi_0 P^t$ with ``t=100`` and an initial distribution ``ψ_0``."
   ]
  },
  {
   "cell_type": "code",
   "execution_count": null,
   "metadata": {},
   "outputs": [],
   "source": [
    "ψ_0 = [0.1, 0.4, 0.3, 0.2]"
   ]
  },
  {
   "cell_type": "markdown",
   "metadata": {},
   "source": [
    "Compare $\\psi_t$ with the ``ψ_star`` from Exercise 5.3.\n",
    "\n",
    "#### Solution\n"
   ]
  },
  {
   "cell_type": "code",
   "execution_count": null,
   "metadata": {},
   "outputs": [],
   "source": [
    "t = 100\n",
    "P_power = np.linalg.matrix_power(P, t)\n",
    "ψ = ψ_0 @ P_power\n",
    "ψ"
   ]
  },
  {
   "cell_type": "markdown",
   "metadata": {},
   "source": [
    "Read\n",
    "- lecture [Markov Chains: Irreducibility and Ergodicity](https://intro.quantecon.org/markov_chains_II.html)\n",
    "\n",
    "\n",
    "before you attempt the following exercises.\n",
    "\n",
    "**Exercise 5.5**\n",
    "\n",
    "With the Markov chain defined from Exercise 5.1., check whether its stochastic matrix is irreducible.\n",
    "\n",
    "#### Solution\n"
   ]
  },
  {
   "cell_type": "code",
   "execution_count": null,
   "metadata": {},
   "outputs": [],
   "source": [
    "mc.is_irreducible"
   ]
  },
  {
   "cell_type": "markdown",
   "metadata": {},
   "source": [
    "**Exercise 5.6**\n",
    "\n",
    "With the Markov chain defined from Exercise 5.1.,\n",
    "- simulate a path of length ``T = 100_000`` for it,\n",
    "- calculate the fraction of time spent on each state values, called ``p_hats`` and\n",
    "- compare it with the stationary distribution we computed from Exercise 5.3.\n",
    "\n",
    "\n",
    "#### Solution\n"
   ]
  },
  {
   "cell_type": "code",
   "execution_count": null,
   "metadata": {},
   "outputs": [],
   "source": [
    "T = 100_000\n",
    "X = mc.simulate(ts_length=T)"
   ]
  },
  {
   "cell_type": "code",
   "execution_count": null,
   "metadata": {},
   "outputs": [],
   "source": [
    "p_hats = []\n",
    "for x0 in state_values:\n",
    "    p_hat = (X == x0).cumsum() / (1 + np.arange(T, dtype=float))\n",
    "    p_hats.append(p_hat[-1])"
   ]
  },
  {
   "cell_type": "code",
   "execution_count": null,
   "metadata": {},
   "outputs": [],
   "source": [
    "p_hats"
   ]
  },
  {
   "cell_type": "code",
   "execution_count": null,
   "metadata": {},
   "outputs": [],
   "source": [
    "ψ_star"
   ]
  }
 ],
 "metadata": {
  "colab": {
   "collapsed_sections": [],
   "name": "probability_fundamentals.ipynb",
   "provenance": []
  },
  "kernelspec": {
   "display_name": "Python 3 (ipykernel)",
   "language": "python",
   "name": "python3"
  },
  "language_info": {
   "codemirror_mode": {
    "name": "ipython",
    "version": 3
   },
   "file_extension": ".py",
   "mimetype": "text/x-python",
   "name": "python",
   "nbconvert_exporter": "python",
   "pygments_lexer": "ipython3",
   "version": "3.10.12"
  }
 },
 "nbformat": 4,
 "nbformat_minor": 4
}
