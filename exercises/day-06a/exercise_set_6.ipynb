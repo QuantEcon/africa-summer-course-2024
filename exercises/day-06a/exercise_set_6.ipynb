{
 "cells": [
  {
   "cell_type": "markdown",
   "id": "2cebb81f",
   "metadata": {},
   "source": [
    "# Exercise Set: Review of Week 1"
   ]
  },
  {
   "cell_type": "markdown",
   "id": "62016856-b878-4e73-85f3-361386ccd1c4",
   "metadata": {},
   "source": [
    "<div align=\"right\"><button><a href=\"https://colab.research.google.com/github/QuantEcon/africa-summer-course-2024/blob/main/exercises/day-06a/exercise_set_6.ipynb\"><img src=\"\" heght=\"10px\"/><img\n",
    "  src=\"https://colab.research.google.com/assets/colab-badge.svg\"\n",
    "  alt=\"open with Colab\" width=\"100px\"/></a></button></div>"
   ]
  },
  {
   "cell_type": "markdown",
   "id": "6088326e",
   "metadata": {},
   "source": [
    "#### Written for the QuantEcon Africa Summer Course (July 2024)\n",
    "#### Author: [John Stachurski](http://johnstachurski.net/), [Hengcheng Zhang](https://github.com/HengchengZhang), and [Smit Lunagariya](https://github.com/Smit-create)"
   ]
  },
  {
   "cell_type": "code",
   "execution_count": null,
   "id": "cfebd2a0",
   "metadata": {},
   "outputs": [],
   "source": [
    "import numpy as np"
   ]
  },
  {
   "cell_type": "markdown",
   "id": "dab638d6",
   "metadata": {},
   "source": [
    "### Exercise 1"
   ]
  },
  {
   "cell_type": "markdown",
   "id": "a872c861",
   "metadata": {},
   "source": [
    "1. How do you assign the value `10` to a variable named `a`?\n",
    "2. How do you assign `10` to `a` and `20` to `b` in one line?"
   ]
  },
  {
   "cell_type": "code",
   "execution_count": null,
   "id": "5cc09ea6",
   "metadata": {},
   "outputs": [],
   "source": [
    "# TODO: Try to add your first code-cell below and \n",
    "#       assign the value to corresponding variables"
   ]
  },
  {
   "cell_type": "markdown",
   "id": "e1945ded",
   "metadata": {},
   "source": [
    "### Exercise 2"
   ]
  },
  {
   "cell_type": "markdown",
   "id": "bdb9f7eb",
   "metadata": {},
   "source": [
    "What are the types of the following variables `a`, `b` and `c`?"
   ]
  },
  {
   "cell_type": "code",
   "execution_count": null,
   "id": "4344370e",
   "metadata": {},
   "outputs": [],
   "source": [
    "a = 1\n",
    "b = 4.3\n",
    "c = \"Hi there and welcome to the workshop\""
   ]
  },
  {
   "cell_type": "markdown",
   "id": "9080d058",
   "metadata": {},
   "source": [
    "### Exercise 3\n",
    "\n",
    "Using the variable `c`, how can you access the *second character* in the sentence `\"Hi there and welcome to the workshop\"` (which is `i`)?\n",
    "\n"
   ]
  },
  {
   "cell_type": "code",
   "execution_count": null,
   "id": "e7ae4035",
   "metadata": {},
   "outputs": [],
   "source": [
    "# TODO: Put your solution here"
   ]
  },
  {
   "cell_type": "markdown",
   "id": "b092f809",
   "metadata": {},
   "source": [
    "### Exercise 4\n",
    "\n",
    "Using string methods, how can you capitalize each word in the sentence `\"Hi there and welcome to the workshop\"` ?"
   ]
  },
  {
   "cell_type": "code",
   "execution_count": null,
   "id": "50ffe758",
   "metadata": {},
   "outputs": [],
   "source": [
    "# TODO: Put your solution here"
   ]
  },
  {
   "cell_type": "markdown",
   "id": "0ecc82ab",
   "metadata": {},
   "source": [
    "### Exercise 5\n",
    "\n",
    "How can you split the sentence into a list of words such as `['Hi', 'there', ...]`"
   ]
  },
  {
   "cell_type": "code",
   "execution_count": null,
   "id": "173d6e95",
   "metadata": {},
   "outputs": [],
   "source": [
    "# TODO: Put your solution here"
   ]
  },
  {
   "cell_type": "markdown",
   "id": "d6637060",
   "metadata": {},
   "source": [
    "### Exercise 6"
   ]
  },
  {
   "cell_type": "markdown",
   "id": "4c3f4213",
   "metadata": {},
   "source": [
    "Write a function `square` that returns the square of its argument $f(x) = x^2$"
   ]
  },
  {
   "cell_type": "code",
   "execution_count": null,
   "id": "aace2776",
   "metadata": {},
   "outputs": [],
   "source": [
    "def square(x):\n",
    "    # TODO: Finish this function\n",
    "    pass"
   ]
  },
  {
   "cell_type": "markdown",
   "id": "8219a540",
   "metadata": {},
   "source": [
    "**You can check your code using the following tests**"
   ]
  },
  {
   "cell_type": "code",
   "execution_count": null,
   "id": "b247ced6",
   "metadata": {},
   "outputs": [],
   "source": [
    "square(1) == 1"
   ]
  },
  {
   "cell_type": "code",
   "execution_count": null,
   "id": "7f7ef9fd",
   "metadata": {},
   "outputs": [],
   "source": [
    "square(-5) == 25"
   ]
  },
  {
   "cell_type": "markdown",
   "id": "b3e24ea7",
   "metadata": {},
   "source": [
    "### Exercise 7\n",
    "\n",
    "Use a `for` loop and the `square` function to print the square of each element of the list `[1,5,10,20]`"
   ]
  },
  {
   "cell_type": "code",
   "execution_count": null,
   "id": "8a83338d",
   "metadata": {},
   "outputs": [],
   "source": [
    "nums = [1, 5, 10, 20]\n",
    "\n",
    "# TODO: Comment out and complete the following code"
   ]
  },
  {
   "cell_type": "markdown",
   "id": "3fcfa249",
   "metadata": {},
   "source": [
    "### Exercise 8\n",
    "\n",
    "Use a list comprehension, and the `square` function, to print the square of each element of the list `[1,5,10,20]`"
   ]
  },
  {
   "cell_type": "code",
   "execution_count": null,
   "id": "9e68eaf3",
   "metadata": {},
   "outputs": [],
   "source": [
    "nums = [1, 5, 10, 20]\n",
    "\n",
    "# TODO: Comment out and complete the following code"
   ]
  },
  {
   "cell_type": "markdown",
   "id": "b324a686",
   "metadata": {},
   "source": [
    "### Exercise 9"
   ]
  },
  {
   "cell_type": "markdown",
   "id": "7315ae3a",
   "metadata": {},
   "source": [
    "Use the python `range` function to construct a list of 20 numbers from `0` to `19`"
   ]
  },
  {
   "cell_type": "code",
   "execution_count": null,
   "id": "c44ec3fd",
   "metadata": {},
   "outputs": [],
   "source": [
    "# TODO: Put your solution here"
   ]
  },
  {
   "cell_type": "markdown",
   "id": "d2fb4090",
   "metadata": {},
   "source": [
    "### Exercise 10\n",
    "\n",
    "If you run the following code, what do you think the `range(0,20)` object is, and why is a list of values not given?"
   ]
  },
  {
   "cell_type": "code",
   "execution_count": null,
   "id": "3398a147",
   "metadata": {
    "scrolled": true
   },
   "outputs": [],
   "source": [
    "range(20)"
   ]
  },
  {
   "cell_type": "markdown",
   "id": "d3b45136",
   "metadata": {},
   "source": [
    "### Exercise 11\n",
    "\n",
    "Build a `numpy` array containing values from `0` to `19` and save it in the variable `c`."
   ]
  },
  {
   "cell_type": "code",
   "execution_count": null,
   "id": "f12e8109",
   "metadata": {},
   "outputs": [],
   "source": [
    "# TODO: Put your solution here"
   ]
  },
  {
   "cell_type": "markdown",
   "id": "a01558b8",
   "metadata": {},
   "source": [
    "### Exercise 12"
   ]
  },
  {
   "cell_type": "markdown",
   "id": "28f1e83d",
   "metadata": {},
   "source": [
    "Using `plot` method in `matplotlib`, plot the data defined in `d = np.array(range(20))`"
   ]
  },
  {
   "cell_type": "code",
   "execution_count": null,
   "id": "35d26d29",
   "metadata": {},
   "outputs": [],
   "source": [
    "import matplotlib.pyplot as plt"
   ]
  },
  {
   "cell_type": "code",
   "execution_count": null,
   "id": "c35ddb39",
   "metadata": {},
   "outputs": [],
   "source": [
    "d = np.array(range(20))"
   ]
  },
  {
   "cell_type": "code",
   "execution_count": null,
   "id": "acca8246",
   "metadata": {},
   "outputs": [],
   "source": [
    "fig, ax = plt.subplots()\n",
    "\n",
    "# TODO: Plot d using the plot() method"
   ]
  },
  {
   "cell_type": "markdown",
   "id": "f37a8aa9",
   "metadata": {},
   "source": [
    "### Exercise 13\n",
    "\n",
    "Now, plot the square of the values in `d` using $f(x) = x^2$"
   ]
  },
  {
   "cell_type": "code",
   "execution_count": null,
   "id": "424e5f38",
   "metadata": {},
   "outputs": [],
   "source": [
    "# TODO: Put your solution here"
   ]
  },
  {
   "cell_type": "markdown",
   "id": "49cc4db3-3d84-4c82-8447-70bd6b5ff7e5",
   "metadata": {},
   "source": [
    "# Python and Linear Algebra"
   ]
  },
  {
   "cell_type": "code",
   "execution_count": null,
   "id": "b37dc80e-d7f2-4463-a823-10fce8e9bc53",
   "metadata": {},
   "outputs": [],
   "source": [
    "import numpy as np\n",
    "import matplotlib.pyplot as plt\n",
    "from scipy.linalg import eig\n",
    "from numpy.random import randn"
   ]
  },
  {
   "cell_type": "markdown",
   "id": "6f602250-07f4-41c3-b19a-127f2b00f254",
   "metadata": {},
   "source": [
    "### Exercise 14\n",
    "\n",
    "Complete the following function that returns the number of odd elements in the given list."
   ]
  },
  {
   "cell_type": "code",
   "execution_count": null,
   "id": "a3b7bb33-f5d3-4a24-9ca6-e23a0e7f5668",
   "metadata": {},
   "outputs": [],
   "source": [
    "def get_odd_num_from_list(nums):\n",
    "    # TODO: Finish this function\n",
    "    pass"
   ]
  },
  {
   "cell_type": "code",
   "execution_count": null,
   "id": "2835b51e-b09a-4a3c-9a44-78cfaea56834",
   "metadata": {},
   "outputs": [],
   "source": [
    "# Test the solution\n",
    "try:\n",
    "    assert get_odd_num_from_list([1, 2, 3]) == 2\n",
    "    assert get_odd_num_from_list(list(range(1, 20))) == 10\n",
    "    assert get_odd_num_from_list(list(range(0, 20, 2))) == 0\n",
    "    print(\"Congratulations!\")\n",
    "except:\n",
    "    print(\"Wrong answer, please check your code again.\")"
   ]
  },
  {
   "cell_type": "markdown",
   "id": "99957f6c-cf65-4475-9f19-345849556bc4",
   "metadata": {},
   "source": [
    "### Exercise 15\n",
    "\n",
    "Consider the following time-series\n",
    "\n",
    "$$\n",
    "    a_{t+1} = (0.5 + r)a_t - br^2a_t\n",
    "$$\n",
    "\n",
    "Assume that $r=0.05$, $b=100$ and $a_0=1.5$.\n",
    "\n",
    "Generate and plot the sequence $a_0, a_1, ..., a_T$.\n",
    "\n",
    "Use NumPy arrays to store the sequence $a$.\n",
    "\n",
    "Use $T=25$."
   ]
  },
  {
   "cell_type": "code",
   "execution_count": null,
   "id": "526d5932-b63e-4e81-a04a-c37c67d8d3fa",
   "metadata": {},
   "outputs": [],
   "source": [
    "# TODO: Write your solution here"
   ]
  },
  {
   "cell_type": "markdown",
   "id": "e3e076a4-9df8-4b3b-9a4c-f7936d35f292",
   "metadata": {},
   "source": [
    "### Exercise 16\n",
    "\n",
    "Warm up on NumPy Basics.\n",
    "\n",
    "Feel free to refer to the [numpy documentation](https://numpy.org/doc/stable/reference/index.html) for API.\n",
    "\n",
    "**Exercise 16.1**: Write a function that creates numpy array from the given list/tuple."
   ]
  },
  {
   "cell_type": "code",
   "execution_count": null,
   "id": "1d743bcf-2fa8-4a1f-940c-9d7fe395148a",
   "metadata": {},
   "outputs": [],
   "source": [
    "def create_array(x):\n",
    "    # TODO: Finish this function\n",
    "    pass"
   ]
  },
  {
   "cell_type": "code",
   "execution_count": null,
   "id": "45e403f4-9cf2-4a14-8dbf-c22b30838c71",
   "metadata": {},
   "outputs": [],
   "source": [
    "# Test the solution\n",
    "try:\n",
    "    assert type(create_array([1, 2, 3])) == np.ndarray\n",
    "    assert type(create_array((1, 2, 3))) == np.ndarray\n",
    "    print(\"Congratulations!\")\n",
    "except:\n",
    "    print(\"Wrong answer, please check your code again.\")"
   ]
  },
  {
   "cell_type": "markdown",
   "id": "d99eb741-62c4-4525-b878-04e242039a73",
   "metadata": {},
   "source": [
    "**Exercise 16.2**: Write a function to return the transpose of the given matrix."
   ]
  },
  {
   "cell_type": "code",
   "execution_count": null,
   "id": "62d86b2b-9c88-4f2f-9878-897568f60ade",
   "metadata": {},
   "outputs": [],
   "source": [
    "def get_transpose(x):\n",
    "    # TODO: Finish this function\n",
    "    pass"
   ]
  },
  {
   "cell_type": "code",
   "execution_count": null,
   "id": "adaa7183-3033-4fd3-84d1-dfd6dbde4384",
   "metadata": {},
   "outputs": [],
   "source": [
    "# Test the solution\n",
    "try:\n",
    "    assert np.allclose(get_transpose(np.arange(6).reshape((3,2))), np.array([[0, 2, 4], [1, 3, 5]]))\n",
    "    print(\"Congratulations!\")\n",
    "except:\n",
    "    print(\"Wrong answer, please check your code again.\")"
   ]
  },
  {
   "cell_type": "markdown",
   "id": "0af6c310-3851-4e75-b267-cfc49e4057ff",
   "metadata": {},
   "source": [
    "**Exercise 16.3**: Write a function to return the inverse of the given matrix."
   ]
  },
  {
   "cell_type": "code",
   "execution_count": null,
   "id": "38360e50-1f41-44db-86af-302f1153caa6",
   "metadata": {},
   "outputs": [],
   "source": [
    "def get_inverse(x):\n",
    "    # TODO: Finish this function\n",
    "    pass"
   ]
  },
  {
   "cell_type": "code",
   "execution_count": null,
   "id": "00b662f5-bebf-4bf2-856a-2ce85d75b489",
   "metadata": {},
   "outputs": [],
   "source": [
    "# Test the solution\n",
    "a_test = np.array([[1., 2.], [3., 4.]])\n",
    "a_test_inv = get_inverse(a_test)\n",
    "try:\n",
    "    assert np.allclose(np.dot(a_test, a_test_inv), np.eye(2))\n",
    "    print(\"Congratulations!\")\n",
    "except:\n",
    "    print(\"Wrong answer, please check your code again.\")"
   ]
  },
  {
   "cell_type": "markdown",
   "id": "edd67efb-b52d-4135-9611-323e2e4b7199",
   "metadata": {},
   "source": [
    "**Exercise 16.4**: Write a function to compute the norm of the vector."
   ]
  },
  {
   "cell_type": "code",
   "execution_count": null,
   "id": "b283fbcb-4abc-457b-9204-c1f64462c199",
   "metadata": {},
   "outputs": [],
   "source": [
    "def get_norm(x):\n",
    "    # TODO: Finish this function\n",
    "    pass"
   ]
  },
  {
   "cell_type": "code",
   "execution_count": null,
   "id": "494984cd-28b2-4ee9-8ee6-7100f3b8ca7c",
   "metadata": {},
   "outputs": [],
   "source": [
    "# Test the solution\n",
    "try:\n",
    "    assert np.allclose(get_norm([1, 2, 2, 4, 12, 5]), 13.92838827718412)\n",
    "    print(\"Congratulations!\")\n",
    "except:\n",
    "    print(\"Wrong answer, please check your code again.\")"
   ]
  },
  {
   "cell_type": "markdown",
   "id": "0f3b8727-ec83-4bb4-84c8-59cc53ee6eb2",
   "metadata": {},
   "source": [
    "**Exercise 16.5**: Write a function that returns the standardized vector of the given vector such that the mean is $0$ and standard deviation is $1$. Mathematically:\n",
    "$$\n",
    "\\forall x_{i}\\in x:\\hspace{1em}x_{i}^{\\prime}=\\frac{x_{i}-\\mu}{\\sigma}\n",
    "$$"
   ]
  },
  {
   "cell_type": "code",
   "execution_count": null,
   "id": "3a245af4-d7e6-4da8-bd7d-0c41347ff40e",
   "metadata": {},
   "outputs": [],
   "source": [
    "def standardize(x):\n",
    "    # TODO: Finish this function\n",
    "    pass"
   ]
  },
  {
   "cell_type": "code",
   "execution_count": null,
   "id": "a67aa4fd-c78a-4a10-a345-0727e9dc3489",
   "metadata": {},
   "outputs": [],
   "source": [
    "# Test the solution\n",
    "a_test = np.random.randint(100, 2000, size=1000)\n",
    "a_test_stdz = standardize(a_test)\n",
    "try:\n",
    "    assert np.isclose(a_test_stdz.mean(), 0)\n",
    "    assert np.isclose(a_test_stdz.std(), 1)\n",
    "    print(\"Congratulations!\")\n",
    "except:\n",
    "    print(\"Wrong answer, please check your code again.\")"
   ]
  },
  {
   "cell_type": "markdown",
   "id": "a9fd13e2-f8dd-4e0b-9173-babf79c3f3e4",
   "metadata": {},
   "source": [
    "### Exercise 17\n",
    "\n",
    "**Exercise 17.1**: Write a function that takes two numpy vectors as an argument and returns `True` if they are orthogonal else returns `False`.\n",
    "\n",
    "*Note: Two vectors are called orthogonal if their inner product is zero.*"
   ]
  },
  {
   "cell_type": "code",
   "execution_count": null,
   "id": "c10c7dd2-d38c-4ff8-9397-1859001adf23",
   "metadata": {},
   "outputs": [],
   "source": [
    "def is_orthogonal(x, y):\n",
    "    # TODO: Finish this function\n",
    "    pass"
   ]
  },
  {
   "cell_type": "code",
   "execution_count": null,
   "id": "19ec60e6-4b70-43a3-8c35-d7054546cdab",
   "metadata": {},
   "outputs": [],
   "source": [
    "# Test the solution\n",
    "try:\n",
    "    assert is_orthogonal(np.array([0, 1, 0, -2, 4]), np.array([-1, -4, 1, 2, 2]))\n",
    "    assert not is_orthogonal(np.array([0, 1, 0, -2, 4]), np.array([-1, -4, 1, 2, 4]))\n",
    "    print(\"Congratulations!\")\n",
    "except:\n",
    "    print(\"Wrong answer, please check your code again.\")"
   ]
  },
  {
   "cell_type": "markdown",
   "id": "ff4e8637-2087-46cd-9415-ed1ef4fcaaf3",
   "metadata": {},
   "source": [
    "**Exercise 17.2**: Write a function to check whether the given matrix is symmetric or not."
   ]
  },
  {
   "cell_type": "code",
   "execution_count": null,
   "id": "078fddcf-3ddc-4f79-93fd-86bb2ec857c5",
   "metadata": {},
   "outputs": [],
   "source": [
    "def is_symmetric(x):\n",
    "    # TODO: Finish this function\n",
    "    pass"
   ]
  },
  {
   "cell_type": "code",
   "execution_count": null,
   "id": "f736d71b-62dd-40d7-9a55-8116a35dfaa0",
   "metadata": {},
   "outputs": [],
   "source": [
    "# Test the solution\n",
    "try:\n",
    "    assert is_symmetric(np.eye(3))\n",
    "    assert is_symmetric(np.array([[1, 3], [3, 1]]))\n",
    "    assert not is_symmetric(np.array([[0, 1, 0, -2, 4], [-1, -4, 1, 2, 2]]))\n",
    "    print(\"Congratulations!\")\n",
    "except:\n",
    "    print(\"Wrong answer, please check your code again.\")"
   ]
  },
  {
   "cell_type": "markdown",
   "id": "89bb1b73-2030-4e49-9cfa-9d8695a0f82c",
   "metadata": {},
   "source": [
    "### Exercise 18\n",
    "\n",
    "Please refer to this [quantecon lecture](https://intro.quantecon.org/time_series_with_matrices.html) before solving this exercise.\n",
    "\n",
    "Let $ t = 0, \\pm 1, \\pm 2, \\ldots $ index time.\n",
    "\n",
    "For $ t = 1, 2, 3, \\ldots, T $ suppose that\n",
    "\n",
    "\n",
    "\n",
    "$$\n",
    "y_{t} = \\alpha_{0} + \\alpha_{1} y_{t-1}\n",
    "$$\n",
    "\n",
    "where we assume that $ y_0 = 1$, $\\alpha_{0}=5$, and $\\alpha_{1}=1.2$.\n",
    "\n",
    "\n",
    "Use the matrix algebra to solve the above time series equation, and plot the solution.\n",
    "\n",
    "*Hint:*\n",
    "\n",
    "\n",
    "*Let’s write our equations as a stacked system*\n",
    "\n",
    "$$\n",
    "\\underset{\\equiv A}{\\underbrace{\\left[\\begin{array}{cccccccc}\n",
    "1 & 0 & 0 & 0 & \\cdots & 0 & 0 & 0\\\\\n",
    "-\\alpha_{1} & 1 & 0 & 0 & \\cdots & 0 & 0 & 0\\\\\n",
    "0 & -\\alpha_{1} & 1 & 0 & \\cdots & 0 & 0 & 0\\\\\n",
    "0 & 0 & -\\alpha_{1} & 1 & \\cdots & 0 & 0 & 0\\\\\n",
    "\\vdots & \\vdots & \\vdots & \\vdots & \\cdots & \\vdots & \\vdots & \\vdots\\\\\n",
    "0 & 0 & 0 & 0 & \\cdots & 0 & -\\alpha_{1} & 1\n",
    "\\end{array}\\right]}}\\left[\\begin{array}{c}\n",
    "y_{1}\\\\\n",
    "y_{2}\\\\\n",
    "y_{3}\\\\\n",
    "y_{4}\\\\\n",
    "\\vdots\\\\\n",
    "y_{T}\n",
    "\\end{array}\\right]=\\underset{\\equiv b}{\\underbrace{\\left[\\begin{array}{c}\n",
    "\\alpha_{0}+\\alpha_{1}y_{0}\\\\\n",
    "\\alpha_{0}\\\\\n",
    "\\alpha_{0}\\\\\n",
    "\\alpha_{0}\\\\\n",
    "\\vdots\\\\\n",
    "\\alpha_{0}\n",
    "\\end{array}\\right]}}\n",
    "$$\n",
    "\n",
    "or\n",
    "\n",
    "$$\n",
    "A y = b\n",
    "$$\n",
    "\n",
    "where\n",
    "\n",
    "$$\n",
    "y = \\begin{bmatrix} y_1 \\cr y_2 \\cr \\vdots \\cr y_T \\end{bmatrix}\n",
    "$$"
   ]
  },
  {
   "cell_type": "code",
   "execution_count": null,
   "id": "466adba1-254b-47d7-9540-1c01a5e905f1",
   "metadata": {},
   "outputs": [],
   "source": [
    "# Parameters\n",
    "\n",
    "T = 20\n",
    "\n",
    "𝛼0 = 5.0\n",
    "𝛼1 = 1.2\n",
    "\n",
    "y0 = 1.0"
   ]
  },
  {
   "cell_type": "code",
   "execution_count": null,
   "id": "0b36de1a-623a-4a02-889b-e57221b7c2b6",
   "metadata": {},
   "outputs": [],
   "source": [
    "# TODO: Write your solution here"
   ]
  }
 ],
 "metadata": {
  "kernelspec": {
   "display_name": "Python 3 (ipykernel)",
   "language": "python",
   "name": "python3"
  },
  "language_info": {
   "codemirror_mode": {
    "name": "ipython",
    "version": 3
   },
   "file_extension": ".py",
   "mimetype": "text/x-python",
   "name": "python",
   "nbconvert_exporter": "python",
   "pygments_lexer": "ipython3",
   "version": "3.10.12"
  }
 },
 "nbformat": 4,
 "nbformat_minor": 5
}
