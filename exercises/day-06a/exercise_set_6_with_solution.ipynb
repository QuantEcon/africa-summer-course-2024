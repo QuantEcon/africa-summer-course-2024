{
 "cells": [
  {
   "cell_type": "markdown",
   "id": "2cebb81f",
   "metadata": {},
   "source": [
    "# Exercise Set: Review of Week 1"
   ]
  },
  {
   "cell_type": "markdown",
   "id": "a83d55a6-daad-4404-8ef1-30f113f1828a",
   "metadata": {},
   "source": [
    "<div align=\"right\"><button><a href=\"https://colab.research.google.com/github/QuantEcon/africa-summer-course-2024/blob/main/exercises/day-06a/exercise_set_6_with_solution.ipynb\"><img src=\"\" heght=\"10px\"/><img\n",
    "  src=\"https://colab.research.google.com/assets/colab-badge.svg\"\n",
    "  alt=\"open with Colab\" width=\"100px\"/></a></button></div>"
   ]
  },
  {
   "cell_type": "markdown",
   "id": "ccaad8ac",
   "metadata": {},
   "source": [
    "#### Written for the QuantEcon Africa Summer Course (July 2024)\n",
    "#### Author: [John Stachurski](http://johnstachurski.net/), [Hengcheng Zhang](https://github.com/HengchengZhang), and [Smit Lunagariya](https://github.com/Smit-create)"
   ]
  },
  {
   "cell_type": "code",
   "execution_count": null,
   "id": "cfebd2a0",
   "metadata": {},
   "outputs": [],
   "source": [
    "import numpy as np"
   ]
  },
  {
   "cell_type": "markdown",
   "id": "dab638d6",
   "metadata": {},
   "source": [
    "### Exercise 1"
   ]
  },
  {
   "cell_type": "markdown",
   "id": "a872c861",
   "metadata": {},
   "source": [
    "1. How do you assign the value `10` to a variable named `a`?\n",
    "2. How do you assign `10` to `a` and `20` to `b` in one line?"
   ]
  },
  {
   "cell_type": "markdown",
   "id": "33ec6a0b",
   "metadata": {},
   "source": [
    "### Solution"
   ]
  },
  {
   "cell_type": "code",
   "execution_count": null,
   "id": "c0f70dc0",
   "metadata": {},
   "outputs": [],
   "source": [
    "a = 10\n",
    "a, b = 10, 20"
   ]
  },
  {
   "cell_type": "markdown",
   "id": "e1945ded",
   "metadata": {},
   "source": [
    "### Exercise 2"
   ]
  },
  {
   "cell_type": "markdown",
   "id": "bdb9f7eb",
   "metadata": {},
   "source": [
    "What are the types of the following variables `a`, `b` and `c`?"
   ]
  },
  {
   "cell_type": "code",
   "execution_count": null,
   "id": "4344370e",
   "metadata": {},
   "outputs": [],
   "source": [
    "a = 1\n",
    "b = 4.3\n",
    "c = \"Hi there and welcome to the workshop\""
   ]
  },
  {
   "cell_type": "markdown",
   "id": "e6eb8d17",
   "metadata": {},
   "source": [
    "### Solution"
   ]
  },
  {
   "cell_type": "code",
   "execution_count": null,
   "id": "d14b552b",
   "metadata": {},
   "outputs": [],
   "source": [
    "print(type(a))"
   ]
  },
  {
   "cell_type": "code",
   "execution_count": null,
   "id": "48dd12d5",
   "metadata": {},
   "outputs": [],
   "source": [
    "print(type(b))"
   ]
  },
  {
   "cell_type": "code",
   "execution_count": null,
   "id": "8690da8e",
   "metadata": {},
   "outputs": [],
   "source": [
    "print(type(c))"
   ]
  },
  {
   "cell_type": "markdown",
   "id": "1b6a1b58",
   "metadata": {},
   "source": [
    "Here `int` indicates integers, `float` floating-point-numbers, and `str` strings."
   ]
  },
  {
   "cell_type": "markdown",
   "id": "c49a93eb",
   "metadata": {},
   "source": [
    "Please also note that we are using the `print()` function here to print out our results.\n",
    "\n",
    "However, Jupyter Notebook has a default cell output, which allows us to print out the last variable without the `print()` function."
   ]
  },
  {
   "cell_type": "code",
   "execution_count": null,
   "id": "6a991b9a",
   "metadata": {},
   "outputs": [],
   "source": [
    "type(a)"
   ]
  },
  {
   "cell_type": "markdown",
   "id": "fcf6c7da",
   "metadata": {},
   "source": [
    "We will be using this feature much in this workshop."
   ]
  },
  {
   "cell_type": "markdown",
   "id": "9080d058",
   "metadata": {},
   "source": [
    "### Exercise 3\n",
    "\n",
    "Using the variable `c` how can you access the *second character* in the sentence `\"Hi there and welcome to the workshop\"` (which is `i`).\n",
    "\n"
   ]
  },
  {
   "cell_type": "markdown",
   "id": "938223a2",
   "metadata": {},
   "source": [
    "### Solution"
   ]
  },
  {
   "cell_type": "code",
   "execution_count": null,
   "id": "7e5b58d3",
   "metadata": {},
   "outputs": [],
   "source": [
    "c[1]  # use 1 to get the second element, since Python indices start from zero"
   ]
  },
  {
   "cell_type": "markdown",
   "id": "b092f809",
   "metadata": {},
   "source": [
    "### Exercise 4\n",
    "\n",
    "Using string methods, how can you capitalize each word in the sentence `\"Hi there and welcome to the workshop\"` ?"
   ]
  },
  {
   "cell_type": "markdown",
   "id": "befbc899",
   "metadata": {},
   "source": [
    "### Solution"
   ]
  },
  {
   "cell_type": "code",
   "execution_count": null,
   "id": "8032994e",
   "metadata": {},
   "outputs": [],
   "source": [
    "c.title()"
   ]
  },
  {
   "cell_type": "markdown",
   "id": "0ecc82ab",
   "metadata": {},
   "source": [
    "### Exercise 5\n",
    "\n",
    "How can you split the sentence into a list of words such as `['Hi', 'there', ...]`"
   ]
  },
  {
   "cell_type": "markdown",
   "id": "ddaec2ba",
   "metadata": {},
   "source": [
    "### Solution"
   ]
  },
  {
   "cell_type": "code",
   "execution_count": null,
   "id": "14937e8e",
   "metadata": {},
   "outputs": [],
   "source": [
    "c.split()"
   ]
  },
  {
   "cell_type": "markdown",
   "id": "d6637060",
   "metadata": {},
   "source": [
    "### Exercise 6"
   ]
  },
  {
   "cell_type": "markdown",
   "id": "4c3f4213",
   "metadata": {},
   "source": [
    "Write a function `square` that returns the square of its argument $f(x) = x^2$"
   ]
  },
  {
   "cell_type": "code",
   "execution_count": null,
   "id": "aace2776",
   "metadata": {},
   "outputs": [],
   "source": [
    "def square(x):\n",
    "    # TODO: Finish this function\n",
    "    pass"
   ]
  },
  {
   "cell_type": "markdown",
   "id": "1691a446",
   "metadata": {},
   "source": [
    "### Solution"
   ]
  },
  {
   "cell_type": "code",
   "execution_count": null,
   "id": "26d75f84",
   "metadata": {},
   "outputs": [],
   "source": [
    "def square(x):\n",
    "    return x**2 "
   ]
  },
  {
   "cell_type": "markdown",
   "id": "8219a540",
   "metadata": {},
   "source": [
    "**You can check your code using the following tests**"
   ]
  },
  {
   "cell_type": "code",
   "execution_count": null,
   "id": "b247ced6",
   "metadata": {},
   "outputs": [],
   "source": [
    "square(1) == 1"
   ]
  },
  {
   "cell_type": "code",
   "execution_count": null,
   "id": "7f7ef9fd",
   "metadata": {},
   "outputs": [],
   "source": [
    "square(-5) == 25"
   ]
  },
  {
   "cell_type": "markdown",
   "id": "b3e24ea7",
   "metadata": {},
   "source": [
    "### Exercise 7\n",
    "\n",
    "Use a `for` loop and the `square` function to print the square of each element of the list `[1,5,10,20]`"
   ]
  },
  {
   "cell_type": "code",
   "execution_count": null,
   "id": "8a83338d",
   "metadata": {},
   "outputs": [],
   "source": [
    "nums = [1, 5, 10, 20]\n",
    "\n",
    "# TODO: Comment out and complete the following code"
   ]
  },
  {
   "cell_type": "markdown",
   "id": "8bc11bb5",
   "metadata": {},
   "source": [
    "### Solution"
   ]
  },
  {
   "cell_type": "code",
   "execution_count": null,
   "id": "4b01ea37",
   "metadata": {},
   "outputs": [],
   "source": [
    "nums = [1, 5, 10, 20]\n",
    "for num in nums:\n",
    "    print(square(num))"
   ]
  },
  {
   "cell_type": "markdown",
   "id": "3fcfa249",
   "metadata": {},
   "source": [
    "### Exercise 8\n",
    "\n",
    "Use a list comprehension, and the `square` function, to print the square of each element of the list `[1,5,10,20]`"
   ]
  },
  {
   "cell_type": "code",
   "execution_count": null,
   "id": "9e68eaf3",
   "metadata": {},
   "outputs": [],
   "source": [
    "nums = [1, 5, 10, 20]\n",
    "\n",
    "# TODO: Comment out and complete the following code"
   ]
  },
  {
   "cell_type": "markdown",
   "id": "f7f55711",
   "metadata": {},
   "source": [
    "### Solution"
   ]
  },
  {
   "cell_type": "code",
   "execution_count": null,
   "id": "1740208d",
   "metadata": {},
   "outputs": [],
   "source": [
    "nums = [1, 5, 10, 20]\n",
    "[square(x) for x in nums]"
   ]
  },
  {
   "cell_type": "markdown",
   "id": "b324a686",
   "metadata": {},
   "source": [
    "### Exercise 9"
   ]
  },
  {
   "cell_type": "markdown",
   "id": "7315ae3a",
   "metadata": {},
   "source": [
    "Use the python `range` function to construct a list of 20 numbers from `0` to `19`"
   ]
  },
  {
   "cell_type": "markdown",
   "id": "a6ad1d74",
   "metadata": {},
   "source": [
    "### Solution"
   ]
  },
  {
   "cell_type": "code",
   "execution_count": null,
   "id": "55e2f914",
   "metadata": {},
   "outputs": [],
   "source": [
    "list(range(20))"
   ]
  },
  {
   "cell_type": "markdown",
   "id": "d2fb4090",
   "metadata": {},
   "source": [
    "### Exercise 10\n",
    "\n",
    "If you run the following code, what do you think the `range(0,20)` object is, and why is a list of values not given?"
   ]
  },
  {
   "cell_type": "code",
   "execution_count": null,
   "id": "3398a147",
   "metadata": {
    "scrolled": true
   },
   "outputs": [],
   "source": [
    "range(20)"
   ]
  },
  {
   "cell_type": "markdown",
   "id": "2630aee2",
   "metadata": {},
   "source": [
    "### Solution"
   ]
  },
  {
   "cell_type": "raw",
   "id": "2d004597",
   "metadata": {},
   "source": [
    "The python function range returns an object that represents the range of values that have been defined when called.\n",
    "It needs to be iterated over to actually produce the list of values in memory.\n",
    "Please note that Python index starts from 0."
   ]
  },
  {
   "cell_type": "markdown",
   "id": "d3b45136",
   "metadata": {},
   "source": [
    "### Exercise 11\n",
    "\n",
    "Build a `numpy` array containing values from `0` to `19` and save it in the variable `c`."
   ]
  },
  {
   "cell_type": "markdown",
   "id": "ad71af9b",
   "metadata": {},
   "source": [
    "### Solution"
   ]
  },
  {
   "cell_type": "code",
   "execution_count": null,
   "id": "b49b08e5",
   "metadata": {},
   "outputs": [],
   "source": [
    "c = np.array(range(20))\n",
    "c"
   ]
  },
  {
   "cell_type": "markdown",
   "id": "a01558b8",
   "metadata": {},
   "source": [
    "### Exercise 12"
   ]
  },
  {
   "cell_type": "markdown",
   "id": "28f1e83d",
   "metadata": {},
   "source": [
    "Using `plot` method in `matplotlib`, plot the data defined in `d = np.array(range(20))`"
   ]
  },
  {
   "cell_type": "code",
   "execution_count": null,
   "id": "4e48b921",
   "metadata": {},
   "outputs": [],
   "source": [
    "import matplotlib.pyplot as plt"
   ]
  },
  {
   "cell_type": "markdown",
   "id": "e50029ab",
   "metadata": {},
   "source": [
    "### Solution"
   ]
  },
  {
   "cell_type": "code",
   "execution_count": null,
   "id": "3d9aed5f",
   "metadata": {},
   "outputs": [],
   "source": [
    "d = np.array(range(20))"
   ]
  },
  {
   "cell_type": "code",
   "execution_count": null,
   "id": "11ae88d3",
   "metadata": {},
   "outputs": [],
   "source": [
    "fig, ax = plt.subplots()\n",
    "ax.plot(d)\n",
    "plt.show()"
   ]
  },
  {
   "cell_type": "markdown",
   "id": "f37a8aa9",
   "metadata": {},
   "source": [
    "### Exercise 13\n",
    "\n",
    "Now, plot the square of the values in `d` using $f(x) = x^2$"
   ]
  },
  {
   "cell_type": "markdown",
   "id": "41dc943e",
   "metadata": {},
   "source": [
    "### Solution"
   ]
  },
  {
   "cell_type": "code",
   "execution_count": null,
   "id": "eb695613",
   "metadata": {},
   "outputs": [],
   "source": [
    "fig, ax = plt.subplots()\n",
    "ax.plot(d**2)\n",
    "plt.show()"
   ]
  },
  {
   "cell_type": "code",
   "execution_count": null,
   "id": "a0ff8b8f",
   "metadata": {},
   "outputs": [],
   "source": [
    "# You could also use your square function\n",
    "fig, ax = plt.subplots()\n",
    "ax.plot(square(d))\n",
    "plt.show()"
   ]
  },
  {
   "cell_type": "markdown",
   "id": "23a815e1-07a8-4972-8a9f-70abc3e9fca0",
   "metadata": {},
   "source": [
    "# Python and Linear Algebra"
   ]
  },
  {
   "cell_type": "code",
   "execution_count": null,
   "id": "2c584f13-1e7b-4d05-b170-7cde3039a6d5",
   "metadata": {},
   "outputs": [],
   "source": [
    "import numpy as np\n",
    "import matplotlib.pyplot as plt\n",
    "from scipy.linalg import eig\n",
    "from numpy.random import randn"
   ]
  },
  {
   "cell_type": "markdown",
   "id": "5a47bdd4-0d14-4e72-904e-d666d034c586",
   "metadata": {},
   "source": [
    "### Exercise 14\n",
    "\n",
    "Complete the following function that returns the number of odd elements in the given list."
   ]
  },
  {
   "cell_type": "code",
   "execution_count": null,
   "id": "192b8681-f446-44fd-b067-c45d00371813",
   "metadata": {},
   "outputs": [],
   "source": [
    "def get_odd_num_from_list(nums):\n",
    "    c = 0\n",
    "    for num in nums:\n",
    "        if num%2 == 1:\n",
    "            c += 1\n",
    "    return c"
   ]
  },
  {
   "cell_type": "code",
   "execution_count": null,
   "id": "c380ede6-6679-45a1-9cd3-7225b111ced3",
   "metadata": {},
   "outputs": [],
   "source": [
    "# Test the solution\n",
    "try:\n",
    "    assert get_odd_num_from_list([1, 2, 3]) == 2\n",
    "    assert get_odd_num_from_list(list(range(1, 20))) == 10\n",
    "    assert get_odd_num_from_list(list(range(0, 20, 2))) == 0\n",
    "    print(\"Congratulations!\")\n",
    "except:\n",
    "    print(\"Wrong answer, please check your code again.\")"
   ]
  },
  {
   "cell_type": "markdown",
   "id": "b6cf47c6-6313-45bb-99a5-d7964fdec4b0",
   "metadata": {},
   "source": [
    "### Exercise 15\n",
    "\n",
    "Consider the following time-series\n",
    "\n",
    "$$\n",
    "    a_{t+1} = (0.5 + r)a_t - br^2a_t\n",
    "$$\n",
    "\n",
    "Assume that $r=0.05$, $b=100$ and $a_0=1.5$.\n",
    "\n",
    "Generate and plot the sequence $a_0, a_1, ..., a_T$.\n",
    "\n",
    "Use NumPy arrays to store the sequence $a$.\n",
    "\n",
    "Use $T=25$.\n",
    "\n",
    "### Solution"
   ]
  },
  {
   "cell_type": "code",
   "execution_count": null,
   "id": "124b5573-5497-43aa-8038-d6bf895feb45",
   "metadata": {},
   "outputs": [],
   "source": [
    "r = 0.05\n",
    "T = 25\n",
    "a = np.empty(T+1)\n",
    "b = 100\n",
    "a[0] = 1.5\n",
    "\n",
    "for t in range(T):\n",
    "    a[t+1] = (0.5 + r) * a[t] - b * r**2 * a[t]\n",
    "\n",
    "plt.plot(a, label='a')\n",
    "plt.legend()\n",
    "plt.show()"
   ]
  },
  {
   "cell_type": "markdown",
   "id": "7c1ae20a-c554-45b5-876b-e83a7dde9909",
   "metadata": {},
   "source": [
    "### Exercise 16\n",
    "\n",
    "Warm up on NumPy Basics.\n",
    "\n",
    "Feel free to refer to the [numpy documentation](https://numpy.org/doc/stable/reference/index.html) for API."
   ]
  },
  {
   "cell_type": "markdown",
   "id": "a3f34743-5a39-402d-92e0-b85a56ac798b",
   "metadata": {},
   "source": [
    "**Exercise 16.1**: Write a function that creates numpy array from the given list/tuple."
   ]
  },
  {
   "cell_type": "code",
   "execution_count": null,
   "id": "d7f8d187-0806-421a-b097-fcec0121e348",
   "metadata": {},
   "outputs": [],
   "source": [
    "def create_array(x):\n",
    "    return np.array(x)"
   ]
  },
  {
   "cell_type": "code",
   "execution_count": null,
   "id": "e44327c8-6a4d-4945-83ce-d77e7ea56740",
   "metadata": {},
   "outputs": [],
   "source": [
    "# Test the solution\n",
    "try:\n",
    "    assert type(create_array([1, 2, 3])) == np.ndarray\n",
    "    assert type(create_array((1, 2, 3))) == np.ndarray\n",
    "    print(\"Congratulations!\")\n",
    "except:\n",
    "    print(\"Wrong answer, please check your code again.\")"
   ]
  },
  {
   "cell_type": "markdown",
   "id": "ab9d126e-1798-4842-bb65-40f0cdd148e0",
   "metadata": {},
   "source": [
    "**Exercise 16.2**: Write a function to return the transpose of the given matrix."
   ]
  },
  {
   "cell_type": "code",
   "execution_count": null,
   "id": "3b3568e6-d78c-4bbb-8361-320d36cf3eb6",
   "metadata": {},
   "outputs": [],
   "source": [
    "def get_transpose(x):\n",
    "    return x.T"
   ]
  },
  {
   "cell_type": "code",
   "execution_count": null,
   "id": "213fb29f-aff8-41ce-889e-daee503d5133",
   "metadata": {},
   "outputs": [],
   "source": [
    "# Test the solution\n",
    "try:\n",
    "    assert np.allclose(get_transpose(np.arange(6).reshape((3,2))), np.array([[0, 2, 4], [1, 3, 5]]))\n",
    "    print(\"Congratulations!\")\n",
    "except:\n",
    "    print(\"Wrong answer, please check your code again.\")"
   ]
  },
  {
   "cell_type": "markdown",
   "id": "9b45f3c5-b28a-498d-a0eb-444f65dad8de",
   "metadata": {},
   "source": [
    "**Exercise 16.3**: Write a function to return the inverse of the given matrix."
   ]
  },
  {
   "cell_type": "code",
   "execution_count": null,
   "id": "58c1a0b9-b34a-4bd9-a135-e24b690f16bb",
   "metadata": {},
   "outputs": [],
   "source": [
    "def get_inverse(x):\n",
    "    return np.linalg.inv(x)"
   ]
  },
  {
   "cell_type": "code",
   "execution_count": null,
   "id": "dbee2d0a-0583-4301-b0c3-1d05f7749a86",
   "metadata": {},
   "outputs": [],
   "source": [
    "# Test the solution\n",
    "a_test = np.array([[1., 2.], [3., 4.]])\n",
    "a_test_inv = get_inverse(a_test)\n",
    "try:\n",
    "    assert np.allclose(np.dot(a_test, a_test_inv), np.eye(2))\n",
    "    print(\"Congratulations!\")\n",
    "except:\n",
    "    print(\"Wrong answer, please check your code again.\")"
   ]
  },
  {
   "cell_type": "markdown",
   "id": "5c47b54f-2ea3-45aa-9496-e3bbe6530cda",
   "metadata": {},
   "source": [
    "**Exercise 16.4**: Write a function to compute the norm of the vector."
   ]
  },
  {
   "cell_type": "code",
   "execution_count": null,
   "id": "182f0c39-986f-424a-89b9-edf571d39cf6",
   "metadata": {},
   "outputs": [],
   "source": [
    "def get_norm(x):\n",
    "    return np.linalg.norm(x)"
   ]
  },
  {
   "cell_type": "code",
   "execution_count": null,
   "id": "7a8aac74-8dfd-406c-9fac-151c596b120e",
   "metadata": {},
   "outputs": [],
   "source": [
    "# Test the solution\n",
    "try:\n",
    "    assert np.allclose(get_norm([1, 2, 2, 4, 12, 5]), 13.92838827718412)\n",
    "    print(\"Congratulations!\")\n",
    "except:\n",
    "    print(\"Wrong answer, please check your code again.\")"
   ]
  },
  {
   "cell_type": "markdown",
   "id": "90b445fc-374d-490e-8e3e-52a193423ebc",
   "metadata": {},
   "source": [
    "**Exercise 16.5**: Write a function that returns the standardized vector of the given vector such that the mean is $0$ and standard deviation is $1$. Mathematically:\n",
    "$$\n",
    "\\forall x_{i}\\in x:\\hspace{1em}x_{i}^{\\prime}=\\frac{x_{i}-\\mu}{\\sigma}\n",
    "$$"
   ]
  },
  {
   "cell_type": "code",
   "execution_count": null,
   "id": "9ac540c9-bdf6-4610-9a9b-9f698b4077d6",
   "metadata": {},
   "outputs": [],
   "source": [
    "def standardize(x):\n",
    "    mean, std = x.mean(), x.std()\n",
    "    return (x - mean) / std"
   ]
  },
  {
   "cell_type": "code",
   "execution_count": null,
   "id": "69067454-aa52-4ba0-8c54-2ca1557cd297",
   "metadata": {},
   "outputs": [],
   "source": [
    "# Test the solution\n",
    "a_test = np.random.randint(100, 2000, size=1000)\n",
    "a_test_stdz = standardize(a_test)\n",
    "try:\n",
    "    assert np.isclose(a_test_stdz.mean(), 0)\n",
    "    assert np.isclose(a_test_stdz.std(), 1)\n",
    "    print(\"Congratulations!\")\n",
    "except:\n",
    "    print(\"Wrong answer, please check your code again.\")"
   ]
  },
  {
   "cell_type": "markdown",
   "id": "029aa337-fe83-47bc-94d7-e51b8c3fde22",
   "metadata": {},
   "source": [
    "### Exercise 17\n",
    "\n",
    "**Exercise 17.1**: Write a function that takes two numpy vectors as an argument and returns `True` if they are orthogonal else returns `False`.\n",
    "\n",
    "*Note: Two vectors are called orthogonal if their inner product is zero.*"
   ]
  },
  {
   "cell_type": "code",
   "execution_count": null,
   "id": "5b77dbb5-bcf9-498d-9af3-078340ee6b63",
   "metadata": {},
   "outputs": [],
   "source": [
    "def is_orthogonal(x, y):\n",
    "    return np.allclose(x.T @ y, 0)"
   ]
  },
  {
   "cell_type": "code",
   "execution_count": null,
   "id": "a5784807-6c06-4127-92b3-699de3152627",
   "metadata": {},
   "outputs": [],
   "source": [
    "# Test the solution\n",
    "try:\n",
    "    assert is_orthogonal(np.array([0, 1, 0, -2, 4]), np.array([-1, -4, 1, 2, 2]))\n",
    "    assert not is_orthogonal(np.array([0, 1, 0, -2, 4]), np.array([-1, -4, 1, 2, 4]))\n",
    "    print(\"Congratulations!\")\n",
    "except:\n",
    "    print(\"Wrong answer, please check your code again.\")"
   ]
  },
  {
   "cell_type": "markdown",
   "id": "5eb2e23d-cc0b-4992-9134-0936f31a7339",
   "metadata": {},
   "source": [
    "**Exercise 17.2**: Write a function to check whether the given matrix is symmetric or not."
   ]
  },
  {
   "cell_type": "code",
   "execution_count": null,
   "id": "dff168f2-0480-491d-a102-207dccddfcba",
   "metadata": {},
   "outputs": [],
   "source": [
    "def is_symmetric(x):\n",
    "    if x.shape[0] != x.shape[1]:\n",
    "        return False\n",
    "    return np.allclose(x.T, x)"
   ]
  },
  {
   "cell_type": "code",
   "execution_count": null,
   "id": "402d9a26-cf75-4374-8ea1-31ce18525087",
   "metadata": {},
   "outputs": [],
   "source": [
    "# Test the solution\n",
    "try:\n",
    "    assert is_symmetric(np.eye(3))\n",
    "    assert is_symmetric(np.array([[1, 3], [3, 1]]))\n",
    "    assert not is_symmetric(np.array([[0, 1, 0, -2, 4], [-1, -4, 1, 2, 2]]))\n",
    "    print(\"Congratulations!\")\n",
    "except:\n",
    "    print(\"Wrong answer, please check your code again.\")"
   ]
  },
  {
   "cell_type": "markdown",
   "id": "f4c71bbe-5ecd-44d9-ac10-b09bb1fd9723",
   "metadata": {},
   "source": [
    "### Exercise 18\n",
    "\n",
    "Please refer to this [quantecon lecture](https://intro.quantecon.org/time_series_with_matrices.html) before solving this exercise.\n",
    "\n",
    "Let $ t = 0, \\pm 1, \\pm 2, \\ldots $ index time.\n",
    "\n",
    "For $ t = 1, 2, 3, \\ldots, T $ suppose that\n",
    "\n",
    "\n",
    "\n",
    "$$\n",
    "y_{t} = \\alpha_{0} + \\alpha_{1} y_{t-1}\n",
    "$$\n",
    "\n",
    "where we assume that $ y_0 = 1$, $\\alpha_{0}=5$, and $\\alpha_{1}=1.2$.\n",
    "\n",
    "\n",
    "Use the matrix algebra to solve the above time series equation, and plot the solution.\n",
    "\n",
    "*Hint:*\n",
    "\n",
    "\n",
    "*Let’s write our equations as a stacked system*\n",
    "\n",
    "$$\n",
    "\\underset{\\equiv A}{\\underbrace{\\left[\\begin{array}{cccccccc}\n",
    "1 & 0 & 0 & 0 & \\cdots & 0 & 0 & 0\\\\\n",
    "-\\alpha_{1} & 1 & 0 & 0 & \\cdots & 0 & 0 & 0\\\\\n",
    "0 & -\\alpha_{1} & 1 & 0 & \\cdots & 0 & 0 & 0\\\\\n",
    "0 & 0 & -\\alpha_{1} & 1 & \\cdots & 0 & 0 & 0\\\\\n",
    "\\vdots & \\vdots & \\vdots & \\vdots & \\cdots & \\vdots & \\vdots & \\vdots\\\\\n",
    "0 & 0 & 0 & 0 & \\cdots & 0 & -\\alpha_{1} & 1\n",
    "\\end{array}\\right]}}\\left[\\begin{array}{c}\n",
    "y_{1}\\\\\n",
    "y_{2}\\\\\n",
    "y_{3}\\\\\n",
    "y_{4}\\\\\n",
    "\\vdots\\\\\n",
    "y_{T}\n",
    "\\end{array}\\right]=\\underset{\\equiv b}{\\underbrace{\\left[\\begin{array}{c}\n",
    "\\alpha_{0}+\\alpha_{1}y_{0}\\\\\n",
    "\\alpha_{0}\\\\\n",
    "\\alpha_{0}\\\\\n",
    "\\alpha_{0}\\\\\n",
    "\\vdots\\\\\n",
    "\\alpha_{0}\n",
    "\\end{array}\\right]}}\n",
    "$$\n",
    "\n",
    "or\n",
    "\n",
    "$$\n",
    "A y = b\n",
    "$$\n",
    "\n",
    "where\n",
    "\n",
    "$$\n",
    "y = \\begin{bmatrix} y_1 \\cr y_2 \\cr \\vdots \\cr y_T \\end{bmatrix}\n",
    "$$"
   ]
  },
  {
   "cell_type": "code",
   "execution_count": null,
   "id": "a7c34bb2-8668-430c-927c-5f4648c1d87e",
   "metadata": {},
   "outputs": [],
   "source": [
    "# Parameters\n",
    "\n",
    "T = 20\n",
    "\n",
    "𝛼0 = 5.0\n",
    "𝛼1 = 1.2\n",
    "\n",
    "y0 = 1.0"
   ]
  },
  {
   "cell_type": "code",
   "execution_count": null,
   "id": "63c147f2-03b8-4594-927a-bbc3ab67123f",
   "metadata": {},
   "outputs": [],
   "source": [
    "A = np.identity(T)  # The T x T identity matrix\n",
    "\n",
    "for i in range(T):\n",
    "    if i-1 >= 0:\n",
    "        A[i, i-1] = -𝛼1\n",
    "\n",
    "b = np.full(T, 𝛼0)\n",
    "b[0] = 𝛼0 + 𝛼1 * y0\n",
    "\n",
    "y = np.linalg.solve(A, b)\n",
    "\n",
    "plt.plot(np.arange(T) + 1, y)\n",
    "plt.xlabel('t')\n",
    "plt.ylabel('y')\n",
    "\n",
    "plt.show()"
   ]
  }
 ],
 "metadata": {
  "kernelspec": {
   "display_name": "Python 3 (ipykernel)",
   "language": "python",
   "name": "python3"
  },
  "language_info": {
   "codemirror_mode": {
    "name": "ipython",
    "version": 3
   },
   "file_extension": ".py",
   "mimetype": "text/x-python",
   "name": "python",
   "nbconvert_exporter": "python",
   "pygments_lexer": "ipython3",
   "version": "3.10.12"
  }
 },
 "nbformat": 4,
 "nbformat_minor": 5
}
