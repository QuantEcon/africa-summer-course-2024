{
 "cells": [
  {
   "cell_type": "markdown",
   "id": "c7b2d6a3-9574-4359-b3cd-ccb28c6d6116",
   "metadata": {},
   "source": [
    "# Python Fundamentals IV - Iteration and Functions\n",
    "\n",
    "In this exercise notebook we will cover\n",
    "\n",
    "1. Iteration\n",
    "   - the `while` loop\n",
    "2. Functions\n",
    "   - Know how to define your own function  \n",
    "   - Know how to find and write your own function documentation  \n",
    "   - Know why we use functions  \n",
    "   - Understand scoping rules and blocks \n",
    "   - Understand function arguments with default values\n",
    "   - Know how to set function argument values by position or name\n",
    "3. Applications: Economic Production Functions  \n",
    "   - Understand the basics of production functions in economics "
   ]
  },
  {
   "cell_type": "markdown",
   "id": "a46b34ea-6dbc-4e63-bb4b-9fb69888e163",
   "metadata": {},
   "source": [
    "## Iteration - `while` Loops\n",
    "\n",
    "A related but slightly different form of iteration is to repeat something\n",
    "until some condition is met.\n",
    "\n",
    "This is typically achieved using a `while` loop.\n",
    "\n",
    "The structure of a while loop is\n",
    "\n",
    "```python\n",
    "while True_condition:\n",
    "    # repeat these steps\n",
    "```\n",
    "\n",
    "where `True_condition` is some conditional statement that should evaluate to\n",
    "`True` when iterations should continue and `False` when Python should stop\n",
    "iterating.\n",
    "\n",
    "For example, suppose we wanted to know the smallest `N` such that\n",
    "$ \\sum_{i=0}^N i > 1000 $.\n",
    "\n",
    "We figure this out using a while loop as follows.\n"
   ]
  },
  {
   "cell_type": "code",
   "execution_count": null,
   "id": "44dfdbad-0a7b-4e90-9b45-765d825f0f3c",
   "metadata": {},
   "outputs": [],
   "source": [
    "total = 0\n",
    "i = 0\n",
    "\n",
    "while total <= 1000:\n",
    "    i = i + 1\n",
    "    total = total + i\n",
    "\n",
    "print(\"The answer is\", i)"
   ]
  },
  {
   "cell_type": "markdown",
   "id": "46407746-e2a5-4dca-b6df-7d90ac086afe",
   "metadata": {},
   "source": [
    "Let’s check our work."
   ]
  },
  {
   "cell_type": "code",
   "execution_count": null,
   "id": "70957c3f-e6cd-435c-b8e6-a314af6b25b4",
   "metadata": {},
   "outputs": [],
   "source": [
    "# Should be just less than 1000 because range(45) goes from 0 to 44\n",
    "sum(range(44 + 1))"
   ]
  },
  {
   "cell_type": "code",
   "execution_count": null,
   "id": "478ce9bb-1fa7-46ef-aab7-e2f5bb53d21d",
   "metadata": {},
   "outputs": [],
   "source": [
    "# should be between 990 + 45 = 1035\n",
    "sum(range(45 + 1))"
   ]
  },
  {
   "cell_type": "markdown",
   "id": "89fd61a9-399c-4c67-968d-3ba33f80252a",
   "metadata": {},
   "source": [
    "**Exercise 1:** Calculating Net Present Value\n",
    "\n",
    "Companies often invest in training their employees to raise their productivity. Economists sometimes wonder why companies spend this money when this incentivizes other companies to hire their employees away with higher salaries since employees gain human capital from training?\n",
    "\n",
    "Let's say that it costs a company \\$25,000 dollars to teach their employees Python, but it raises their output by \\$2,500 per month. \n",
    "\n",
    "How many months would an employee need to stay for the company to find it profitable to pay for their employees to learn Python if their monthly discount rate is r = 0.01?\n",
    "\n",
    "**Reminder: Net Present Value**\n",
    "\n",
    "When deciding the price to pay for an asset or how to choose between\n",
    "different alternatives, we need to take into account that most people would\n",
    "prefer to receive \\$1 today vs. \\$1 next year.\n",
    "\n",
    "This reflection on consumer preferences leads to the notion of a discount rate.\n",
    "If you are indifferent between receiving \\$1.00 today and \\$1.10 next year, then\n",
    "the discount rate over the next year is $r = 0.1$.\n",
    "\n",
    "If we assume that an individuals preferences are consistent over time, then we\n",
    "can apply that same discount rate to valuing assets further into the future.\n",
    "\n",
    "For example, we would expect that the consumer would be indifferent between\n",
    "consuming \\$1.00 today and $ (1+r)(1+r) = 1.21 $ dollars two years from now\n",
    "(i.e. discount twice).\n",
    "\n",
    "Inverting this formula, \\$1.00 delivered two years from now is equivalent to\n",
    "$ \\frac{1}{(1+r)^2} $ today."
   ]
  },
  {
   "cell_type": "markdown",
   "id": "f446b5ad-7417-413b-91b4-741eb3d12ae6",
   "metadata": {},
   "source": [
    "In our example let's compute the total value after 2 months as a net present value using a `while` loop"
   ]
  },
  {
   "cell_type": "code",
   "execution_count": null,
   "id": "7aa546b9-6179-4008-a66f-0a17a868d3e4",
   "metadata": {},
   "outputs": [],
   "source": [
    "r = 0.01\n",
    "added_value = 2_500\n",
    "total_value = 0\n",
    "\n",
    "nmonths = 1\n",
    "while nmonths <= 2:\n",
    "    total_value = total_value + added_value*(1 / (1+r))**nmonths\n",
    "    print(f\"After {nmonths} the total value is {total_value}\")\n",
    "    nmonths = nmonths + 1"
   ]
  },
  {
   "cell_type": "markdown",
   "id": "6c9f16a0-6eb9-4522-bf95-4b4edd41413d",
   "metadata": {},
   "source": [
    "**Exercise 1B:** How many months do you need until the `total_value` (as a net present value) is greater than the `cost`?"
   ]
  },
  {
   "cell_type": "code",
   "execution_count": null,
   "id": "62167843-7d63-4b7d-a539-1aaac86a4181",
   "metadata": {},
   "outputs": [],
   "source": []
  },
  {
   "cell_type": "markdown",
   "id": "6375b9aa-02ae-4f08-a94b-198e1cee822b",
   "metadata": {},
   "source": [
    "**Exercise 1C:** Come up with a condition for the following `while` loop that will return the number of months it takes for the company to break even"
   ]
  },
  {
   "cell_type": "code",
   "execution_count": null,
   "id": "be3c5e20-a30a-4aee-8e76-2a6681a6372b",
   "metadata": {},
   "outputs": [],
   "source": [
    "r = 0.01\n",
    "cost = 25_000\n",
    "added_value = 2_500\n",
    "total_value = 0.0\n",
    "\n",
    "nmonths = 0\n",
    "while False: # TODO: replace False with a condition to evaluate using a while loop#\n",
    "    total_value = total_value + added_value*(1 / (1+r))**nmonths\n",
    "    nmonths = nmonths + 1\n",
    "\n",
    "print(f\"It took {nmonths} months for the company to break even\")"
   ]
  },
  {
   "cell_type": "markdown",
   "id": "5d54f0d0-83ca-4713-8229-b1b386d1c8c5",
   "metadata": {},
   "source": [
    "---"
   ]
  },
  {
   "cell_type": "markdown",
   "id": "11240552-3805-4f15-91e4-6d46e2a7df09",
   "metadata": {},
   "source": [
    "\n",
    "## What are (Python) Functions?\n",
    "\n",
    "In this course, we will often talk about `function`s.\n",
    "\n",
    "So what is a function?\n",
    "\n",
    "We find it helpful to think of a function as a production line in a\n",
    "manufacturing plant: we pass zero or more things to it, operations take place in a\n",
    "set linear sequence, and zero or more things come out.\n",
    "\n",
    "We use functions for the following purposes:\n",
    "\n",
    "- **Re-usability**: Writing code to do a specific task just once, and\n",
    "  reuse the code by calling the function.  \n",
    "- **Organization**: Keep the code for distinct operations separated and\n",
    "  organized.  \n",
    "- **Sharing/collaboration**: Sharing code across multiple projects or\n",
    "  sharing pieces of code with collaborators.\n",
    "- **Quality control**: When logic is captured in a function, we can clearly document and test its behavior"
   ]
  },
  {
   "cell_type": "markdown",
   "id": "2be0f362-ed0b-4b11-8caa-bbe30bd18f07",
   "metadata": {},
   "source": [
    "## How to Define (Python) Functions?\n",
    "\n",
    "The basic syntax to create our own function is as follows:\n",
    "\n",
    "```python\n",
    "def function_name(inputs):\n",
    "    # step 1\n",
    "    # step 2\n",
    "    # ...\n",
    "    return output(s)\n",
    "```\n",
    "\n",
    "```{tip}\n",
    "Again, indentation and white space is important in python to define the scope of a python function (i.e. the code that belongs the function)\n",
    "```\n",
    "\n",
    "Here we see two new *keywords*: `def` and `return`.\n",
    "\n",
    "- `def` is used to tell Python we would like to define a new function.  \n",
    "- `return` is used to tell Python what we would like to **return** from a\n",
    "  function.\n",
    "\n",
    "Let’s look at an example and then discuss each part:"
   ]
  },
  {
   "cell_type": "code",
   "execution_count": null,
   "id": "fbb22a29-408b-4893-8672-8d10412c715e",
   "metadata": {},
   "outputs": [],
   "source": [
    "def mean(numbers):\n",
    "    total = sum(numbers)\n",
    "    N = len(numbers)\n",
    "    answer = total / N\n",
    "\n",
    "    return answer"
   ]
  },
  {
   "cell_type": "markdown",
   "id": "b840be77-efbf-4fcd-b542-11517f974197",
   "metadata": {},
   "source": [
    "Here we defined a function named `mean` that has one input (`numbers`),\n",
    "does three steps, and has one output (`answer`).\n",
    "\n",
    "Let’s see what happens when we call this function on the list of numbers\n",
    "`[1, 2, 3, 4]`."
   ]
  },
  {
   "cell_type": "code",
   "execution_count": null,
   "id": "6476d48a-d696-454c-b1d6-f123574ab9bb",
   "metadata": {},
   "outputs": [],
   "source": [
    "x = [1, 2, 3, 4]\n",
    "result = mean(x)\n",
    "result"
   ]
  },
  {
   "cell_type": "markdown",
   "id": "c5512f9b-5f48-49d8-be02-8d5cd6bd2813",
   "metadata": {},
   "source": [
    "Let's try a different array like object"
   ]
  },
  {
   "cell_type": "code",
   "execution_count": null,
   "id": "69b4a5db-f8f7-4c75-aa2b-06a05695c4be",
   "metadata": {},
   "outputs": [],
   "source": [
    "import numpy as np\n",
    "x = np.array([1, 2, 3, 4])\n",
    "result = mean(x)\n",
    "result"
   ]
  },
  {
   "cell_type": "markdown",
   "id": "ec551aea-8c56-4b10-850f-355d9e4ed7eb",
   "metadata": {},
   "source": [
    "As you can see, in python you can write code that works (in many cases) on different data types, so long as they behave in the same way.\n",
    "\n",
    "In this case a `list` and an `array` are both array / list-like objects that contain a collection of values"
   ]
  },
  {
   "cell_type": "markdown",
   "id": "745b3c46-d04e-4465-9756-67425c364939",
   "metadata": {},
   "source": [
    "```{tip}\n",
    "Variables that are defined **within** a function are only **in-scope** inside of the function\n",
    "```"
   ]
  },
  {
   "cell_type": "code",
   "execution_count": null,
   "id": "2450b5c6-8cc1-4e77-b541-4ba3db5e84cc",
   "metadata": {},
   "outputs": [],
   "source": [
    "def mean(numbers):\n",
    "    total = sum(numbers)\n",
    "    N = len(numbers)\n",
    "    answer = total / N   # only defined within the scope of the function block\n",
    "\n",
    "    return answer\n",
    "\n",
    "x = [1, 2, 3, 4]\n",
    "result = mean(x)\n",
    "print(answer)"
   ]
  },
  {
   "cell_type": "markdown",
   "id": "4c5596e9-3dd5-4af6-a6c1-d11d9f427029",
   "metadata": {},
   "source": [
    "**Exercise 2:** Why is `answer` not defined here?"
   ]
  },
  {
   "cell_type": "markdown",
   "id": "ae74a7ff-953a-4e8b-ba0b-810b3b7ef3d2",
   "metadata": {},
   "source": []
  },
  {
   "cell_type": "markdown",
   "id": "1be6ce7d-6138-4814-8644-5589fa18b444",
   "metadata": {},
   "source": [
    "**Exercise 3:** In what variable is the result stored for `mean(x)`?"
   ]
  },
  {
   "cell_type": "code",
   "execution_count": null,
   "id": "e310749f-089e-4d17-a765-9fb1a5fd188c",
   "metadata": {},
   "outputs": [],
   "source": []
  },
  {
   "cell_type": "markdown",
   "id": "693e687f-c3f1-4d43-874b-d756deec6a6c",
   "metadata": {},
   "source": [
    "**Exercise 4:** Write a function that takes the last and first name as arguments and prints a welcome message. \n",
    "\n",
    "```python\n",
    "def welcome(first_name, last_name):\n",
    "    # code \n",
    "```"
   ]
  },
  {
   "cell_type": "code",
   "execution_count": null,
   "id": "0ffe113d-8cf4-44ae-a3aa-f948f2adf300",
   "metadata": {},
   "outputs": [],
   "source": []
  },
  {
   "cell_type": "markdown",
   "id": "64d4c653-a0e0-4692-8a11-25bb58593e31",
   "metadata": {},
   "source": [
    "**Exercise 5:** Use your function from *exercise 4* to welcome the following list of people."
   ]
  },
  {
   "cell_type": "code",
   "execution_count": null,
   "id": "eb1c947e-e883-4035-bf12-9d42f9805cc4",
   "metadata": {},
   "outputs": [],
   "source": [
    "names = [('John', 'Smith'), ('Fiona', 'Scott'), ('Barry', 'Bingle')]"
   ]
  },
  {
   "cell_type": "code",
   "execution_count": null,
   "id": "2f47dd68-495e-4b51-b560-3ff060f2f04f",
   "metadata": {},
   "outputs": [],
   "source": []
  },
  {
   "cell_type": "markdown",
   "id": "43c8459b-4520-4650-a328-6da8b79630b2",
   "metadata": {},
   "source": [
    "**Exercise 6:** Write a function that returns the cumulative sum of a list of numbers\n",
    "\n",
    "For $x = [x_1, x_2, ... x_n]$ the cumulative sum is defined as:\n",
    "\n",
    "$$\n",
    "y_k = \\sum_{i=1}^{k}{x_i}\n",
    "$$"
   ]
  },
  {
   "cell_type": "code",
   "execution_count": null,
   "id": "d9975765-9305-45f7-a183-4aa078ab644c",
   "metadata": {},
   "outputs": [],
   "source": [
    "def cumulative_sum(numbers):\n",
    "    # write your code here"
   ]
  },
  {
   "cell_type": "code",
   "execution_count": null,
   "id": "d02d240c-3c26-4f09-8f14-007f5590c796",
   "metadata": {},
   "outputs": [],
   "source": [
    "x = [1,2,3,4]\n",
    "result = cumulative_sum(x)\n",
    "assert result == 10"
   ]
  },
  {
   "cell_type": "markdown",
   "id": "c508f4e0-777b-4798-baae-838ea8b5d043",
   "metadata": {},
   "source": [
    "**Exercise 7:** Write a function that returns a list of the cumulative sum for the whole input vector. \n",
    "\n",
    "For example, if the input was\n",
    "\n",
    "```python\n",
    "x = [1,2,3,4]\n",
    "```\n",
    "\n",
    "then the result would be\n",
    "\n",
    "```python\n",
    "[ 1,  3,  6, 10]\n",
    "```"
   ]
  },
  {
   "cell_type": "code",
   "execution_count": null,
   "id": "28836e02-07ea-40f7-9114-be39f50bf041",
   "metadata": {},
   "outputs": [],
   "source": []
  },
  {
   "cell_type": "markdown",
   "id": "af59773a-0707-49aa-8389-1378d7c2c445",
   "metadata": {},
   "source": [
    "## Application: Production Functions\n",
    "\n",
    "Production functions are useful when modeling the economics of firms producing\n",
    "goods or the aggregate output in an economy.\n",
    "\n",
    "Though the term “function” is used in a mathematical sense here, we will be making\n",
    "tight connections between the programming of mathematical functions and Python\n",
    "functions.\n",
    "\n",
    "### Factors of Production\n",
    "\n",
    "The [factors of production](https://en.wikipedia.org/wiki/Factors_of_production)\n",
    "are the inputs used in the production of a good or service\n",
    "\n",
    "Some example factors of production include\n",
    "\n",
    "- [Physical capital](https://en.wikipedia.org/wiki/Physical_capital), e.g.\n",
    "  machines, buildings, computers, and power stations.  \n",
    "- Labor, e.g. all of the hours of work from different types of employees of a\n",
    "  firm.  \n",
    "- [Human Capital](https://en.wikipedia.org/wiki/Human_capital), e.g. the\n",
    "  knowledge of employees within a firm.\n",
    "\n",
    "A [production function](https://en.wikipedia.org/wiki/Production_function)\n",
    "maps a set of inputs to the output\n",
    "\n",
    "Some examples:\n",
    "\n",
    "- The amount of wheat produced by a farm, given its land area and equipment\n",
    "- The number of widgets produced in a factory given the number of hours worked by employees and machines\n",
    "\n",
    "The following notation will be used throughout\n",
    "\n",
    "- $Y$: Output\n",
    "- $L$: Total labor units\n",
    "- $K$: Physical capital\n",
    "\n",
    "We write a production function $F$, that transforms labor ($L$) and capital ($K$) into output ($Y$) as\n",
    "\n",
    "$$\n",
    "Y = F(K, L)\n",
    "$$\n",
    "\n",
    "### An Example Production Function\n",
    "\n",
    "Throughout this exercise notebook, we will use the\n",
    "[Cobb-Douglas](https://en.wikipedia.org/wiki/Cobb%E2%80%93Douglas_production_function)\n",
    "production function to help us understand how to create Python\n",
    "functions and why they are useful.\n",
    "\n",
    "The Cobb-Douglas production function has appealing statistical properties when brought to data.\n",
    "\n",
    "This function is displayed below.\n",
    "\n",
    "$$\n",
    "Y = z K^{\\alpha} L^{1-\\alpha}\n",
    "$$\n",
    "\n",
    "The function is parameterized by:\n",
    "\n",
    "- A parameter $ \\alpha \\in [0,1] $, called the “output elasticity of\n",
    "  capital”.  \n",
    "- A value $ z $ called the [Total Factor Productivity](https://en.wikipedia.org/wiki/Total_factor_productivity) (TFP).  \n"
   ]
  },
  {
   "cell_type": "markdown",
   "id": "3e42631f-9433-4c54-9a15-cebbd982b21d",
   "metadata": {},
   "source": [
    "Now, we’ll use our new knowledge to define a function which computes the output\n",
    "from a Cobb-Douglas production function with parameters $ z = 1 $ and\n",
    "$ \\alpha = 0.33 $ and takes inputs $ K $ and $ L $."
   ]
  },
  {
   "cell_type": "code",
   "execution_count": null,
   "id": "fd2a049d-2713-4203-8a37-3b1b1b130926",
   "metadata": {},
   "outputs": [],
   "source": [
    "def cobb_douglas(K, L):\n",
    "\n",
    "    # Create alpha and z\n",
    "    z = 1\n",
    "    alpha = 0.33\n",
    "\n",
    "    return z * K**alpha * L**(1 - alpha)"
   ]
  },
  {
   "cell_type": "markdown",
   "id": "b09f1d43-6c05-4c56-ac85-adf9a28748d2",
   "metadata": {},
   "source": [
    "We can use this function as we did the mean function to evaluate any combinations of K and L"
   ]
  },
  {
   "cell_type": "code",
   "execution_count": null,
   "id": "058585a5-10fc-4801-b0a3-cf12cec2518a",
   "metadata": {},
   "outputs": [],
   "source": [
    "cobb_douglas(1.0, 0.5)"
   ]
  },
  {
   "cell_type": "markdown",
   "id": "9d6bd336-8bdf-433d-95d7-fd71f2e0d281",
   "metadata": {},
   "source": [
    "**Exercise 7:** Holding L constant, evaluate the cobb_douglas production function over the following vector of K\n",
    "\n",
    "Hint: You can use a `for` loop"
   ]
  },
  {
   "cell_type": "code",
   "execution_count": null,
   "id": "67f6eb47-259f-4d00-8a5b-2968cfb70214",
   "metadata": {},
   "outputs": [],
   "source": [
    "K = np.arange(0,1,0.1)\n",
    "K"
   ]
  },
  {
   "cell_type": "code",
   "execution_count": null,
   "id": "c8f4a745-1d49-4805-83ba-a237a2f9819b",
   "metadata": {},
   "outputs": [],
   "source": []
  },
  {
   "cell_type": "markdown",
   "id": "1a92fd12-e507-426b-a4f1-3e90927083ae",
   "metadata": {},
   "source": [
    "**Exercise 8:** Holding K constant, evaluate the cobb_douglas production function over the following vector of L"
   ]
  },
  {
   "cell_type": "code",
   "execution_count": null,
   "id": "2f8b583e-cb9d-4bf6-8ee0-7036796e6dfb",
   "metadata": {},
   "outputs": [],
   "source": [
    "L = np.arange(0,1,0.1)\n",
    "L"
   ]
  },
  {
   "cell_type": "code",
   "execution_count": null,
   "id": "a75eda1f-130c-41ad-a436-b795b5bd440a",
   "metadata": {},
   "outputs": [],
   "source": []
  },
  {
   "cell_type": "markdown",
   "id": "ed46a375-b10a-416c-8e22-5f33ae6320c1",
   "metadata": {},
   "source": [
    "**Exercise 9:** Print the results of the cobb_douglas production function over all combinations of K and L"
   ]
  },
  {
   "cell_type": "code",
   "execution_count": null,
   "id": "e4226ec2-b26d-47ce-bad7-7f94eef677c2",
   "metadata": {},
   "outputs": [],
   "source": []
  },
  {
   "cell_type": "markdown",
   "id": "b3cd443d-8021-4fc4-a7f9-841983fb85d7",
   "metadata": {},
   "source": [
    "**Exercise 10:** Redo *exercise 9* and save the results in a dictionary that pairs the input combinations of k and l (as a tuple) with the evaluated output of the `cobb_douglas` function such as\n",
    "\n",
    "```python\n",
    "result = {\n",
    "    (k, l) : cobb_douglas(k,l)\n",
    "}\n",
    "```\n"
   ]
  },
  {
   "cell_type": "code",
   "execution_count": null,
   "id": "9c8e4550-afc9-4cf3-bf90-bc98a4614b06",
   "metadata": {},
   "outputs": [],
   "source": []
  },
  {
   "cell_type": "markdown",
   "id": "32a5e86a-5e35-48a0-886b-046a904f9390",
   "metadata": {},
   "source": [
    "**Exercise 11:** Here is some code to generate a 3d plot using matplotlib"
   ]
  },
  {
   "cell_type": "code",
   "execution_count": null,
   "id": "4413d419-a2d4-4c8c-b692-9c568bcbfd6c",
   "metadata": {},
   "outputs": [],
   "source": [
    "import numpy as np\n",
    "import matplotlib.pyplot as plt\n",
    "\n",
    "def fun(x, y):\n",
    "    return x**2 + y\n",
    "\n",
    "fig = plt.figure()\n",
    "ax = fig.add_subplot(111, projection='3d')\n",
    "x = y = np.arange(-3.0, 3.0, 0.05)\n",
    "X, Y = np.meshgrid(x, y)\n",
    "zs = np.array(fun(np.ravel(X), np.ravel(Y)))  # use the `fun` function to generate the z values\n",
    "Z = zs.reshape(X.shape)\n",
    "\n",
    "ax.plot_surface(X, Y, Z)\n",
    "\n",
    "ax.set_xlabel('X Label') \n",
    "ax.set_ylabel('Y Label')\n",
    "ax.set_zlabel('Z Label')\n",
    "\n",
    "plt.show()"
   ]
  },
  {
   "cell_type": "markdown",
   "id": "6c14321e-15bd-4cd7-961c-40beca711e98",
   "metadata": {},
   "source": [
    "Read and change the code above to plot the `cobb_douglas` function over all combinations of k and l. \n",
    "\n",
    "**Hint:** What input values do you want to evaluate the `cobb_douglas` function over?"
   ]
  },
  {
   "cell_type": "code",
   "execution_count": null,
   "id": "6b1c4da6-9546-46e6-8b7d-5e252da9f44e",
   "metadata": {},
   "outputs": [],
   "source": []
  },
  {
   "cell_type": "markdown",
   "id": "0d3bbe1a-50d9-494e-b3f0-0307a43a921e",
   "metadata": {},
   "source": [
    "### Default and Keyword Arguments\n",
    "\n",
    "Functions can have optional arguments (called `keyword arguments`).\n",
    "\n",
    "To accomplish this, we must give these arguments a *default value* by saying\n",
    "`name=default_value` instead of just `name` as we list the arguments.\n",
    "\n",
    "To demonstrate this functionality, let’s now make $ z $ and $ \\alpha $\n",
    "arguments to our cobb_douglas function"
   ]
  },
  {
   "cell_type": "code",
   "execution_count": null,
   "id": "fac80460-eb7b-4592-a4af-c0f2e1a48bfe",
   "metadata": {},
   "outputs": [],
   "source": [
    "def cobb_douglas(K, L, alpha=0.33, z=1):\n",
    "    return z * K**(alpha) * L**(1.0 - alpha)"
   ]
  },
  {
   "cell_type": "markdown",
   "id": "f9eaffce-78be-432f-a578-5d03f894ba35",
   "metadata": {},
   "source": [
    "Now we can use the function the same way as before such as:"
   ]
  },
  {
   "cell_type": "code",
   "execution_count": null,
   "id": "c705b12a-be6e-41bb-96a1-08d3762af5d7",
   "metadata": {},
   "outputs": [],
   "source": [
    "cobb_douglas(1.0, 0.5)"
   ]
  },
  {
   "cell_type": "markdown",
   "id": "00868c36-0a41-48ac-aaae-c97610e79f63",
   "metadata": {},
   "source": [
    "but now we have the option of changing `alpha` and/or `z` from their default values"
   ]
  },
  {
   "cell_type": "code",
   "execution_count": null,
   "id": "aa381928-c633-440a-8899-4f82b7c743d7",
   "metadata": {},
   "outputs": [],
   "source": [
    "cobb_douglas(1.0, 0.5, alpha=0.5)"
   ]
  },
  {
   "cell_type": "markdown",
   "id": "b49d20f7-d530-4563-9004-6b015874d49b",
   "metadata": {},
   "source": [
    "**Exercise 12:** Use the plot code from *exercise 11* and see how changes in the parameter `alpha` changes the shape of the cobb_douglas function."
   ]
  },
  {
   "cell_type": "code",
   "execution_count": null,
   "id": "6a16bcdc-1b9f-4b1d-a431-44bf6e0b8d2a",
   "metadata": {},
   "outputs": [],
   "source": []
  },
  {
   "cell_type": "markdown",
   "id": "eb2df90d-e6d5-450b-8318-a82c62d82362",
   "metadata": {},
   "source": [
    "**Exercise 13:** Use the plot code from *exercise 11* and see how changes in the parameter `z` changes the shape of the cobb_douglas function."
   ]
  },
  {
   "cell_type": "markdown",
   "id": "72e2ab40-a33c-4701-bb75-c648b29c9b4b",
   "metadata": {},
   "source": [
    "----"
   ]
  },
  {
   "cell_type": "markdown",
   "id": "8aae0019-10fe-42b9-af4b-224ae208e919",
   "metadata": {},
   "source": [
    "### Documentation\n",
    "\n",
    "It is good practice to add documentation to your `python` functions. \n",
    "\n",
    "Documentation helps you to:\n",
    "1. define the input and the output\n",
    "2. provides other readers (and your future self) of your code useful information about the function\n",
    "\n",
    "This is done by putting a string (not assigned to any variable name) as\n",
    "the first line of the *body* of the function (after the line with\n",
    "`def`)\n",
    "\n",
    "```python\n",
    "def function_name(inputs):\n",
    "    \"\"\"\n",
    "    Docstring\n",
    "    \"\"\"\n",
    "    # step 1\n",
    "    # step 2\n",
    "    # ...\n",
    "    return outputs\n",
    "```\n",
    "\n",
    "Let’s re-define our `cobb_douglas` function to include a docstring."
   ]
  },
  {
   "cell_type": "code",
   "execution_count": null,
   "id": "4edd7c3a-9049-4534-8316-5a6b5277faba",
   "metadata": {},
   "outputs": [],
   "source": [
    "def cobb_douglas(K, L):\n",
    "    \"\"\"\n",
    "    Computes the production F(K, L) for a Cobb-Douglas production function\n",
    "\n",
    "    Takes the form F(K, L) = z K^{\\alpha} L^{1 - \\alpha}\n",
    "\n",
    "    We restrict z = 1 and alpha = 0.33 \n",
    "    \"\"\"\n",
    "    return 1.0 * K**(0.33) * L**(1.0 - 0.33)"
   ]
  },
  {
   "cell_type": "markdown",
   "id": "fc412b4a-d60f-4708-aa21-c598fe40fbaa",
   "metadata": {},
   "source": [
    "Now when we have Jupyter evaluate `cobb_douglas?`, our message is\n",
    "displayed."
   ]
  },
  {
   "cell_type": "code",
   "execution_count": null,
   "id": "c3a0af3b-ba95-4f31-9419-1c192f1ea694",
   "metadata": {},
   "outputs": [],
   "source": [
    "cobb_douglas?"
   ]
  },
  {
   "cell_type": "code",
   "execution_count": null,
   "id": "8b7ecc6e-9471-491f-af15-e2df8be55791",
   "metadata": {},
   "outputs": [],
   "source": []
  }
 ],
 "metadata": {
  "kernelspec": {
   "display_name": "Python 3 (ipykernel)",
   "language": "python",
   "name": "python3"
  },
  "language_info": {
   "codemirror_mode": {
    "name": "ipython",
    "version": 3
   },
   "file_extension": ".py",
   "mimetype": "text/x-python",
   "name": "python",
   "nbconvert_exporter": "python",
   "pygments_lexer": "ipython3",
   "version": "3.11.7"
  }
 },
 "nbformat": 4,
 "nbformat_minor": 5
}
