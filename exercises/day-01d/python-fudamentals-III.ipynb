{
 "cells": [
  {
   "cell_type": "markdown",
   "id": "75d6340e-eab2-4515-9a95-b16efff2a628",
   "metadata": {},
   "source": [
    "# Python Fundamentals III - Flow Control\n",
    "\n",
    "In this exercise set we will cover\n",
    "\n",
    "1. Conditional Logic\n",
    "   1. Understand what a conditional is\n",
    "   2. Be able to construct `if`/`elif`/`else` conditional blocks\n",
    "   3. Understand how conditionals can be used to selectively execute blocks of code  \n",
    "2. Iteration\n",
    "   1. Understand what an iterable is  \n",
    "   2. Be able to write `for` loops\n",
    "   3. Understand the keywords `break` and `continue`  \n",
    "\n",
    "These concepts are very powerful and we will apply what we learn soon to solve some `asset pricing` exercises early next week. "
   ]
  },
  {
   "cell_type": "markdown",
   "id": "c211dc22-be14-4cc8-ad9b-ce955b05e28d",
   "metadata": {},
   "source": [
    "## Conditional Statements and Blocks\n",
    "\n",
    "Sometimes, we will only want to execute some piece of code if a certain condition\n",
    "is met.\n",
    "\n",
    "These conditions can be anything.\n",
    "\n",
    "For example, we might add to total sales if the transaction value is positive,\n",
    "but add to total returns if the value is negative.\n",
    "\n",
    "Or, we might want to add up all incurred costs, only if the transaction happened\n",
    "before a certain date.\n",
    "\n",
    "We use *conditionals* to run particular pieces of code when certain criterion\n",
    "are met.\n",
    "\n",
    "Conditionals are closely tied to booleans, so if you don’t remember what those\n",
    "are, go back to the fundamentals exercises I for a refresher.\n",
    "\n",
    "The basic syntax for conditionals is\n",
    "\n",
    "```python\n",
    "if condition:\n",
    "    # code to run when condition is True\n",
    "else:\n",
    "    # code to run if no conditions above are True\n",
    "```\n",
    "\n",
    "Note that immediately following the condition, there is a colon *and*\n",
    "that the next line begins with **blank spaces**.\n",
    "\n",
    "Using 4 spaces is a *very strong* convention, so that is what\n",
    "we do — we recommend that you do the same.\n",
    "\n",
    "```{tip}\n",
    "Python uses white space to indicate the `scope` of an `if` statement and `functions` as you will see tomorrow\n",
    "\n",
    "Editors like `jupyter` notebooks do this white space indentation formatting for you. \n",
    "```\n",
    "\n",
    "Also note that the `else` clause is optional.\n",
    "\n",
    "Let’s see some simple examples."
   ]
  },
  {
   "cell_type": "code",
   "execution_count": 1,
   "id": "7bec67ca-2f39-475a-9027-69cc9f65c9f6",
   "metadata": {},
   "outputs": [
    {
     "name": "stdout",
     "output_type": "stream",
     "text": [
      "This is where `True` code is run\n"
     ]
    }
   ],
   "source": [
    "if True:\n",
    "    print(\"This is where `True` code is run\")\n"
   ]
  },
  {
   "cell_type": "markdown",
   "id": "50e848fc-2c3e-480b-a503-692636f29a8c",
   "metadata": {},
   "source": [
    "Alternatively, you could have a `conditional` test which returns a booleans"
   ]
  },
  {
   "cell_type": "code",
   "execution_count": 2,
   "id": "df6710a9-70fc-410d-8818-fbb3179f4e67",
   "metadata": {},
   "outputs": [
    {
     "name": "stdout",
     "output_type": "stream",
     "text": [
      "This is where `True` code is run\n"
     ]
    }
   ],
   "source": [
    "if 1 < 2:\n",
    "     print(\"This is where `True` code is run\")"
   ]
  },
  {
   "cell_type": "markdown",
   "id": "01d629a6-34f0-4126-9d66-c59a7cb313e4",
   "metadata": {},
   "source": [
    "As opposed to `False` conditions"
   ]
  },
  {
   "cell_type": "code",
   "execution_count": 3,
   "id": "5fc9d4b8-b420-47d7-8217-4d937465c6b4",
   "metadata": {},
   "outputs": [],
   "source": [
    "if False:\n",
    "    print(\"This is where `True` code is run\")"
   ]
  },
  {
   "cell_type": "code",
   "execution_count": 4,
   "id": "db499e6f-e2c5-4b5c-81ae-a957839a59b8",
   "metadata": {},
   "outputs": [],
   "source": [
    "if 1 > 2:\n",
    "     print(\"This is where `True` code is run\")"
   ]
  },
  {
   "cell_type": "markdown",
   "id": "a10726fa-527f-4d16-ad2a-a1d585bd1939",
   "metadata": {},
   "source": [
    "Notice that when you run the cells above nothing is printed.\n",
    "\n",
    "That is because the condition for the `if` statement was not true, so the code\n",
    "inside the indented block was never run."
   ]
  },
  {
   "cell_type": "markdown",
   "id": "b70589c9-380e-4a78-a366-8a4a032b0775",
   "metadata": {},
   "source": [
    "We will now illustrate why the **indentation** is important:"
   ]
  },
  {
   "cell_type": "code",
   "execution_count": 11,
   "id": "60dd9708-f3f4-4569-a46f-75cf53996852",
   "metadata": {},
   "outputs": [
    {
     "name": "stdout",
     "output_type": "stream",
     "text": [
      "Code runs after 'if' block, regardless of val\n"
     ]
    }
   ],
   "source": [
    "condition = False\n",
    "\n",
    "if condition: # check an expression\n",
    "    print(\"This is where `True` code is run\")\n",
    "    print(\"More code in the if block\")\n",
    "\n",
    "print(\"Code runs after 'if' block, regardless of val\")\n"
   ]
  },
  {
   "cell_type": "markdown",
   "id": "9697bcae-a1f8-4f05-81d6-23dd81c1e0ee",
   "metadata": {},
   "source": [
    "Let's now see how `else` works."
   ]
  },
  {
   "cell_type": "code",
   "execution_count": 10,
   "id": "f37bcebb-7343-4b73-a39f-a5fa177cef04",
   "metadata": {},
   "outputs": [
    {
     "name": "stdout",
     "output_type": "stream",
     "text": [
      "This is where `False` code is run\n",
      "Code runs after 'if' block, regardless of val due to indentation\n"
     ]
    }
   ],
   "source": [
    "condition = False\n",
    "\n",
    "if condition:\n",
    "    print(\"This is where `True` code is run\")\n",
    "else:\n",
    "    print(\"This is where `False` code is run\")\n",
    "\n",
    "print(\"Code runs after 'if' block, regardless of val due to indentation\")"
   ]
  },
  {
   "cell_type": "markdown",
   "id": "d4e2149f-1751-4ac2-bc7b-dbecfe09a80b",
   "metadata": {},
   "source": [
    "The `if False: ...` part of this example is the same as the example\n",
    "before, but now, we added an `else:` clause.\n",
    "\n",
    "In this case, because the conditional for the `if` statement was not\n",
    "`True`, the if code block was not executed, but the `else` block was."
   ]
  },
  {
   "cell_type": "markdown",
   "id": "9f0c2f86-911b-4ef3-98b1-c69ac6220989",
   "metadata": {},
   "source": [
    "**Exercise 1:** Write some code that prints \"This number is positive\" if a number is greater than or equal to 0. "
   ]
  },
  {
   "cell_type": "code",
   "execution_count": 12,
   "id": "8cebb1b8-2cc1-49e3-8350-df8a7b8321aa",
   "metadata": {},
   "outputs": [],
   "source": [
    "num = 2\n",
    "\n",
    "# Write your code here"
   ]
  },
  {
   "cell_type": "markdown",
   "id": "ef814cdc-ed3f-4660-a721-21eb01896f6d",
   "metadata": {},
   "source": [
    "**Exercise 2:** Write some code that extends *Exercise 1* so that it also prints \"This number is negative\" if the number is less than 0"
   ]
  },
  {
   "cell_type": "code",
   "execution_count": 14,
   "id": "8604fed5-ef21-4b84-b92f-5d41f3f4b951",
   "metadata": {},
   "outputs": [],
   "source": [
    "num = -3\n",
    "\n",
    "# Write your code here"
   ]
  },
  {
   "cell_type": "markdown",
   "id": "9648f0c7-2597-497a-ad55-90703f32d47f",
   "metadata": {},
   "source": []
  },
  {
   "cell_type": "markdown",
   "id": "5eba9b63-0325-4726-a891-58ecd4b2dcaa",
   "metadata": {},
   "source": [
    "### `elif` clauses\n",
    "\n",
    "Sometimes, you have more than one condition you want to check.\n",
    "\n",
    "For example, you might want to run a different set of code based on which\n",
    "quarter a particular transaction took place in.\n",
    "\n",
    "In this case you could check whether the date is in Q1, or in Q2, or in Q3, or if not\n",
    "any of these it must be in Q4.\n",
    "\n",
    "The way to express this type of conditional is to use one or more `elif`\n",
    "clause in addition to the `if` and the `else`.\n",
    "\n",
    "The syntax is\n",
    "\n",
    "```python\n",
    "if condition1:\n",
    "    # code to run when condition1 is True\n",
    "elif condition2:\n",
    "    # code to run when condition2 is True\n",
    "elif condition3:\n",
    "    # code to run when condition3 is True\n",
    "else:\n",
    "    # code to run when none of the above are true\n",
    "```\n",
    "\n",
    "You can include as many `elif` clauses as you want.\n",
    "\n",
    "As before, the `else` part is optional.\n",
    "\n",
    "Here’s how we might express the quarter example referred to above."
   ]
  },
  {
   "cell_type": "code",
   "execution_count": 16,
   "id": "48a15698-987b-472c-9305-ad0e0513c654",
   "metadata": {},
   "outputs": [
    {
     "name": "stdout",
     "output_type": "stream",
     "text": [
      "2017-07-15 is in Q3\n"
     ]
    }
   ],
   "source": [
    "import datetime\n",
    "\n",
    "date = datetime.date(2017, 7, 15) # 15th July 2017\n",
    "\n",
    "if date.month > 9:\n",
    "    print(f\"{date} is in Q4\")\n",
    "elif date.month > 6:\n",
    "    print(f\"{date} is in Q3\")\n",
    "elif date.month > 3:\n",
    "    print(f\"{date} is in Q2\")\n",
    "else:\n",
    "    print(f\"{date} is in Q1\")"
   ]
  },
  {
   "cell_type": "markdown",
   "id": "cadb620d-30b3-423b-beb0-7a2e5845902c",
   "metadata": {},
   "source": [
    "Note that when there are multiple `if` or `elif` conditions, only the code\n",
    "corresponding to the **first** true clause is run.\n",
    "\n",
    "We saw this in action above.\n",
    "\n",
    "We know that when `date.month > 9` is true, then `date.month > 6`\n",
    "and `date.month > 3` must also be true, but only the code block\n",
    "associated with `date.month > 9` was printed."
   ]
  },
  {
   "cell_type": "markdown",
   "id": "070b6f8d-b2d8-4ef1-a38a-3fc768567e2c",
   "metadata": {},
   "source": [
    "**Exercise 3:** Extend your code from *exercise 2* to now print \"This number is positive\" if greater than 0, \"This number is negative\" if less than 0, and \"this number is null\" if equal to 0. "
   ]
  },
  {
   "cell_type": "code",
   "execution_count": null,
   "id": "bee8a6dd-8211-48df-966d-9b931b7d5375",
   "metadata": {},
   "outputs": [],
   "source": []
  },
  {
   "cell_type": "markdown",
   "id": "f1cb6e37-03b7-47af-856a-211d38f8d5d7",
   "metadata": {},
   "source": [
    "## Iteration\n",
    "\n",
    "When doing computations or analyzing data, we often need to repeat certain\n",
    "operations a finite number of times or until some condition is met.\n",
    "\n",
    "Examples include processing all data files in a directory (folder), aggregating\n",
    "revenues and costs for every period in a year, or computing the net present\n",
    "value of certain assets.\n",
    "\n",
    "These are all examples of a programming concept called iteration.\n",
    "\n",
    "We feel the concept is best understood through example, so we will present a\n",
    "simple example and then discuss the details behind doing iteration in Python.\n",
    "\n",
    "### An Example\n",
    "\n",
    "Suppose we wanted to print out the first 10 integers and their squares.\n",
    "\n",
    "We *could* do something like this."
   ]
  },
  {
   "cell_type": "code",
   "execution_count": 20,
   "id": "6c181270-edb0-4e21-95c5-24fb29f32d61",
   "metadata": {},
   "outputs": [
    {
     "name": "stdout",
     "output_type": "stream",
     "text": [
      "1**2 = 1\n",
      "2**2 = 4\n",
      "3**2 = 9\n",
      "4**2 = 16\n"
     ]
    }
   ],
   "source": [
    "print(f\"1**2 = {1**2}\")\n",
    "print(f\"2**2 = {2**2}\")\n",
    "print(f\"3**2 = {3**2}\")\n",
    "print(f\"4**2 = {4**2}\")\n",
    "# .. and so on until 10"
   ]
  },
  {
   "cell_type": "markdown",
   "id": "b7c67f97-adbf-4dbf-bf46-a9dc725a25bf",
   "metadata": {},
   "source": [
    "As you can see, the code above is repetitive.\n",
    "\n",
    "For each integer, the code is exactly the same except for the two places where\n",
    "the “current” integer appears.\n",
    "\n",
    "Suppose that I asked you to write the same print statement for an int stored in\n",
    "a variable named `i`.\n",
    "\n",
    "You might write the following code:\n",
    "\n",
    "```python\n",
    "print(f\"{i}**2 = {i**2}\")\n",
    "```"
   ]
  },
  {
   "cell_type": "markdown",
   "id": "f9eb160f-3dd1-45fa-945b-1f200166dc63",
   "metadata": {},
   "source": [
    "This more general version of the operation suggests a strategy for achieving our\n",
    "goal with less repetition: have a variable `i` take on the values 1 through 10 and run the line\n",
    "of code above for each new value of `i`.\n",
    "\n",
    "This can be accomplished with a `for` loop!\n",
    "\n",
    "```python\n",
    "for i in [0,1,2,3,4,5,6 ...]\n",
    "    # Do something here\n",
    "```"
   ]
  },
  {
   "cell_type": "code",
   "execution_count": 26,
   "id": "f9cb4463-4a2e-4704-8df0-4d947f2e0215",
   "metadata": {},
   "outputs": [
    {
     "name": "stdout",
     "output_type": "stream",
     "text": [
      "0**2 = 0\n",
      "1**2 = 1\n",
      "2**2 = 4\n",
      "3**2 = 9\n",
      "4**2 = 16\n",
      "5**2 = 25\n",
      "6**2 = 36\n",
      "7**2 = 49\n",
      "8**2 = 64\n",
      "9**2 = 81\n",
      "10**2 = 100\n"
     ]
    }
   ],
   "source": [
    "for i in [0,1,2,3,4,5,6,7,8,9,10]:\n",
    "    print(f\"{i}**2 = {i**2}\")"
   ]
  },
  {
   "cell_type": "markdown",
   "id": "d89d5613-1460-4c7b-b4d1-efd181207212",
   "metadata": {},
   "source": [
    "As you can see the `for` loop prints the string for each element of the list"
   ]
  },
  {
   "cell_type": "markdown",
   "id": "8e47c1bf-7a98-42df-9b75-017434afddff",
   "metadata": {},
   "source": [
    "**Exercise 4:**  How can we use the `range` function to create a list of numbers 1 to 10? (Hint: remember using `range` when we were learning about `lists`)"
   ]
  },
  {
   "cell_type": "code",
   "execution_count": 21,
   "id": "66a6ec93-1679-4a59-97fa-ac9a1978db99",
   "metadata": {},
   "outputs": [
    {
     "data": {
      "text/plain": [
       "\u001b[0;31mInit signature:\u001b[0m \u001b[0mrange\u001b[0m\u001b[0;34m(\u001b[0m\u001b[0mself\u001b[0m\u001b[0;34m,\u001b[0m \u001b[0;34m/\u001b[0m\u001b[0;34m,\u001b[0m \u001b[0;34m*\u001b[0m\u001b[0margs\u001b[0m\u001b[0;34m,\u001b[0m \u001b[0;34m**\u001b[0m\u001b[0mkwargs\u001b[0m\u001b[0;34m)\u001b[0m\u001b[0;34m\u001b[0m\u001b[0;34m\u001b[0m\u001b[0m\n",
       "\u001b[0;31mDocstring:\u001b[0m     \n",
       "range(stop) -> range object\n",
       "range(start, stop[, step]) -> range object\n",
       "\n",
       "Return an object that produces a sequence of integers from start (inclusive)\n",
       "to stop (exclusive) by step.  range(i, j) produces i, i+1, i+2, ..., j-1.\n",
       "start defaults to 0, and stop is omitted!  range(4) produces 0, 1, 2, 3.\n",
       "These are exactly the valid indices for a list of 4 elements.\n",
       "When step is given, it specifies the increment (or decrement).\n",
       "\u001b[0;31mType:\u001b[0m           type\n",
       "\u001b[0;31mSubclasses:\u001b[0m     "
      ]
     },
     "metadata": {},
     "output_type": "display_data"
    }
   ],
   "source": [
    "range?"
   ]
  },
  {
   "cell_type": "code",
   "execution_count": null,
   "id": "c47543b7-5614-41e5-811b-d014bc21accf",
   "metadata": {},
   "outputs": [],
   "source": []
  },
  {
   "cell_type": "markdown",
   "id": "08fac04d-4f76-4edd-ad09-df390e91e273",
   "metadata": {},
   "source": [
    "**Exercise 5:** Complete the following code by adding `print(f\"{i}**2 = {i**2}\")`"
   ]
  },
  {
   "cell_type": "code",
   "execution_count": null,
   "id": "bd2dc3d3-539c-4a7a-81f8-4eef20524c09",
   "metadata": {},
   "outputs": [],
   "source": [
    "for i in range(0,10 + 1):\n",
    "    # update the code here"
   ]
  },
  {
   "cell_type": "markdown",
   "id": "b234d2a7-f7cc-40e3-a269-c6b9ed9bd0ce",
   "metadata": {},
   "source": [
    "**Exercise 6:** Why did I use `10 + 1` in the range function?"
   ]
  },
  {
   "cell_type": "code",
   "execution_count": null,
   "id": "6b1c1739-bbb0-4ac0-9c56-732de324b517",
   "metadata": {},
   "outputs": [],
   "source": []
  },
  {
   "cell_type": "markdown",
   "id": "cee0d005-a1f4-4cf4-8490-9368fa2f53d3",
   "metadata": {},
   "source": [
    "### `for` Loops\n",
    "\n",
    "The general structure of a standard `for` loop is as follows.\n",
    "\n",
    "```python\n",
    "for item in iterable:\n",
    "   # operation 1 with item\n",
    "   # operation 2 with item\n",
    "   # ...\n",
    "   # operation N with item\n",
    "```\n",
    "\n",
    "where `iterable` is anything capable of producing one item at a time (see\n",
    "[here](https://docs.python.org/3/glossary.html#term-iterable) for official\n",
    "definition from the Python team).\n",
    "\n",
    "We’ve actually already seen some of the most common iterables!\n",
    "\n",
    "Lists, tuples, and range/zip/enumerate objects are all iterables.\n",
    "\n",
    "Note that we can have as many operations as we want inside the indented block.\n",
    "\n",
    "We will refer to the indented block as the “body” of the loop.\n",
    "\n",
    "When the for loop is executed, `item` will take on one value from `iterable`\n",
    "at a time and execute the loop body for each value.\n",
    "\n",
    "#### Functions that return Iterables\n",
    "\n",
    "The are some functions that return iterables such as `enumerate(iterable)` which returns a tuple of the\n",
    "form `(i, x)` where `iterable[i] == x`.\n",
    "\n",
    "When we use `enumerate` in a for loop, we can “unpack” both values at the same\n",
    "time."
   ]
  },
  {
   "cell_type": "code",
   "execution_count": 28,
   "id": "bfd4237f-7934-4b73-ad06-1b5d1847d241",
   "metadata": {},
   "outputs": [
    {
     "name": "stdout",
     "output_type": "stream",
     "text": [
      "quarter 1 revenue is $1.12 million\n",
      "quarter 2 revenue is $1.2 million\n",
      "quarter 3 revenue is $1.5 million\n",
      "quarter 4 revenue is $1.5 million\n"
     ]
    }
   ],
   "source": [
    "# revenue by quarter\n",
    "company_revenue = [1.12, 1.20, 1.50, 1.50]\n",
    "\n",
    "for index, value in enumerate(company_revenue):\n",
    "    print(f\"quarter {index+1} revenue is ${value} million\")"
   ]
  },
  {
   "cell_type": "markdown",
   "id": "3c40bb6f-ca64-4c54-982d-c1515620c3f1",
   "metadata": {},
   "source": [
    "Similarly, the index can be used to access items from another vector."
   ]
  },
  {
   "cell_type": "code",
   "execution_count": 38,
   "id": "d80ea98a-fa4a-418c-9b18-ddb764dc62c8",
   "metadata": {},
   "outputs": [
    {
     "name": "stdout",
     "output_type": "stream",
     "text": [
      "Phoenix is in Arizona\n",
      "Austin is in Texas\n",
      "San Diego is in California\n",
      "New York is in New York\n"
     ]
    }
   ],
   "source": [
    "cities = [\"Phoenix\", \"Austin\", \"San Diego\", \"New York\"]  # US Cities (Ordered List)\n",
    "states = [\"Arizona\", \"Texas\", \"California\", \"New York\"]  # US States (Ordered List)\n",
    "\n",
    "for index, city in enumerate(cities):  # iterate over cities\n",
    "    state = states[index]              # use index to access elements of states\n",
    "    print(f\"{city} is in {state}\")"
   ]
  },
  {
   "cell_type": "markdown",
   "id": "02ee0dc1-8611-469e-8392-e0f936aaa7ab",
   "metadata": {},
   "source": [
    "**Exercise 7:** What happens if the lists are different lengths?"
   ]
  },
  {
   "cell_type": "code",
   "execution_count": 44,
   "id": "59a64411-f379-497b-8b04-d76564f2370a",
   "metadata": {},
   "outputs": [],
   "source": [
    "cities = [\"Phoenix\", \"Austin\", \"San Diego\", \"New York\"]  # US Cities (Ordered List)\n",
    "states = [\"Arizona\", \"Texas\", \"California\", \"New York\", \"Maryland\"]  # US States (Ordered List)\n",
    "\n",
    "# Add for loop code here"
   ]
  },
  {
   "cell_type": "code",
   "execution_count": 46,
   "id": "0131d4c9-6650-437f-ac12-9a7e23d32e4a",
   "metadata": {},
   "outputs": [],
   "source": [
    "cities = [\"Phoenix\", \"Austin\", \"San Diego\", \"New York\",  \"Annapolis\"]  # US Cities (Ordered List)\n",
    "states = [\"Arizona\", \"Texas\", \"California\", \"New York\"]  # US States (Ordered List)\n",
    "\n",
    "# Add for lop code here"
   ]
  },
  {
   "cell_type": "markdown",
   "id": "6115e48c-a504-4808-b772-b66c38aea4f5",
   "metadata": {},
   "source": [
    "**Exercise 9:** Explain the different results above. "
   ]
  },
  {
   "cell_type": "markdown",
   "id": "92658ff8-83da-4455-8acc-342161fd4aed",
   "metadata": {},
   "source": []
  },
  {
   "cell_type": "markdown",
   "id": "b162cb63-8b3c-46d4-a80b-710a53dcce85",
   "metadata": {},
   "source": [
    "**Exercise 10:** How could you use `conditional logic` to make your code less error prone?"
   ]
  },
  {
   "cell_type": "code",
   "execution_count": null,
   "id": "7ae0e2dd-b878-472a-b763-662c0896b167",
   "metadata": {},
   "outputs": [],
   "source": []
  },
  {
   "cell_type": "markdown",
   "id": "7b17a602-5fa4-41a2-92cf-b4c9fd4a65be",
   "metadata": {},
   "source": [
    "Another function that returns an `iterable` is `zip` which combines two lists together in corresponding pairs"
   ]
  },
  {
   "cell_type": "code",
   "execution_count": 48,
   "id": "e7af9dca-e796-4b58-94b3-8a8734cdc83e",
   "metadata": {},
   "outputs": [
    {
     "name": "stdout",
     "output_type": "stream",
     "text": [
      "Phoenix is in Arizona\n",
      "Austin is in Texas\n",
      "San Diego is in California\n",
      "New York is in New York\n"
     ]
    }
   ],
   "source": [
    "cities = [\"Phoenix\", \"Austin\", \"San Diego\", \"New York\"]  # US Cities (Ordered List)\n",
    "states = [\"Arizona\", \"Texas\", \"California\", \"New York\"]  # US States (Ordered List)\n",
    "for city, state in zip(cities, states):\n",
    "    print(f\"{city} is in {state}\")"
   ]
  },
  {
   "cell_type": "markdown",
   "id": "8592c769-62dd-4d97-8a79-47ac341c8017",
   "metadata": {},
   "source": [
    "**Exercise 11:** What happens if you use different length lists in a for loop with `zip`?"
   ]
  },
  {
   "cell_type": "code",
   "execution_count": 49,
   "id": "cf36beca-20ae-4325-b5c6-677f5093aa21",
   "metadata": {},
   "outputs": [],
   "source": [
    "cities = [\"Phoenix\", \"Austin\", \"San Diego\", \"New York\"]  # US Cities (Ordered List)\n",
    "states = [\"Arizona\", \"Texas\", \"California\", \"New York\", \"Maryland\"]  # US States (Ordered List)\n",
    "\n",
    "# Add for loop code here"
   ]
  },
  {
   "cell_type": "code",
   "execution_count": 50,
   "id": "9aa9c53b-7442-4308-865a-9f30dc2ad3e0",
   "metadata": {},
   "outputs": [],
   "source": [
    "cities = [\"Phoenix\", \"Austin\", \"San Diego\", \"New York\",  \"Annapolis\"]  # US Cities (Ordered List)\n",
    "states = [\"Arizona\", \"Texas\", \"California\", \"New York\"]  # US States (Ordered List)\n",
    "\n",
    "# Add for lop code here"
   ]
  },
  {
   "cell_type": "markdown",
   "id": "f6164fd2-28eb-4a4d-a0e9-7548570ca89f",
   "metadata": {},
   "source": [
    "**Exercise 12:** If you want to check what the `zip` function is doing to the input lists you may use try:"
   ]
  },
  {
   "cell_type": "code",
   "execution_count": 51,
   "id": "bbf5ae3a-207b-4d37-b21c-d869215a51ca",
   "metadata": {},
   "outputs": [
    {
     "data": {
      "text/plain": [
       "<zip at 0x1656a6040>"
      ]
     },
     "execution_count": 51,
     "metadata": {},
     "output_type": "execute_result"
    }
   ],
   "source": [
    "zip(cities, states)"
   ]
  },
  {
   "cell_type": "markdown",
   "id": "753d270e-7659-462f-9a31-8d8f73be6279",
   "metadata": {},
   "source": [
    "however this shows you the function location in memory, not the results. \n",
    "\n",
    "How might you evaluate zip and check the `iterable` results of the `zip` function?"
   ]
  },
  {
   "cell_type": "code",
   "execution_count": null,
   "id": "9bf96d00-5bc9-4e37-86ab-ef049fd1bbfc",
   "metadata": {},
   "outputs": [],
   "source": []
  },
  {
   "cell_type": "markdown",
   "id": "1410541d-c3b4-4b5b-a411-8d1ac93bd8d5",
   "metadata": {},
   "source": [
    "**Exercise 13:** How can you use the documentation to check how the `zip` function works? (Hint: use `?`) "
   ]
  },
  {
   "cell_type": "code",
   "execution_count": null,
   "id": "70a21612-5f9c-47f8-9e9b-6d7997de317c",
   "metadata": {},
   "outputs": [],
   "source": []
  },
  {
   "cell_type": "markdown",
   "id": "dc3a5350-dfb4-4016-92e3-ca94a0d59e5f",
   "metadata": {},
   "source": [
    "## Combining loops and conditional logic\n",
    "\n",
    "#### `break` out of a loop\n",
    "\n",
    "Sometimes we want to stop a loop early if some condition is met.\n",
    "\n",
    "An example of finding the smallest `N` such that\n",
    "$ \\sum_{i=0}^N i > 1000 $.\n",
    "\n",
    "Clearly `N` must be less than 1000, so we know we will find the answer\n",
    "if we start with a `for` loop over all items in `range(1001)`.\n",
    "\n",
    "Then, we can keep a running total as we proceed and tell Python to stop\n",
    "iterating through our range once total goes above 1000."
   ]
  },
  {
   "cell_type": "code",
   "execution_count": 60,
   "id": "289d6fc1-19ed-4ba7-815f-705004362ccc",
   "metadata": {},
   "outputs": [
    {
     "name": "stdout",
     "output_type": "stream",
     "text": [
      "The answer is 45\n"
     ]
    }
   ],
   "source": [
    "total = 0\n",
    "\n",
    "for i in range(1001):\n",
    "    total = total + i\n",
    "\n",
    "    if total > 1000:\n",
    "        break\n",
    "\n",
    "print(\"The answer is\", i)"
   ]
  },
  {
   "cell_type": "markdown",
   "id": "28df0e2b-e431-4310-a779-7c7038c31c73",
   "metadata": {},
   "source": [
    "**Exercise 14:** How would you save the results of each step in a list to get a series that represents the cumulative sum? "
   ]
  },
  {
   "cell_type": "code",
   "execution_count": null,
   "id": "0022a865-e205-4937-b995-c4e60ba30470",
   "metadata": {},
   "outputs": [],
   "source": []
  },
  {
   "cell_type": "markdown",
   "id": "62453cc9-fcd5-463f-b1b2-79bc21b1b6f4",
   "metadata": {},
   "source": [
    "#### `continue` to the Next Iteration\n",
    "\n",
    "Sometimes we might want to stop the *body of a loop* early if a condition is met.\n",
    "\n",
    "To do this we can use the `continue` keyword.\n",
    "\n",
    "The basic syntax for doing this is:\n",
    "\n",
    "```python\n",
    "for item in iterable:\n",
    "    # always do these operations\n",
    "    if condition:\n",
    "        continue\n",
    "\n",
    "    # only do these operations if condition is False\n",
    "```\n",
    "\n",
    "Inside the loop body, Python will stop that loop iteration of the loop and continue directly to the next iteration when it encounters the `continue` statement.\n",
    "\n",
    "For example, suppose I ask you to loop over the numbers 1 to 10 and print out\n",
    "the message “{i} An odd number!” whenever the number `i` is odd, and do\n",
    "nothing otherwise.\n",
    "\n",
    "You can use continue to do this as follows:\n"
   ]
  },
  {
   "cell_type": "code",
   "execution_count": 63,
   "id": "322f3a91-a739-4091-9c0b-bddac8e4406d",
   "metadata": {
    "scrolled": true
   },
   "outputs": [
    {
     "name": "stdout",
     "output_type": "stream",
     "text": [
      "1\n",
      "1 is an odd number!\n",
      "2\n",
      "3\n",
      "3 is an odd number!\n",
      "4\n",
      "5\n",
      "5 is an odd number!\n",
      "6\n",
      "7\n",
      "7 is an odd number!\n",
      "8\n",
      "9\n",
      "9 is an odd number!\n",
      "10\n"
     ]
    }
   ],
   "source": [
    "for i in range(1, 11):\n",
    "    print(i)\n",
    "    if i % 2 == 0:  # an even number... This is modulus division\n",
    "        continue\n",
    "\n",
    "    print(i, \"is an odd number!\")"
   ]
  },
  {
   "cell_type": "markdown",
   "id": "6a495b52-e633-4642-a0d3-6edc8b52c109",
   "metadata": {},
   "source": [
    "**Exercise 15:** How can you modify the above example such that only odd numbers are printed, such that the output would be\n",
    "\n",
    "```\n",
    "1 is an odd number!\n",
    "3 is an odd number!\n",
    "...\n",
    "(and so forth)\n",
    "```"
   ]
  },
  {
   "cell_type": "code",
   "execution_count": null,
   "id": "d5963251-c9ab-49bc-9c11-05e5833f44c1",
   "metadata": {},
   "outputs": [],
   "source": []
  },
  {
   "cell_type": "markdown",
   "id": "f77c61c7-e3c3-4a1b-9aed-5448e34686a0",
   "metadata": {},
   "source": [
    "**Exercise 16:** How can you modify the above example to print even and odd numbers with output\n",
    "\n",
    "```\n",
    "1 is an odd number!\n",
    "2 is an even number!\n",
    "3 is an odd number!\n",
    "...\n",
    "(and so forth)\n",
    "```"
   ]
  },
  {
   "cell_type": "code",
   "execution_count": null,
   "id": "e37c8989-0793-4e0d-826c-f5958b719695",
   "metadata": {},
   "outputs": [],
   "source": []
  },
  {
   "cell_type": "markdown",
   "id": "2cb32102-c8cf-4d0e-817c-3baf18d6420d",
   "metadata": {},
   "source": [
    "**Exercise 17:** How can you modify the above example to print odds and evens in groups such that the output would be?\n",
    "\n",
    "```\n",
    "Odd numbers are: 1,3,5,7,9\n",
    "Even numbers are: 2,4,6,8,10\n",
    "```\n",
    "\n",
    "Hint: think about how you would store the results as you loop through the numbers"
   ]
  },
  {
   "cell_type": "code",
   "execution_count": null,
   "id": "fa2efe47-5499-49f4-aa93-4149726d7a86",
   "metadata": {},
   "outputs": [],
   "source": []
  },
  {
   "cell_type": "markdown",
   "id": "1bc9e157-3cf7-4ca6-a6e0-b63307719300",
   "metadata": {},
   "source": [
    "**Exercise 18:** A list comprehension is concise syntax in python to loop over a list. You can filter using conditional logic and iteration such as\n",
    "\n",
    "```python\n",
    "list = [1 ,2, 3, 4, 5]\n",
    "list_gt3 = [x for x in list if x > 3]\n",
    "```\n",
    "\n",
    "Execute the above example and check the results in `list_gt3`. "
   ]
  },
  {
   "cell_type": "code",
   "execution_count": 18,
   "id": "08d39fd3-0d23-4b89-a977-9762e2590840",
   "metadata": {},
   "outputs": [],
   "source": []
  },
  {
   "cell_type": "markdown",
   "id": "fed2b946-a046-4bfc-8935-afd8af3f871d",
   "metadata": {},
   "source": [
    "**Exercise 19:** Re-write this concise list comprehension using traditional `for` loops and `conditional logic` statements"
   ]
  },
  {
   "cell_type": "code",
   "execution_count": null,
   "id": "53480958-ca8c-444f-ac9d-f9bb97800d16",
   "metadata": {},
   "outputs": [],
   "source": []
  },
  {
   "cell_type": "markdown",
   "id": "687e287b-25ff-4ed9-b902-e2838a6331ec",
   "metadata": {},
   "source": [
    "**Exercise 20:** Comparing `for` loops and list comprehension syntax, which do you prefer to write? Do you like the concise syntax of list comprehensions? Can you use `elif` or `else` statements in that context?"
   ]
  },
  {
   "cell_type": "markdown",
   "id": "0232b43f-c40e-40bc-849b-3e0c53a7f590",
   "metadata": {},
   "source": []
  },
  {
   "cell_type": "code",
   "execution_count": null,
   "id": "95cf7cf5-a3ca-4fb8-bb82-ed54a512b224",
   "metadata": {},
   "outputs": [],
   "source": []
  }
 ],
 "metadata": {
  "kernelspec": {
   "display_name": "Python 3 (ipykernel)",
   "language": "python",
   "name": "python3"
  },
  "language_info": {
   "codemirror_mode": {
    "name": "ipython",
    "version": 3
   },
   "file_extension": ".py",
   "mimetype": "text/x-python",
   "name": "python",
   "nbconvert_exporter": "python",
   "pygments_lexer": "ipython3",
   "version": "3.11.7"
  }
 },
 "nbformat": 4,
 "nbformat_minor": 5
}
