{
 "cells": [
  {
   "cell_type": "markdown",
   "id": "e0c8a8af-d6f8-4a8b-bf8b-7831dc8fed48",
   "metadata": {},
   "source": [
    "# Exercise Set: Python Fundamentals and Essentials (Deeper Dive)\n",
    "\n",
    "In this exercise set we continue to explore the fundamental concepts of the python programming language in more detail. \n",
    "\n",
    "1. Variable Assignment\n",
    "2. Data Types in Python\n",
    "    1. Numbers\n",
    "    2. Strings\n",
    "    3. Boolean Values\n",
    "3. Collections in Python (Objects and Functions)\n",
    "   1. Ordered (Lists, tuple)\n",
    "   2. Associative (Exercise Set 3)\n",
    "   3. Sets (Exercise Set 3)\n",
    "4. How to write Comments in Code"
   ]
  },
  {
   "cell_type": "markdown",
   "id": "017266f2-21c8-421e-bd7b-ab50b60cc4ec",
   "metadata": {},
   "source": [
    "## Variable Assignment\n",
    "\n",
    "Variable assignment associates a value to a variable\n",
    "\n",
    "Below, we assign the value “Hello World” to the variable x"
   ]
  },
  {
   "cell_type": "code",
   "execution_count": 1,
   "id": "9ba7241c-2125-488d-83fe-4471443a185d",
   "metadata": {},
   "outputs": [],
   "source": [
    "x = \"Hello World\""
   ]
  },
  {
   "cell_type": "markdown",
   "id": "590bb382-29a2-498f-8e26-32d9b0edfa4a",
   "metadata": {},
   "source": [
    "Once we have assigned a value to a variable, Python will remember this\n",
    "variable as long as the *current* session of Python is still running.\n",
    "\n",
    "Notice how writing `x` into the prompt below outputs the value\n",
    "“Hello World”."
   ]
  },
  {
   "cell_type": "code",
   "execution_count": 2,
   "id": "1dcc49a8-2ee4-458e-99f1-76933b6ef695",
   "metadata": {},
   "outputs": [
    {
     "data": {
      "text/plain": [
       "'Hello World'"
      ]
     },
     "execution_count": 2,
     "metadata": {},
     "output_type": "execute_result"
    }
   ],
   "source": [
    "x"
   ]
  },
  {
   "cell_type": "markdown",
   "id": "407fb8cb-ff65-4500-ac6a-a3943db8ced5",
   "metadata": {},
   "source": [
    "However, Python returns an error if we ask it about variables that have not yet\n",
    "been created."
   ]
  },
  {
   "cell_type": "code",
   "execution_count": 3,
   "id": "1a2dd0bc-b308-443d-a5f7-e7b16a411b58",
   "metadata": {},
   "outputs": [
    {
     "ename": "NameError",
     "evalue": "name 'y' is not defined",
     "output_type": "error",
     "traceback": [
      "\u001b[0;31m---------------------------------------------------------------------------\u001b[0m",
      "\u001b[0;31mNameError\u001b[0m                                 Traceback (most recent call last)",
      "Cell \u001b[0;32mIn[3], line 1\u001b[0m\n\u001b[0;32m----> 1\u001b[0m y\n",
      "\u001b[0;31mNameError\u001b[0m: name 'y' is not defined"
     ]
    }
   ],
   "source": [
    "y"
   ]
  },
  {
   "cell_type": "markdown",
   "id": "a2d89ca8-ce7c-45fa-9684-3d9158fafe6d",
   "metadata": {},
   "source": [
    "It is also useful to understand the order in which operations happen.\n",
    "\n",
    "First, the right side of the equal sign is computed.\n",
    "\n",
    "Then, that computed value is stored as the variable to the left of the\n",
    "equal sign.\n",
    "\n",
    "Keep in mind that the variable binds a name to something stored in memory.\n",
    "\n",
    "```{hint}\n",
    "If you redefine the variable, the name can even be bound to a value of a completely different type.\n",
    "```"
   ]
  },
  {
   "cell_type": "markdown",
   "id": "9616b0a7-4737-4fa6-a534-c53cc03c3aa5",
   "metadata": {},
   "source": [
    "**Question:** What is the current value of variable `x`?"
   ]
  },
  {
   "cell_type": "code",
   "execution_count": null,
   "id": "e006c397-93e5-47f9-9928-81909ba22b1c",
   "metadata": {},
   "outputs": [],
   "source": []
  },
  {
   "cell_type": "markdown",
   "id": "726d4f29-0957-4d6f-9600-22ab54055220",
   "metadata": {},
   "source": [
    "**Question:** What happens if the following code is executed?"
   ]
  },
  {
   "cell_type": "code",
   "execution_count": 6,
   "id": "a0c3cec9-1df9-4c48-95e1-4c48d82b92da",
   "metadata": {},
   "outputs": [],
   "source": [
    "x = 2\n",
    "x = \"Hello\""
   ]
  },
  {
   "cell_type": "markdown",
   "id": "82ff797e-9d4b-4686-b7c1-6bd7b8cef3a6",
   "metadata": {},
   "source": [
    "**Question:** What is the current value of `x`?"
   ]
  },
  {
   "cell_type": "code",
   "execution_count": null,
   "id": "f1a10c11-0266-44b7-a3d2-6285f388ab2a",
   "metadata": {},
   "outputs": [],
   "source": []
  },
  {
   "cell_type": "markdown",
   "id": "1907ebe9-b90a-449f-a3b0-11e8ce742f0c",
   "metadata": {},
   "source": [
    "**Question:** What happens if the following code is executed"
   ]
  },
  {
   "cell_type": "code",
   "execution_count": 7,
   "id": "28da4e1a-88a1-4891-8c74-10c294a7d15e",
   "metadata": {},
   "outputs": [],
   "source": [
    "a = 1\n",
    "b = 2\n",
    "a = b"
   ]
  },
  {
   "cell_type": "markdown",
   "id": "022a2174-9a8f-442d-8a76-1481c849af7a",
   "metadata": {},
   "source": [
    "**Question:** What is the current value of `a`?"
   ]
  },
  {
   "cell_type": "code",
   "execution_count": null,
   "id": "8d7c65a7-f6b4-4fb9-8cb4-f5ef56ef9216",
   "metadata": {},
   "outputs": [],
   "source": []
  },
  {
   "cell_type": "markdown",
   "id": "bb042762-2b82-4151-803e-16e8d934d45e",
   "metadata": {},
   "source": [
    "## Data Types in Python"
   ]
  },
  {
   "cell_type": "markdown",
   "id": "5e29effe-fb42-4f6c-8cf8-fff1299f425c",
   "metadata": {},
   "source": [
    "## Numbers\n",
    "\n",
    "Python has two types of numbers.\n",
    "\n",
    "1. Integer (`int`): These can only take the values of the integers\n",
    "  i.e. $ \\{\\dots, -2, -1, 0, 1, 2, \\dots\\} $  \n",
    "1. Floating Point Number (`float`): Think of these as any real number\n",
    "  such as $ 1.0 $, $ 3.1415 $, or $ -100.022358923223 $…  \n",
    "\n",
    "\n",
    "The easiest way to differentiate these types of numbers is to find a decimal place\n",
    "after the number.\n",
    "\n",
    "A float will have a decimal place, but an integer will not.\n",
    "\n",
    "Below, we assign integers to the variables `xi` and `zi` and assign\n",
    "floating point numbers to the variables `xf` and `zf`."
   ]
  },
  {
   "cell_type": "code",
   "execution_count": 13,
   "id": "f0ee1bb6-801c-416b-b951-136a787fe2b4",
   "metadata": {},
   "outputs": [],
   "source": [
    "xi = 1\n",
    "xf = 1.0\n",
    "zi = 123\n",
    "zf = 1230.5  # Notice -- There are no commas!\n",
    "zf2 = 1_230.5  # If needed, we use `_` to separate numbers for readability"
   ]
  },
  {
   "cell_type": "markdown",
   "id": "495825e9-a1eb-4a4b-a189-e236b098731c",
   "metadata": {},
   "source": [
    "**Question:** What is the type of variable `xi`?"
   ]
  },
  {
   "cell_type": "code",
   "execution_count": null,
   "id": "053ff93a-52b2-43bd-8a21-0350bb5ef36d",
   "metadata": {},
   "outputs": [],
   "source": []
  },
  {
   "cell_type": "markdown",
   "id": "036db811-d181-44b5-a8e2-cd0817d8500d",
   "metadata": {},
   "source": [
    "**Question:** What is the type of variable `xf`?"
   ]
  },
  {
   "cell_type": "code",
   "execution_count": null,
   "id": "89bdbf9f-573b-4d7d-95c9-8f197ffff720",
   "metadata": {},
   "outputs": [],
   "source": []
  },
  {
   "cell_type": "markdown",
   "id": "03195574-352e-4585-9f0e-c45ede952a1c",
   "metadata": {},
   "source": [
    "**Question:** What is the type of variable `zi`?"
   ]
  },
  {
   "cell_type": "code",
   "execution_count": null,
   "id": "257306a6-a4f0-4fa2-8d11-f100f9937161",
   "metadata": {},
   "outputs": [],
   "source": []
  },
  {
   "cell_type": "markdown",
   "id": "27c954b2-73b7-4b44-9edb-c06e68ad4711",
   "metadata": {},
   "source": [
    "**Question:** What is the type of variable `zf`?"
   ]
  },
  {
   "cell_type": "code",
   "execution_count": null,
   "id": "bdc157eb-db96-4bf5-a0f8-1c31a1a4222b",
   "metadata": {},
   "outputs": [],
   "source": []
  },
  {
   "cell_type": "markdown",
   "id": "5120d731-01b7-4d7f-afce-fa63fd3e676b",
   "metadata": {},
   "source": [
    "**Question:** What is the type of variable `zf2`?"
   ]
  },
  {
   "cell_type": "code",
   "execution_count": null,
   "id": "e0d380d2-6bf8-4490-8476-289b5ed40938",
   "metadata": {},
   "outputs": [],
   "source": []
  },
  {
   "cell_type": "markdown",
   "id": "70bbb152-3b20-476f-a800-43750c6b0658",
   "metadata": {},
   "source": [
    "### Python as a Calculator\n",
    "\n",
    "You can use Python to perform mathematical calculations."
   ]
  },
  {
   "cell_type": "code",
   "execution_count": 14,
   "id": "2122cf3f-b0ec-4dd4-af96-93f26856a2ae",
   "metadata": {},
   "outputs": [
    {
     "data": {
      "text/plain": [
       "2"
      ]
     },
     "execution_count": 14,
     "metadata": {},
     "output_type": "execute_result"
    }
   ],
   "source": [
    "1 + 1"
   ]
  },
  {
   "cell_type": "code",
   "execution_count": 15,
   "id": "cd6b9bba-4d5a-4e22-8e22-ce596465317d",
   "metadata": {},
   "outputs": [
    {
     "data": {
      "text/plain": [
       "True"
      ]
     },
     "execution_count": 15,
     "metadata": {},
     "output_type": "execute_result"
    }
   ],
   "source": [
    "1 + 1 == 2"
   ]
  },
  {
   "cell_type": "code",
   "execution_count": 16,
   "id": "017bdf8e-1e67-48f6-985d-a302fc60b4af",
   "metadata": {},
   "outputs": [
    {
     "data": {
      "text/plain": [
       "2.0"
      ]
     },
     "execution_count": 16,
     "metadata": {},
     "output_type": "execute_result"
    }
   ],
   "source": [
    "xi + xf"
   ]
  },
  {
   "cell_type": "markdown",
   "id": "92f0f534-5b01-4ee2-a353-e9da68bc15ef",
   "metadata": {},
   "source": [
    "**Question:** What is the type of `xi + xf`?"
   ]
  },
  {
   "cell_type": "code",
   "execution_count": null,
   "id": "83f68c57-8bdb-4dca-b93b-a3b55a4e9a8e",
   "metadata": {},
   "outputs": [],
   "source": []
  },
  {
   "cell_type": "markdown",
   "id": "8549a26f-e191-4457-b816-2b6e4218ea70",
   "metadata": {},
   "source": [
    "You can use Python to perform mathematical calculation"
   ]
  },
  {
   "cell_type": "code",
   "execution_count": 17,
   "id": "a3356e14-7a7a-4fff-8441-936f9288d59f",
   "metadata": {},
   "outputs": [
    {
     "name": "stdout",
     "output_type": "stream",
     "text": [
      "a + b is 6\n",
      "a - b is 2\n",
      "a * b is 8\n",
      "a / b is 2.0\n",
      "a ** b is 16\n",
      "a ^ b is 6\n"
     ]
    }
   ],
   "source": [
    "a = 4\n",
    "b = 2\n",
    "\n",
    "print(\"a + b is\", a + b)\n",
    "print(\"a - b is\", a - b)\n",
    "print(\"a * b is\", a * b)\n",
    "print(\"a / b is\", a / b)\n",
    "print(\"a ** b is\", a**b)\n",
    "print(\"a ^ b is\", a^b)"
   ]
  },
  {
   "cell_type": "markdown",
   "id": "26fe2279-9ef9-4a47-bf3e-5e2e7989add7",
   "metadata": {},
   "source": [
    "**Question:** Looking at the output above what does `**` operator in python do? "
   ]
  },
  {
   "cell_type": "code",
   "execution_count": null,
   "id": "eeb197ab-f416-44d9-8d31-8e226b552017",
   "metadata": {},
   "outputs": [],
   "source": []
  },
  {
   "cell_type": "markdown",
   "id": "db4cffe5-db2b-4d35-8a51-e6d7b755f765",
   "metadata": {},
   "source": [
    "**Question:** What does the `^` operator do?"
   ]
  },
  {
   "cell_type": "code",
   "execution_count": null,
   "id": "c2850044-a0f3-499b-a6a5-30945968ca1b",
   "metadata": {},
   "outputs": [],
   "source": []
  },
  {
   "cell_type": "markdown",
   "id": "57946532-3ef2-4a26-9eff-8796246e5abd",
   "metadata": {},
   "source": [
    "**Warning**: Python uses `**`, not `^`, for exponentiation (raising a number\n",
    "to a power)!\n",
    "\n",
    "Notice also that above `+`, `-` and `**` all returned an integer\n",
    "type, but `/` converted the result to a float.\n",
    "\n",
    "When possible, operations between integers return an integer type.\n",
    "\n",
    "All operations involving a float will result in a float."
   ]
  },
  {
   "cell_type": "code",
   "execution_count": 18,
   "id": "1b143550-7188-4793-9c3f-8e5fddbb32b6",
   "metadata": {},
   "outputs": [
    {
     "name": "stdout",
     "output_type": "stream",
     "text": [
      "a + b is 6.0\n",
      "a - b is 2.0\n",
      "a * b is 8.0\n",
      "a / b is 2.0\n",
      "a ** b is 16.0\n"
     ]
    }
   ],
   "source": [
    "a = 4\n",
    "b = 2.0\n",
    "\n",
    "print(\"a + b is\", a + b)\n",
    "print(\"a - b is\", a - b)\n",
    "print(\"a * b is\", a * b)\n",
    "print(\"a / b is\", a / b)\n",
    "print(\"a ** b is\", a**b)\n"
   ]
  },
  {
   "cell_type": "markdown",
   "id": "46e14b01-6874-4bd6-801b-30601ece9d86",
   "metadata": {},
   "source": [
    "We can also chain together operations.\n",
    "\n",
    "When doing this, Python follows the standard [order of operations](https://en.wikipedia.org/wiki/Order_of_operations) — parenthesis, exponents,\n",
    "multiplication and division, followed by addition and subtraction.\n",
    "\n",
    "For example,"
   ]
  },
  {
   "cell_type": "code",
   "execution_count": 19,
   "id": "dda07ca9-b4a6-4832-9f66-753ff4c28c1e",
   "metadata": {},
   "outputs": [],
   "source": [
    "x = 2.0\n",
    "y = 3.0\n",
    "z1 = x + y * x\n",
    "z2 = (x + y) * x"
   ]
  },
  {
   "cell_type": "markdown",
   "id": "13b88874-4731-487a-983c-9112fdaa3924",
   "metadata": {},
   "source": [
    "**Question:** What is stored in variable `z1`?"
   ]
  },
  {
   "cell_type": "code",
   "execution_count": null,
   "id": "1bc7c948-b181-4709-b6c4-1d957f908699",
   "metadata": {},
   "outputs": [],
   "source": []
  },
  {
   "cell_type": "markdown",
   "id": "73a07412-f8a1-483c-b753-76bb9703f62b",
   "metadata": {},
   "source": [
    "**Question:** What is stored in variable `z2`?"
   ]
  },
  {
   "cell_type": "code",
   "execution_count": null,
   "id": "15a48ece-9204-4f44-835c-c0b5a5a226cb",
   "metadata": {},
   "outputs": [],
   "source": []
  },
  {
   "cell_type": "markdown",
   "id": "0a302d66-9332-4c32-b2f5-68302a8e43ce",
   "metadata": {},
   "source": [
    "### Other Math Functions\n",
    "\n",
    "We often want to use other math functions on our numbers. Let’s try to\n",
    "calculate sin(2.5)."
   ]
  },
  {
   "cell_type": "code",
   "execution_count": 20,
   "id": "9995395f-03df-4486-8d3f-7c73e6d57c81",
   "metadata": {},
   "outputs": [
    {
     "ename": "NameError",
     "evalue": "name 'sin' is not defined",
     "output_type": "error",
     "traceback": [
      "\u001b[0;31m---------------------------------------------------------------------------\u001b[0m",
      "\u001b[0;31mNameError\u001b[0m                                 Traceback (most recent call last)",
      "Cell \u001b[0;32mIn[20], line 1\u001b[0m\n\u001b[0;32m----> 1\u001b[0m sin(\u001b[38;5;241m2.5\u001b[39m)\n",
      "\u001b[0;31mNameError\u001b[0m: name 'sin' is not defined"
     ]
    }
   ],
   "source": [
    "sin(2.5)"
   ]
  },
  {
   "cell_type": "markdown",
   "id": "08fe3298-b721-4171-ab11-7951752fde8e",
   "metadata": {},
   "source": [
    "As seen above, Python complains that `sin` isn’t defined.\n",
    "\n",
    "The problem here is that the `sin` function – as well as many other\n",
    "standard math functions – are contained in the `math` package.\n",
    "\n",
    "We must begin by importing the `math` package."
   ]
  },
  {
   "cell_type": "code",
   "execution_count": 21,
   "id": "4645ea9a-b51b-4566-be7f-2f1f2716a446",
   "metadata": {},
   "outputs": [],
   "source": [
    "import math"
   ]
  },
  {
   "cell_type": "markdown",
   "id": "493e6c39-6eee-4d08-88c1-e6f7a9e32ca2",
   "metadata": {},
   "source": [
    "Why do you think python takes this approach to importing libraries?\n",
    "\n",
    "**Question:** How does this compare with other programming or scripting languages that you know?"
   ]
  },
  {
   "cell_type": "markdown",
   "id": "dd677e5c-7b62-42ac-a6c7-c4e840411663",
   "metadata": {},
   "source": []
  },
  {
   "cell_type": "markdown",
   "id": "4c0f1b42-60af-46f5-89cf-ad26d018c655",
   "metadata": {},
   "source": [
    "Now, we can use `math.<< TAB >>` to see what functions are available to us."
   ]
  },
  {
   "cell_type": "code",
   "execution_count": null,
   "id": "11f3e5df-e0d6-44b9-a02d-f1fe545c3d2e",
   "metadata": {},
   "outputs": [],
   "source": [
    "math."
   ]
  },
  {
   "cell_type": "markdown",
   "id": "60484311-f4ae-4888-a495-393a7f540e5b",
   "metadata": {},
   "source": [
    "Is there a function in the standard math library for `sin`?\n",
    "\n",
    "**Question:** Can you use it to find `sin(2.5)`?"
   ]
  },
  {
   "cell_type": "code",
   "execution_count": null,
   "id": "cf7b5b5d-302b-48c4-bfad-ceb5b81cd813",
   "metadata": {},
   "outputs": [],
   "source": []
  },
  {
   "cell_type": "markdown",
   "id": "5d20ae01-effd-4b64-b616-51fe63dc776a",
   "metadata": {},
   "source": [
    "**Question:** How might you get help with knowing if the `math.sin` function is returning what you expect?"
   ]
  },
  {
   "cell_type": "markdown",
   "id": "ab108ef7-d986-4db0-b5a6-ad4edcdd927e",
   "metadata": {},
   "source": [
    "<details>\n",
    "\n",
    "<summary><strong>ANSWER</strong></summary>\n",
    "\n",
    "You could use google or you can use `math.sin?`\n",
    "\n",
    "</details>"
   ]
  },
  {
   "cell_type": "code",
   "execution_count": null,
   "id": "1441d8dd-71c9-4ed3-b753-5ce10aa99b81",
   "metadata": {},
   "outputs": [],
   "source": []
  },
  {
   "cell_type": "markdown",
   "id": "99b485a6-45d1-4bc2-9e06-45394e1feb3b",
   "metadata": {},
   "source": [
    "## Strings\n",
    "\n",
    "Text information is stored in a data type called a string.\n",
    "\n",
    "To denote that you would like something to be stored as a string, you place it\n",
    "inside of quotation marks.\n",
    "\n",
    "For example,\n",
    "\n",
    "```python\n",
    "\"this is a string\"  # Notice the quotation marks\n",
    "'this is a string'  # Notice the quotation marks\n",
    "this is not a string  # No quotation marks\n",
    "```\n",
    "\n",
    "You can use either `\"` or `'` to create a string. Just make sure\n",
    "that you start and end the string with the same one!\n",
    "\n",
    "Notice that if we ask Python to tell us the type of a string, it abbreviates\n",
    "its answer to `str`.\n"
   ]
  },
  {
   "cell_type": "code",
   "execution_count": 25,
   "id": "0147c5d3-8844-4c5d-936b-6d94cfdcb4ba",
   "metadata": {},
   "outputs": [
    {
     "data": {
      "text/plain": [
       "str"
      ]
     },
     "execution_count": 25,
     "metadata": {},
     "output_type": "execute_result"
    }
   ],
   "source": [
    "type(\"this is a string\")\n"
   ]
  },
  {
   "cell_type": "markdown",
   "id": "163adbae-a5da-4fcb-ae9a-bfcff2daade5",
   "metadata": {},
   "source": [
    "How do you think a computer stores a string in memory?"
   ]
  },
  {
   "cell_type": "markdown",
   "id": "21df7678-a008-4cb2-a11c-49264eba5a5c",
   "metadata": {},
   "source": [
    "<details>\n",
    "\n",
    "<summary><strong>ANSWER</strong></summary>\n",
    "\n",
    "A string is stored as a list of characters. So for example\n",
    "\n",
    "```python\n",
    "a = \"This is a string\"\n",
    "```\n",
    "\n",
    "is stored like a list of the characters ['T', 'h', 'i', 's', ' ', .....]\n",
    "\n",
    "</details>"
   ]
  },
  {
   "cell_type": "markdown",
   "id": "af9965ee-00b4-4132-97eb-5a6d2367e391",
   "metadata": {},
   "source": [
    "### String Operations\n",
    "\n",
    "Some of the arithmetic operators we saw in the numbers lecture also work\n",
    "on strings:\n",
    "\n",
    "- Put two strings together: `x + y`.  \n",
    "- Repeat the string `x` a total of `n` times: `n * x` (or `x * n`).  "
   ]
  },
  {
   "cell_type": "code",
   "execution_count": 26,
   "id": "4dbdd3b0-956c-4e4b-ac54-57d73e2c6c75",
   "metadata": {},
   "outputs": [],
   "source": [
    "x = \"Hello\"\n",
    "y = \"World\""
   ]
  },
  {
   "cell_type": "markdown",
   "id": "90f4ab13-4ecc-4b6f-bb23-a39a9d150b04",
   "metadata": {},
   "source": [
    "**Question:** How would you combine to make the sentence \"Hello World\"?"
   ]
  },
  {
   "cell_type": "code",
   "execution_count": null,
   "id": "9163b73b-6004-441b-ba1c-80b901771121",
   "metadata": {},
   "outputs": [],
   "source": []
  },
  {
   "cell_type": "markdown",
   "id": "27e9ede5-bb26-4fd3-8880-73cda791bfab",
   "metadata": {},
   "source": [
    "What happens if we try `*` with two strings, or `-` or `/`?\n",
    "\n",
    "The best way to find out is to try it!"
   ]
  },
  {
   "cell_type": "code",
   "execution_count": null,
   "id": "a69804d8-cce6-49df-a72e-4dfb6ccfcc29",
   "metadata": {},
   "outputs": [],
   "source": []
  },
  {
   "cell_type": "code",
   "execution_count": null,
   "id": "cd06ce8c-a885-4ec8-ba27-4a09c2f55cf7",
   "metadata": {},
   "outputs": [],
   "source": []
  },
  {
   "cell_type": "markdown",
   "id": "b9291ce2-65fb-4d52-86f5-15d83fb497bf",
   "metadata": {},
   "source": [
    "### String Methods\n",
    "\n",
    "We can use many *methods* to manipulate strings.\n",
    "\n",
    "<details>\n",
    "\n",
    "<summary><strong>Python and Objects</strong></summary>\n",
    "\n",
    "**Hint:** Everything in the Python programming language is an object, meaning it contains both data and methods.\n",
    "\n",
    "For example the `string` object stores a list of characters of given length and provides methods that operate\n",
    "on that data. \n",
    "\n",
    "</details>\n",
    "\n",
    "<br>\n",
    "\n",
    "We will not be able to cover all of them here, but let’s take a look at\n",
    "some of the most useful ones."
   ]
  },
  {
   "cell_type": "markdown",
   "id": "e30e29e5-e106-4fc5-9a92-bb2efa4f1551",
   "metadata": {},
   "source": [
    "How can you explore what methods are provided for working with strings? (hint: << tab >>)"
   ]
  },
  {
   "cell_type": "code",
   "execution_count": null,
   "id": "5e5d557d-afaf-4d47-b4f2-b54f077cee16",
   "metadata": {},
   "outputs": [],
   "source": [
    "x."
   ]
  },
  {
   "cell_type": "code",
   "execution_count": 29,
   "id": "9051354e-962a-451a-9f54-6eda6b3b7a2f",
   "metadata": {},
   "outputs": [
    {
     "name": "stdout",
     "output_type": "stream",
     "text": [
      "Hello\n"
     ]
    }
   ],
   "source": [
    "print(x)"
   ]
  },
  {
   "cell_type": "code",
   "execution_count": 28,
   "id": "cd997e8a-53d5-4b2e-8f63-cf315fd53a7f",
   "metadata": {},
   "outputs": [
    {
     "data": {
      "text/plain": [
       "'hello'"
      ]
     },
     "execution_count": 28,
     "metadata": {},
     "output_type": "execute_result"
    }
   ],
   "source": [
    "x.lower()  # Makes all letters lower case\n"
   ]
  },
  {
   "cell_type": "code",
   "execution_count": 30,
   "id": "e4e5a811-603c-4b1f-b512-ab38004b15f6",
   "metadata": {},
   "outputs": [
    {
     "data": {
      "text/plain": [
       "'HELLO'"
      ]
     },
     "execution_count": 30,
     "metadata": {},
     "output_type": "execute_result"
    }
   ],
   "source": [
    "x.upper()  # Makes all letters upper case\n"
   ]
  },
  {
   "cell_type": "code",
   "execution_count": 31,
   "id": "cf03d1e1-3308-4dae-b3c4-f5e7fba63f0e",
   "metadata": {},
   "outputs": [
    {
     "data": {
      "text/plain": [
       "2"
      ]
     },
     "execution_count": 31,
     "metadata": {},
     "output_type": "execute_result"
    }
   ],
   "source": [
    "x.count(\"l\")  # Counts number of a particular string\n"
   ]
  },
  {
   "cell_type": "markdown",
   "id": "780de696-9604-4d0d-8b5a-659b1d980169",
   "metadata": {},
   "source": [
    "**Question:** What would `x.count(\"ll\")` return?"
   ]
  },
  {
   "cell_type": "code",
   "execution_count": null,
   "id": "ba253639-d2cd-4b32-a7e1-29fa32d16fce",
   "metadata": {},
   "outputs": [],
   "source": []
  },
  {
   "cell_type": "markdown",
   "id": "1b09ee4c-3fce-42d2-a197-dc00ae756882",
   "metadata": {},
   "source": [
    "### String Formatting\n",
    "\n",
    "Sometimes we’d like to reuse some portion of a string repeatedly, but\n",
    "still make some relatively small changes at each usage.\n",
    "\n",
    "We can do this with *string formatting*, which done by using `{}` as a\n",
    "*placeholder* where we’d like to change the string, with a variable name\n",
    "or expression.\n",
    "\n",
    "Let’s look at an example."
   ]
  },
  {
   "cell_type": "code",
   "execution_count": 32,
   "id": "ff6a2e0e-2c27-46ad-b1b4-7f5c8362dad2",
   "metadata": {},
   "outputs": [
    {
     "name": "stdout",
     "output_type": "stream",
     "text": [
      "Vietnam had $223.9 billion GDP in 2017\n"
     ]
    }
   ],
   "source": [
    "country = \"Vietnam\"\n",
    "GDP = 223.9\n",
    "year = 2017\n",
    "\n",
    "my_string = f\"{country} had ${GDP} billion GDP in {year}\"\n",
    "print(my_string)\n"
   ]
  },
  {
   "cell_type": "markdown",
   "id": "d03d8dd4-6ab0-42ac-96d3-32b9ad2938e4",
   "metadata": {},
   "source": [
    "In these cases, the `f` in front of the string causes Python to interpolate\n",
    "any valid expression within the `{}` braces.\n",
    "\n",
    "Alternatively, to reuse a formatted string, you can call the `format` method (noting that you do **not** put `f` in front)."
   ]
  },
  {
   "cell_type": "code",
   "execution_count": 34,
   "id": "f6f48364-3ce6-4f35-a726-85b99443ecca",
   "metadata": {},
   "outputs": [
    {
     "data": {
      "text/plain": [
       "'Vietnam had $223.9 billion in 2017'"
      ]
     },
     "execution_count": 34,
     "metadata": {},
     "output_type": "execute_result"
    }
   ],
   "source": [
    "gdp_string = \"{country} had ${GDP} billion in {year}\"\n",
    "\n",
    "gdp_string.format(country=\"Vietnam\", GDP=223.9, year=2017)\n"
   ]
  },
  {
   "cell_type": "markdown",
   "id": "3a214651-a93a-48e5-9edb-eac4f757ff14",
   "metadata": {},
   "source": [
    "In practice you almost always use `f\"{country} had ${GDP} billion GDP in {year}\"` unless you are saving a template string to be used later. "
   ]
  },
  {
   "cell_type": "markdown",
   "id": "1811022b-566d-4cae-a34b-0a1870cc6dcb",
   "metadata": {},
   "source": [
    "For more information on what you can do with string formatting (there is *a lot*\n",
    "that can be done…), see the [official Python documentation](https://docs.python.org/3.6/library/string.html) on the subject."
   ]
  },
  {
   "cell_type": "markdown",
   "id": "0199ae1c-8e7c-4a72-9aa7-589c0c1727aa",
   "metadata": {},
   "source": [
    "**Question:** Can you set a variable `a` to be the string \"Hi, my name is {name}\"?"
   ]
  },
  {
   "cell_type": "code",
   "execution_count": null,
   "id": "8632ad99-99f4-42c2-974a-7a68904f0158",
   "metadata": {},
   "outputs": [],
   "source": []
  },
  {
   "cell_type": "markdown",
   "id": "113cb086-c3e0-46e4-bb56-b514f25ac258",
   "metadata": {},
   "source": [
    "**Question:** How would you substitue `{name}` for your name?"
   ]
  },
  {
   "cell_type": "code",
   "execution_count": null,
   "id": "ca3ffb3e-ad92-420c-ace2-ecd72826249b",
   "metadata": {},
   "outputs": [],
   "source": []
  },
  {
   "cell_type": "markdown",
   "id": "babebbbd-4d91-4c12-8423-5d81b22fb45a",
   "metadata": {},
   "source": [
    "**Question:** How many characters are contained in the sentence?"
   ]
  },
  {
   "cell_type": "code",
   "execution_count": null,
   "id": "3a583997-5f99-4bda-afc0-084337e3a7bb",
   "metadata": {},
   "outputs": [],
   "source": []
  },
  {
   "cell_type": "markdown",
   "id": "d81b3000-763d-4fd0-ba86-1b7260e6cebc",
   "metadata": {},
   "source": [
    "**Question:** How many english characters are contained in the sentence?"
   ]
  },
  {
   "cell_type": "code",
   "execution_count": null,
   "id": "ee3ec915-ea8b-4ae8-ac55-d935c6a28085",
   "metadata": {},
   "outputs": [],
   "source": []
  },
  {
   "cell_type": "markdown",
   "id": "b0880d09-9fca-4c4d-ac94-7eb68ec61d24",
   "metadata": {},
   "source": [
    "**Question:** How many punctuation or formatting characters are contained int he sentence?"
   ]
  },
  {
   "cell_type": "code",
   "execution_count": null,
   "id": "5916e9bd-deab-473e-b22e-e475cf17f36c",
   "metadata": {},
   "outputs": [],
   "source": []
  },
  {
   "cell_type": "markdown",
   "id": "45d89fe8-5a41-42ac-bf66-1a7913a69951",
   "metadata": {},
   "source": [
    "**Question:** How would you get all the words into a list? (i.e `['Hi', 'my', 'name', 'is', 'name']`)"
   ]
  },
  {
   "cell_type": "code",
   "execution_count": null,
   "id": "08bd4f6f-784a-4488-a533-97bd97e82b4a",
   "metadata": {},
   "outputs": [],
   "source": []
  },
  {
   "cell_type": "markdown",
   "id": "40dda6c1-24c6-4f90-b0c5-e40e450a0a5e",
   "metadata": {},
   "source": [
    "## Booleans\n",
    "\n",
    "A boolean is a type that denotes true or false.\n",
    "\n",
    "Let’s start by creating some booleans and looking at them."
   ]
  },
  {
   "cell_type": "code",
   "execution_count": 36,
   "id": "981d4fee-2fd2-48a2-9efc-e3133f1a5137",
   "metadata": {},
   "outputs": [
    {
     "data": {
      "text/plain": [
       "bool"
      ]
     },
     "execution_count": 36,
     "metadata": {},
     "output_type": "execute_result"
    }
   ],
   "source": [
    "x = True\n",
    "y = False\n",
    "\n",
    "type(x)"
   ]
  },
  {
   "cell_type": "markdown",
   "id": "f5ea0490-f972-42fd-a15a-c4ddd258172b",
   "metadata": {},
   "source": [
    "**Question:** What do you think Booleans might be useful for in Python?"
   ]
  },
  {
   "cell_type": "markdown",
   "id": "b7a62014-30c2-4403-aec1-99a66946cfae",
   "metadata": {},
   "source": []
  },
  {
   "cell_type": "markdown",
   "id": "7b22faf1-5601-4465-8f0a-7fc26997712d",
   "metadata": {},
   "source": [
    "### Comparison Operators\n",
    "\n",
    "Rather than directly write `True` or `False`, you will usually\n",
    "create booleans by making a comparison.\n",
    "\n",
    "For example, you might want to evaluate whether the price of a particular asset\n",
    "is greater than or less than some price.\n",
    "\n",
    "For two variables `x` and `y`, we can do the following comparisons:\n",
    "\n",
    "- Greater than: `x > y`  \n",
    "- Less than: `x < y`  \n",
    "- Equal to: `==`  \n",
    "- Greater than or equal to: `x >= y`  \n",
    "- Less than or equal to: `x <= y`  \n",
    "\n",
    "\n",
    "We demonstrate these below."
   ]
  },
  {
   "cell_type": "code",
   "execution_count": 37,
   "id": "ad0b145c-bba0-404f-8ae5-4e0ecf51c1e4",
   "metadata": {},
   "outputs": [
    {
     "name": "stdout",
     "output_type": "stream",
     "text": [
      "a > b is True\n",
      "a < b is False\n",
      "a == b is False\n",
      "a >= b is True\n",
      "a <= b is False\n"
     ]
    }
   ],
   "source": [
    "a = 4\n",
    "b = 2\n",
    "\n",
    "print(\"a > b\", \"is\", a > b)\n",
    "print(\"a < b\", \"is\", a < b)\n",
    "print(\"a == b\", \"is\", a == b)\n",
    "print(\"a >= b\", \"is\", a >= b)\n",
    "print(\"a <= b\", \"is\", a <= b)"
   ]
  },
  {
   "cell_type": "markdown",
   "id": "72fd40b6-cec9-44b1-90aa-2593f9349e7a",
   "metadata": {},
   "source": [
    "### Negation\n",
    "\n",
    "Occasionally, determining whether a statement is\n",
    "“not true” or “not false” is more convenient than simply “true” or “false”.\n",
    "\n",
    "This is known as *negating* a statement.\n",
    "\n",
    "In Python, we can negate a boolean using the word `not`."
   ]
  },
  {
   "cell_type": "code",
   "execution_count": 38,
   "id": "48c3b139-f284-4d5d-aa7d-4eecf459945d",
   "metadata": {},
   "outputs": [
    {
     "data": {
      "text/plain": [
       "True"
      ]
     },
     "execution_count": 38,
     "metadata": {},
     "output_type": "execute_result"
    }
   ],
   "source": [
    "not False"
   ]
  },
  {
   "cell_type": "code",
   "execution_count": 39,
   "id": "6a785c18-7e38-46ac-b9dd-5be811cabd8a",
   "metadata": {},
   "outputs": [
    {
     "data": {
      "text/plain": [
       "False"
      ]
     },
     "execution_count": 39,
     "metadata": {},
     "output_type": "execute_result"
    }
   ],
   "source": [
    "not True"
   ]
  },
  {
   "cell_type": "markdown",
   "id": "a91a27b1-e689-4f64-b04a-9d32dfa51e6b",
   "metadata": {},
   "source": [
    "### Multiple Comparisons (and/or)\n",
    "\n",
    "Sometimes we need to evaluate multiple comparisons at once.\n",
    "\n",
    "This is done by using the words `and` and `or`.\n",
    "\n",
    "However, these are the “mathematical” *and*s and *or*s – so they\n",
    "don’t carry the same meaning as you’d use them in colloquial English.\n",
    "\n",
    "- `a and b` is true only when **both** `a` and `b` are true.  \n",
    "- `a or b` is true whenever at least one of `a` or `b` is true.  \n",
    "\n",
    "\n",
    "For example\n",
    "\n",
    "- The statement “I will accept the new job if the salary is higher\n",
    "  *and* I receive more vacation days” means that you would only accept\n",
    "  the new job if you both receive a higher salary and are given more\n",
    "  vacation days.  \n",
    "- The statement “I will accept the new job if the salary is higher *or*\n",
    "  I receive more vacation days” means that you would accept the job if\n",
    "  (1) they raised your salary, (2) you are given more vacation days, or\n",
    "  (3) they raise your salary and give you more vacation days.  \n",
    "\n",
    "\n",
    "Let’s see some examples."
   ]
  },
  {
   "cell_type": "code",
   "execution_count": 40,
   "id": "2cf01fdb-a360-4bc4-a6a6-6dd2304b7c10",
   "metadata": {},
   "outputs": [
    {
     "data": {
      "text/plain": [
       "False"
      ]
     },
     "execution_count": 40,
     "metadata": {},
     "output_type": "execute_result"
    }
   ],
   "source": [
    "True and False"
   ]
  },
  {
   "cell_type": "code",
   "execution_count": 41,
   "id": "685ee871-84f8-417b-a3ec-e029e0b5ab8b",
   "metadata": {},
   "outputs": [
    {
     "data": {
      "text/plain": [
       "True"
      ]
     },
     "execution_count": 41,
     "metadata": {},
     "output_type": "execute_result"
    }
   ],
   "source": [
    "True or False"
   ]
  },
  {
   "cell_type": "code",
   "execution_count": 42,
   "id": "a86444b1-99fe-4c92-9a6c-f69bb2bf453c",
   "metadata": {},
   "outputs": [
    {
     "data": {
      "text/plain": [
       "True"
      ]
     },
     "execution_count": 42,
     "metadata": {},
     "output_type": "execute_result"
    }
   ],
   "source": [
    "# Can chain multiple comparisons together.\n",
    "True and (False or True)"
   ]
  },
  {
   "cell_type": "markdown",
   "id": "e882b7d0-e5b9-4f84-a95f-3c30107c5f6e",
   "metadata": {},
   "source": [
    "### Application: Control the flow of a program\n",
    "\n",
    "\n",
    "Boolean values are used to control the flow of a program. \n",
    "\n",
    "For example, using an `if` statement you can evaluate if a part of a program should execute based on a condition"
   ]
  },
  {
   "cell_type": "code",
   "execution_count": 45,
   "id": "2239f504-213d-4ede-93f9-0e427922c487",
   "metadata": {},
   "outputs": [
    {
     "name": "stdout",
     "output_type": "stream",
     "text": [
      "2 is greater than 1\n"
     ]
    }
   ],
   "source": [
    "x = 1\n",
    "y = 2\n",
    "if y > x:\n",
    "    print(f\"{y} is greater than {x}\")\n",
    "else:\n",
    "    print(f\"{y} is less than or equal to {x}\")"
   ]
  },
  {
   "cell_type": "markdown",
   "id": "a89ee4d3-5308-473e-b81d-7c17016fc023",
   "metadata": {},
   "source": [
    "**We will practice these in Exercise Set #3**"
   ]
  },
  {
   "cell_type": "markdown",
   "id": "8eaa951c-9d87-4ff9-a487-9d36298d8176",
   "metadata": {},
   "source": [
    "## Collection in Python (Objects and Functions)\n",
    "\n",
    "Python provides you with many convenient data types that aren't always available in other programming languages\n",
    "\n",
    "This include:\n",
    "\n",
    "1. Ordered collections (list, tuple)\n",
    "2. Associate collections (dict)\n",
    "3. Sets"
   ]
  },
  {
   "cell_type": "markdown",
   "id": "b752f689-ada3-4437-8051-6fb3fb71a9b2",
   "metadata": {},
   "source": [
    "## Ordered Collections"
   ]
  },
  {
   "cell_type": "markdown",
   "id": "4772803d-d92c-4ba2-888c-aea4033511dd",
   "metadata": {},
   "source": [
    "### Lists\n",
    "\n",
    "A Python list is an ordered collection of items.\n",
    "\n",
    "We can create lists using the following syntax\n",
    "\n",
    "```python\n",
    "[item1, item2, ...,  itemN]\n",
    "```\n",
    "\n",
    "where the `...` represents any number of additional items.\n",
    "\n",
    "Each item can be of any type.\n"
   ]
  },
  {
   "cell_type": "code",
   "execution_count": null,
   "id": "e04eb0ec-a056-4ab4-bbc1-50980ed03213",
   "metadata": {},
   "outputs": [],
   "source": [
    "# created, but not assigned to a variable\n",
    "[2.0, 9.1, 12.5]"
   ]
  },
  {
   "cell_type": "code",
   "execution_count": 46,
   "id": "ce430c37-1786-4ebb-b9ec-e15dadf1fc28",
   "metadata": {},
   "outputs": [
    {
     "name": "stdout",
     "output_type": "stream",
     "text": [
      "x has type <class 'list'>\n"
     ]
    },
    {
     "data": {
      "text/plain": [
       "[2.0, 9.1, 12.5]"
      ]
     },
     "execution_count": 46,
     "metadata": {},
     "output_type": "execute_result"
    }
   ],
   "source": [
    "# stored as the variable `x`\n",
    "x = [2.0, 9.1, 12.5]\n",
    "print(\"x has type\", type(x))\n",
    "x"
   ]
  },
  {
   "cell_type": "markdown",
   "id": "8027bae3-7c23-478b-9300-2a481d42a709",
   "metadata": {},
   "source": [
    "#### What Can We Do with Lists?\n",
    "\n",
    "We can access items in a list called `mylist` using `mylist[N]`\n",
    "where `N` is an integer.\n",
    "\n",
    "Note: Anytime that we use the syntax `x[i]` we are doing what is\n",
    "called indexing – it means that we are selecting a particular element\n",
    "of a *collection* `x`."
   ]
  },
  {
   "cell_type": "code",
   "execution_count": 47,
   "id": "184899cc-571a-4630-829f-b81d076869a6",
   "metadata": {},
   "outputs": [
    {
     "name": "stdout",
     "output_type": "stream",
     "text": [
      "[2.0, 9.1, 12.5]\n"
     ]
    },
    {
     "data": {
      "text/plain": [
       "9.1"
      ]
     },
     "execution_count": 47,
     "metadata": {},
     "output_type": "execute_result"
    }
   ],
   "source": [
    "print(x)\n",
    "x[1]"
   ]
  },
  {
   "cell_type": "markdown",
   "id": "8230ebb4-b4b0-470d-97fd-313d6cf83206",
   "metadata": {},
   "source": [
    "**Question:** Why didn't `x[1]` return `2.0`?"
   ]
  },
  {
   "cell_type": "code",
   "execution_count": null,
   "id": "0d38c3ae-16b8-416a-9fc3-5f7aa5a3a015",
   "metadata": {},
   "outputs": [],
   "source": []
  },
  {
   "cell_type": "markdown",
   "id": "560e3d4f-272c-4b00-a009-37a4ae0478d6",
   "metadata": {},
   "source": [
    "\n",
    "<details>\n",
    "\n",
    "<summary><strong>Why did `x[1]` return `9.1`</strong></summary>\n",
    "\n",
    "Wait? Why did `x[1]` return `9.1` when the first element in x is\n",
    "actually `2.0`?\n",
    "\n",
    "This happened because Python starts counting at zero! It is a zero indexed language (much to the frustration of the math community)\n",
    "\n",
    "Try running\n",
    "\n",
    "```python\n",
    "x[0]\n",
    "```\n",
    "\n",
    "</details>\n",
    "\n",
    "<br>\n",
    "\n"
   ]
  },
  {
   "cell_type": "markdown",
   "id": "2cb2b500-6b35-44d9-beb2-c42184c2f92c",
   "metadata": {},
   "source": [
    "We can also determine how many items are in a list using the `len` function."
   ]
  },
  {
   "cell_type": "code",
   "execution_count": 48,
   "id": "c8bbabca-73bf-4048-8e65-8d73b82cc131",
   "metadata": {},
   "outputs": [
    {
     "data": {
      "text/plain": [
       "3"
      ]
     },
     "execution_count": 48,
     "metadata": {},
     "output_type": "execute_result"
    }
   ],
   "source": [
    "len(x)"
   ]
  },
  {
   "cell_type": "markdown",
   "id": "cd527747-4fcc-414b-8960-0aacb02682f9",
   "metadata": {},
   "source": [
    "**Question:** What happens if we try to index with a number higher than the number of\n",
    "items in a list?"
   ]
  },
  {
   "cell_type": "code",
   "execution_count": null,
   "id": "f7018a5d-b5b6-458a-8987-2d0a742a9e42",
   "metadata": {},
   "outputs": [],
   "source": [
    "x[4]"
   ]
  },
  {
   "cell_type": "markdown",
   "id": "a87b7631-4613-43e0-a7ec-ef19e118db82",
   "metadata": {},
   "source": [
    "We can check if a list contains an element using the `in` keyword."
   ]
  },
  {
   "cell_type": "code",
   "execution_count": 49,
   "id": "f2bc12a5-77da-41d3-8c6a-160dd570b77c",
   "metadata": {},
   "outputs": [
    {
     "data": {
      "text/plain": [
       "True"
      ]
     },
     "execution_count": 49,
     "metadata": {},
     "output_type": "execute_result"
    }
   ],
   "source": [
    "2.0 in x"
   ]
  },
  {
   "cell_type": "markdown",
   "id": "7f2517e6-a309-454c-a315-c439e8871535",
   "metadata": {},
   "source": [
    "For our list `x`, other common operations we might want to do are…"
   ]
  },
  {
   "cell_type": "code",
   "execution_count": 50,
   "id": "454a6ee5-bf70-46c4-ae92-7ab37f1b13e2",
   "metadata": {},
   "outputs": [
    {
     "data": {
      "text/plain": [
       "[2.0, 9.1, 12.5]"
      ]
     },
     "execution_count": 50,
     "metadata": {},
     "output_type": "execute_result"
    }
   ],
   "source": [
    "x"
   ]
  },
  {
   "cell_type": "code",
   "execution_count": 51,
   "id": "fe464001-7a6a-49ac-9ab3-b160a2e43620",
   "metadata": {},
   "outputs": [],
   "source": [
    "x.reverse()"
   ]
  },
  {
   "cell_type": "code",
   "execution_count": 52,
   "id": "30feb67d-9ca9-49dc-807a-0cbe4326aeef",
   "metadata": {},
   "outputs": [
    {
     "data": {
      "text/plain": [
       "[12.5, 9.1, 2.0]"
      ]
     },
     "execution_count": 52,
     "metadata": {},
     "output_type": "execute_result"
    }
   ],
   "source": [
    "x"
   ]
  },
  {
   "cell_type": "markdown",
   "id": "29e75321-8fd4-418c-9aae-60124eacf992",
   "metadata": {},
   "source": [
    "**Note:** this operation happened in place -- meaning the list object linked to the variable `x` is in the reversed order. In place operations are **not** always the default behaviour. "
   ]
  },
  {
   "cell_type": "markdown",
   "id": "4c7644fd-c7ea-448f-8107-40cbbc279f4f",
   "metadata": {},
   "source": [
    "### Sorting"
   ]
  },
  {
   "cell_type": "code",
   "execution_count": 53,
   "id": "948ab835-6911-4401-975a-2ac868383fc8",
   "metadata": {},
   "outputs": [
    {
     "name": "stdout",
     "output_type": "stream",
     "text": [
      "Before sort: [10, 25, 42, 1.0]\n",
      "After sort: [1.0, 10, 25, 42]\n"
     ]
    }
   ],
   "source": [
    "number_list = [10, 25, 42, 1.0]\n",
    "print(\"Before sort:\", number_list)\n",
    "number_list.sort()\n",
    "print(\"After sort:\", number_list)"
   ]
  },
  {
   "cell_type": "markdown",
   "id": "0aa61608-5973-44cd-bdfa-fe434a0c426a",
   "metadata": {},
   "source": [
    "The `append` method adds an element to the end of existing list."
   ]
  },
  {
   "cell_type": "code",
   "execution_count": 56,
   "id": "da9c959b-4fe0-4b9c-9dce-b2e204f219a3",
   "metadata": {},
   "outputs": [
    {
     "name": "stdout",
     "output_type": "stream",
     "text": [
      "Before append: [10, 25, 42, 8]\n",
      "After append: [10, 25, 42, 8, 'Number']\n"
     ]
    }
   ],
   "source": [
    "num_list = [10, 25, 42, 8]\n",
    "print(\"Before append:\", num_list)\n",
    "num_list.append(\"Number\")\n",
    "print(\"After append:\", num_list)"
   ]
  },
  {
   "cell_type": "markdown",
   "id": "e5608018-0f5e-4895-bc98-0382a61ad9dc",
   "metadata": {},
   "source": [
    "**Question:** Do you notice anything interesting about the above example? Are the list elements all the same type?"
   ]
  },
  {
   "cell_type": "markdown",
   "id": "58b3c8f1-3fb6-4aa1-9deb-02469149f467",
   "metadata": {},
   "source": []
  },
  {
   "cell_type": "markdown",
   "id": "e254d187-3c38-40eb-8a4f-63eb1315b736",
   "metadata": {},
   "source": [
    "To combine the lists"
   ]
  },
  {
   "cell_type": "code",
   "execution_count": 58,
   "id": "f12e9ec3-8456-4362-b2a4-250a3d18cd3f",
   "metadata": {},
   "outputs": [
    {
     "name": "stdout",
     "output_type": "stream",
     "text": [
      "Before extend: [10, 25, 42, 8]\n"
     ]
    }
   ],
   "source": [
    "num_list = [10, 25, 42, 8]\n",
    "print(\"Before extend:\", num_list)"
   ]
  },
  {
   "cell_type": "code",
   "execution_count": 59,
   "id": "ea2fb8d2-851c-4922-9c4b-c512f9a653e6",
   "metadata": {},
   "outputs": [],
   "source": [
    "num_list.extend([20, 4])"
   ]
  },
  {
   "cell_type": "code",
   "execution_count": 60,
   "id": "ea3f265e-88dc-4d58-9d21-accb0a73ab55",
   "metadata": {},
   "outputs": [
    {
     "name": "stdout",
     "output_type": "stream",
     "text": [
      "After extend: [10, 25, 42, 8, 20, 4]\n"
     ]
    }
   ],
   "source": [
    "print(\"After extend:\", num_list)"
   ]
  },
  {
   "cell_type": "code",
   "execution_count": 61,
   "id": "e5d9fef4-53e0-4a2c-b3a9-960f206cba8a",
   "metadata": {},
   "outputs": [
    {
     "data": {
      "text/plain": [
       "[10, 25, 42, 8, 20, 4]"
      ]
     },
     "execution_count": 61,
     "metadata": {},
     "output_type": "execute_result"
    }
   ],
   "source": [
    "# You can also use `+` \n",
    "[10, 25, 42, 8] + [20, 4]"
   ]
  },
  {
   "cell_type": "markdown",
   "id": "e340d936-af9e-4b7c-9819-a0655e503257",
   "metadata": {},
   "source": [
    "**Question**\n",
    "\n",
    "In the first cell, try `y.append(z)`.\n",
    "\n",
    "In the second cell try `y.extend(z)`.\n",
    "\n",
    "Explain the behavior.\n",
    "\n",
    "HINT: When you are trying to explain use `y.append?` and `y.extend?` to\n",
    "see a description of what these methods are supposed to do."
   ]
  },
  {
   "cell_type": "code",
   "execution_count": 71,
   "id": "1f6f1d74-7b46-40f3-95bf-3e6f150151e6",
   "metadata": {},
   "outputs": [],
   "source": [
    "y = [\"a\", \"b\", \"c\"]\n",
    "z = [1, 2, 3]"
   ]
  },
  {
   "cell_type": "code",
   "execution_count": null,
   "id": "d89f0207-c3b1-4b58-bd00-2ad41f650b8a",
   "metadata": {},
   "outputs": [],
   "source": [
    "# use append"
   ]
  },
  {
   "cell_type": "code",
   "execution_count": null,
   "id": "92e65ea9-170d-496d-be5d-98712170f564",
   "metadata": {},
   "outputs": [],
   "source": [
    "y = [\"a\", \"b\", \"c\"]\n",
    "z = [1, 2, 3]"
   ]
  },
  {
   "cell_type": "code",
   "execution_count": null,
   "id": "91c3f299-b2c4-4a0d-a8b2-0953098b51a7",
   "metadata": {},
   "outputs": [],
   "source": [
    "# use extend"
   ]
  },
  {
   "cell_type": "markdown",
   "id": "09c54b9d-0c87-460c-a33b-9dc51d4f8e28",
   "metadata": {},
   "source": [
    "What is the difference here?"
   ]
  },
  {
   "cell_type": "markdown",
   "id": "1c3b1132-a58a-456a-a897-8df5c2bc4d8b",
   "metadata": {},
   "source": [
    "**Question:**\n",
    "\n",
    "Construct a list that contains the colours `green`, `blue`, `yellow`, `purple`"
   ]
  },
  {
   "cell_type": "code",
   "execution_count": null,
   "id": "6a496216-5c85-46e8-8602-37597870db9a",
   "metadata": {},
   "outputs": [],
   "source": []
  },
  {
   "cell_type": "markdown",
   "id": "56c859ad-2f23-4940-8aab-acc14b776889",
   "metadata": {},
   "source": [
    "Replace `blue` with `red` so the list is `['green', 'red', 'yellow', 'purple']`"
   ]
  },
  {
   "cell_type": "code",
   "execution_count": null,
   "id": "8f8302fb-7428-4f5d-a92e-4a670c931740",
   "metadata": {},
   "outputs": [],
   "source": []
  },
  {
   "cell_type": "markdown",
   "id": "0fca22f6-a165-400f-a8c9-7bc4698760a0",
   "metadata": {},
   "source": [
    "Remove `purple` so the list is `['green', 'red', 'yellow']`"
   ]
  },
  {
   "cell_type": "code",
   "execution_count": null,
   "id": "83b29b2e-16d9-4b7e-a58c-45218930d516",
   "metadata": {},
   "outputs": [],
   "source": []
  },
  {
   "cell_type": "markdown",
   "id": "7492a329-5012-4871-888c-65c5bae7bf95",
   "metadata": {},
   "source": [
    "### The `range` Function\n",
    "\n",
    "One function you will see often in Python is the `range` function.\n",
    "\n",
    "It has three versions:\n",
    "\n",
    "1. `range(N)`: goes from 0 to N-1  \n",
    "1. `range(a, N)`: goes from a to N-1  \n",
    "1. `range(a, N, d)`: goes from a to N-1, counting by d\n",
    "\n",
    "When we call the `range` function, we get back something that has type `range`:"
   ]
  },
  {
   "cell_type": "code",
   "execution_count": 77,
   "id": "498c487c-af84-414f-b3b9-e4fefcc3542d",
   "metadata": {},
   "outputs": [
    {
     "name": "stdout",
     "output_type": "stream",
     "text": [
      "type(r) <class 'range'>\n"
     ]
    }
   ],
   "source": [
    "r = range(5)\n",
    "print(\"type(r)\", type(r))"
   ]
  },
  {
   "cell_type": "code",
   "execution_count": 78,
   "id": "346b2e91-2609-4e40-bfae-3300b35dd56f",
   "metadata": {},
   "outputs": [
    {
     "data": {
      "text/plain": [
       "range(0, 5)"
      ]
     },
     "execution_count": 78,
     "metadata": {},
     "output_type": "execute_result"
    }
   ],
   "source": [
    "r"
   ]
  },
  {
   "cell_type": "code",
   "execution_count": 80,
   "id": "327bf994-981c-4303-888b-724c6b370499",
   "metadata": {},
   "outputs": [
    {
     "data": {
      "text/plain": [
       "[0, 1, 2, 3, 4]"
      ]
     },
     "execution_count": 80,
     "metadata": {},
     "output_type": "execute_result"
    }
   ],
   "source": [
    "list(r)"
   ]
  },
  {
   "cell_type": "markdown",
   "id": "9b304b92-b4b8-407a-82d1-b0a5c78652be",
   "metadata": {},
   "source": [
    "**Question:** What do you think the difference is between `r` and `list(r`)?"
   ]
  },
  {
   "cell_type": "markdown",
   "id": "71cb7d62-0590-42c1-a42d-f64c9cfd7bbb",
   "metadata": {},
   "source": [
    "**Question** Experiment with the other two versions of the `range` function."
   ]
  },
  {
   "cell_type": "code",
   "execution_count": 81,
   "id": "d261f4ce-57a0-44a5-84a9-64e4e74bc73d",
   "metadata": {},
   "outputs": [],
   "source": [
    "# try list(range(a, N)) -- you pick `a` and `N`"
   ]
  },
  {
   "cell_type": "code",
   "execution_count": null,
   "id": "7213f064-e9d0-4027-a403-aa40a81315bb",
   "metadata": {},
   "outputs": [],
   "source": [
    "# try list(range(a, N, d)) -- you pick `a`, `N`, and `d`"
   ]
  },
  {
   "cell_type": "markdown",
   "id": "f2e3db8a-0071-4448-9a9e-3188d74bd90a",
   "metadata": {},
   "source": [
    "**Question:** What do you think the range function would be useful for?"
   ]
  },
  {
   "cell_type": "code",
   "execution_count": null,
   "id": "0b9f8f13-3609-4504-a25f-7911cab00a31",
   "metadata": {},
   "outputs": [],
   "source": []
  },
  {
   "cell_type": "markdown",
   "id": "6de5bb59-319e-431f-90e4-af0773bd4fc9",
   "metadata": {},
   "source": [
    "<details>\n",
    "\n",
    "<summary><strong>One use of the range function</strong></summary>\n",
    "\n",
    "```python\n",
    "for i in range(0,5):\n",
    "    print(i)\n",
    "```\n",
    "\n",
    "</details>\n",
    "\n",
    "<br>"
   ]
  },
  {
   "cell_type": "markdown",
   "id": "00d13220-1a14-453d-8ff1-8475e37d5ef3",
   "metadata": {},
   "source": [
    "**Question:** How can you find help on the python `range` function?"
   ]
  },
  {
   "cell_type": "markdown",
   "id": "7bf71267-8e0b-494b-86e6-c87b483fcf6d",
   "metadata": {},
   "source": [
    "### What are Tuples?\n",
    "\n",
    "Tuples are very similar to lists and hold ordered collections of items.\n",
    "\n",
    "However, tuples and lists have three main differences:\n",
    "\n",
    "1. Tuples are created using parenthesis — `(` and `)` — instead of\n",
    "  square brackets — `[` and `]`.  \n",
    "1. Tuples are *immutable*, which is a fancy computer science word\n",
    "  meaning that they can’t be changed or altered after they are created.  \n",
    "1. Tuples and multiple return values\n",
    "  from functions are tightly connected\n",
    "\n",
    "Let's create a tuple below"
   ]
  },
  {
   "cell_type": "code",
   "execution_count": 84,
   "id": "4f66c036-3d2f-443b-93b1-55fe4af54b73",
   "metadata": {},
   "outputs": [
    {
     "name": "stdout",
     "output_type": "stream",
     "text": [
      "t is a <class 'tuple'>\n"
     ]
    },
    {
     "data": {
      "text/plain": [
       "(1, 'hello', 3.0)"
      ]
     },
     "execution_count": 84,
     "metadata": {},
     "output_type": "execute_result"
    }
   ],
   "source": [
    "t = (1, \"hello\", 3.0) \n",
    "print(\"t is a\", type(t))\n",
    "t"
   ]
  },
  {
   "cell_type": "markdown",
   "id": "376ec679-d429-448c-a150-0e18ae25d2f9",
   "metadata": {},
   "source": [
    "We can *convert* a list to a tuple by calling the `tuple` function on"
   ]
  },
  {
   "cell_type": "code",
   "execution_count": 87,
   "id": "2422bc69-5e65-4c45-8897-3b6d0562d69e",
   "metadata": {},
   "outputs": [
    {
     "data": {
      "text/plain": [
       "[12.5, 9.1, 2.0]"
      ]
     },
     "execution_count": 87,
     "metadata": {},
     "output_type": "execute_result"
    }
   ],
   "source": [
    "x"
   ]
  },
  {
   "cell_type": "code",
   "execution_count": 88,
   "id": "11427b43-ceb8-4bd6-b8b8-440aaa4b7d74",
   "metadata": {},
   "outputs": [
    {
     "data": {
      "text/plain": [
       "(12.5, 9.1, 2.0)"
      ]
     },
     "execution_count": 88,
     "metadata": {},
     "output_type": "execute_result"
    }
   ],
   "source": [
    "tuple(x)"
   ]
  },
  {
   "cell_type": "markdown",
   "id": "26b1ed1a-8090-44fe-a61b-d880410624f0",
   "metadata": {},
   "source": [
    "We can also convert a tuple to a list using the list function."
   ]
  },
  {
   "cell_type": "code",
   "execution_count": 89,
   "id": "2bd2b9e0-70f2-42f8-a44d-a949df19706d",
   "metadata": {},
   "outputs": [
    {
     "data": {
      "text/plain": [
       "(1, 'hello', 3.0)"
      ]
     },
     "execution_count": 89,
     "metadata": {},
     "output_type": "execute_result"
    }
   ],
   "source": [
    "t"
   ]
  },
  {
   "cell_type": "code",
   "execution_count": 90,
   "id": "1345b43a-96aa-4542-978e-90b658a42a41",
   "metadata": {},
   "outputs": [
    {
     "data": {
      "text/plain": [
       "[1, 'hello', 3.0]"
      ]
     },
     "execution_count": 90,
     "metadata": {},
     "output_type": "execute_result"
    }
   ],
   "source": [
    "list(t)"
   ]
  },
  {
   "cell_type": "markdown",
   "id": "870c6002-9d2a-404a-8923-83c0cbb4d550",
   "metadata": {},
   "source": [
    "As with a list, we access items in a tuple `t` using `t[N]` where\n",
    "`N` is an int."
   ]
  },
  {
   "cell_type": "code",
   "execution_count": 92,
   "id": "f8452eec-d5bc-456b-b51b-e03342f65b10",
   "metadata": {},
   "outputs": [
    {
     "data": {
      "text/plain": [
       "1"
      ]
     },
     "execution_count": 92,
     "metadata": {},
     "output_type": "execute_result"
    }
   ],
   "source": [
    "t[0]"
   ]
  },
  {
   "cell_type": "markdown",
   "id": "ecadb595-5b7f-4797-a187-943861b0ea66",
   "metadata": {},
   "source": [
    "**Question**\n",
    "\n",
    "Verify that tuples are indeed immutable by attempting the following:\n",
    "\n",
    "- Changing the first element of `t` to be `100`  \n",
    "- Appending a new element `\"!!\"` to the end of `t` (remember with a\n",
    "  list `x` we would use `x.append(\"!!\")` to do this  \n",
    "- Sorting `t`  \n",
    "- Reversing `t`  "
   ]
  },
  {
   "cell_type": "code",
   "execution_count": 93,
   "id": "841e4a3f-1e77-45e8-a21f-8aec7c4d16f8",
   "metadata": {},
   "outputs": [
    {
     "data": {
      "text/plain": [
       "[12.5, 9.1, 2.0]"
      ]
     },
     "execution_count": 93,
     "metadata": {},
     "output_type": "execute_result"
    }
   ],
   "source": [
    "x"
   ]
  },
  {
   "cell_type": "code",
   "execution_count": 94,
   "id": "cfcb5685-95a2-4efe-9604-69baab36e033",
   "metadata": {},
   "outputs": [
    {
     "data": {
      "text/plain": [
       "[100, 9.1, 2.0]"
      ]
     },
     "execution_count": 94,
     "metadata": {},
     "output_type": "execute_result"
    }
   ],
   "source": [
    "x[0] = 100\n",
    "x"
   ]
  },
  {
   "cell_type": "code",
   "execution_count": 95,
   "id": "7d38ba9d-4c22-4a28-8aec-e842c60bc86e",
   "metadata": {},
   "outputs": [
    {
     "data": {
      "text/plain": [
       "(1, 'hello', 3.0)"
      ]
     },
     "execution_count": 95,
     "metadata": {},
     "output_type": "execute_result"
    }
   ],
   "source": [
    "t"
   ]
  },
  {
   "cell_type": "code",
   "execution_count": 109,
   "id": "f1d16756-f6cb-42f4-ac59-f43afc4f36de",
   "metadata": {},
   "outputs": [],
   "source": [
    "# change first element of t"
   ]
  },
  {
   "cell_type": "code",
   "execution_count": 110,
   "id": "14d4eae7-de4e-4474-85e6-4e6a45bd76d9",
   "metadata": {},
   "outputs": [],
   "source": [
    "# appending to t"
   ]
  },
  {
   "cell_type": "code",
   "execution_count": 111,
   "id": "ed5b9355-62cb-446e-ad43-bce9cfa0d111",
   "metadata": {},
   "outputs": [],
   "source": [
    "# sorting t"
   ]
  },
  {
   "cell_type": "code",
   "execution_count": 112,
   "id": "0014dbde-2131-4dd0-8e27-3a596d6c44bf",
   "metadata": {},
   "outputs": [],
   "source": [
    "# reversing t"
   ]
  },
  {
   "cell_type": "markdown",
   "id": "8a483c84-c513-416b-9ac0-68f2f08f0767",
   "metadata": {},
   "source": [
    "Tuples (and lists) can be unpacked directly into variables."
   ]
  },
  {
   "cell_type": "code",
   "execution_count": 100,
   "id": "6132951f-ebff-4a9c-8782-c38f409a2651",
   "metadata": {},
   "outputs": [],
   "source": [
    "a,b = [\"Hi\", \"There\"]"
   ]
  },
  {
   "cell_type": "code",
   "execution_count": 101,
   "id": "262fbdb6-e5b2-466a-941d-c3c9fe7b366a",
   "metadata": {},
   "outputs": [
    {
     "data": {
      "text/plain": [
       "'Hi'"
      ]
     },
     "execution_count": 101,
     "metadata": {},
     "output_type": "execute_result"
    }
   ],
   "source": [
    "a"
   ]
  },
  {
   "cell_type": "code",
   "execution_count": 102,
   "id": "9b4f247d-d41d-4a07-9625-3fa0bb39e6c5",
   "metadata": {},
   "outputs": [
    {
     "data": {
      "text/plain": [
       "'There'"
      ]
     },
     "execution_count": 102,
     "metadata": {},
     "output_type": "execute_result"
    }
   ],
   "source": [
    "b"
   ]
  },
  {
   "cell_type": "code",
   "execution_count": 103,
   "id": "13ad5981-3dd8-44ed-8db6-8398f11d2c3f",
   "metadata": {},
   "outputs": [],
   "source": [
    "a,b = (\"Hi\", \"There\")"
   ]
  },
  {
   "cell_type": "code",
   "execution_count": 104,
   "id": "bb11a996-25c4-4785-ad76-092d70aa663b",
   "metadata": {},
   "outputs": [
    {
     "data": {
      "text/plain": [
       "'Hi'"
      ]
     },
     "execution_count": 104,
     "metadata": {},
     "output_type": "execute_result"
    }
   ],
   "source": [
    "a"
   ]
  },
  {
   "cell_type": "code",
   "execution_count": 105,
   "id": "a350c431-e19d-4f08-aedd-af913f21289f",
   "metadata": {},
   "outputs": [
    {
     "data": {
      "text/plain": [
       "'There'"
      ]
     },
     "execution_count": 105,
     "metadata": {},
     "output_type": "execute_result"
    }
   ],
   "source": [
    "b"
   ]
  },
  {
   "cell_type": "markdown",
   "id": "c59292cb-0753-420b-bd00-c627a86bdad2",
   "metadata": {},
   "source": [
    "**TIP** This will be a convenient way to work with functions returning\n",
    "multiple values"
   ]
  },
  {
   "cell_type": "markdown",
   "id": "a254b8d0-cf90-4c0b-9cc3-0a37e2f827dd",
   "metadata": {},
   "source": [
    "### List vs Tuple: Which to Use?\n",
    "\n",
    "Should you use a list or tuple?\n",
    "\n",
    "This depends on... \n",
    "\n",
    "- what you are storing\n",
    "- whether you might need to reorder the elements\n",
    "- whether you’d add new elements without a complete reinterpretation of the underlying data"
   ]
  },
  {
   "cell_type": "markdown",
   "id": "8d3a7e4b-fdf6-4d17-993c-5769d66bf97e",
   "metadata": {},
   "source": [
    "For example, take data representing the GDP (in trillions) and population\n",
    "(in billions) for China in 2015."
   ]
  },
  {
   "cell_type": "code",
   "execution_count": 107,
   "id": "515ae7b0-2124-4dec-bb04-0bb426d1ee63",
   "metadata": {},
   "outputs": [
    {
     "name": "stdout",
     "output_type": "stream",
     "text": [
      "('China', 2015, 11.06, 1.371)\n"
     ]
    }
   ],
   "source": [
    "china_data_2015 = (\"China\", 2015, 11.06, 1.371)\n",
    "print(china_data_2015)"
   ]
  },
  {
   "cell_type": "markdown",
   "id": "9369a992-646c-468a-8cd4-3d9f06f46667",
   "metadata": {},
   "source": [
    "In this case, we have used a list, since adding on a new\n",
    "element to the end of the list for GDP in 2016 would make\n",
    "complete sense."
   ]
  },
  {
   "cell_type": "markdown",
   "id": "f6fa9dba-6f9f-40ee-888e-6427a63d1b66",
   "metadata": {},
   "source": [
    "Along these lines, collecting data on China for different\n",
    "years may make sense as a list of tuples (e.g. year, GDP,\n",
    "and population – although we will see better ways to store this sort of data using **pandas**)"
   ]
  },
  {
   "cell_type": "code",
   "execution_count": 108,
   "id": "91f4022d-d736-4b3e-bade-26357bef3891",
   "metadata": {},
   "outputs": [
    {
     "name": "stdout",
     "output_type": "stream",
     "text": [
      "[(2015, 11.06, 1.371), (2014, 10.48, 1.364), (2013, 9.607, 1.357)]\n"
     ]
    }
   ],
   "source": [
    "china_data = [(2015, 11.06, 1.371), (2014, 10.48, 1.364), (2013, 9.607, 1.357)]\n",
    "print(china_data)"
   ]
  },
  {
   "cell_type": "markdown",
   "id": "bf5b7ae7-240b-43d4-a88f-3c68c933f258",
   "metadata": {},
   "source": [
    "In general, a rule of thumb is to use a list unless you *need* to use a tuple.\n",
    "\n",
    "Key criteria for tuple use are when you want to:\n",
    "\n",
    "- ensure the *order* of elements can’t change  \n",
    "- ensure the actual values of the elements can’t\n",
    "  change  \n",
    "- use the collection as a key in a dict (we will learn what this\n",
    "  means [soon](.ipynb))  "
   ]
  },
  {
   "cell_type": "code",
   "execution_count": null,
   "id": "4038e556-6251-46c2-9bc0-b2b460f24ed4",
   "metadata": {},
   "outputs": [],
   "source": []
  },
  {
   "cell_type": "markdown",
   "id": "39f816b8-b22d-4ba7-a2c3-3d4687cc8861",
   "metadata": {},
   "source": [
    "## Code Comments\n",
    "\n",
    "Comments are short notes that you leave for yourself and for others who read your code.\n",
    "\n",
    "They should be used to explain what the code does.\n",
    "\n",
    "A comment is made with the `#`. \n",
    "\n",
    "Python ignores everything in a line that follows a `#`.\n",
    "\n",
    "Let’s practice making some comments."
   ]
  },
  {
   "cell_type": "code",
   "execution_count": null,
   "id": "4c18e547-4169-4f88-a6a2-f03674ddc77f",
   "metadata": {},
   "outputs": [],
   "source": [
    "i = 1  # Assign the value 1 to variable i\n",
    "j = 2  # Assign the value 2 to variable j\n",
    "\n",
    "# We add i and j below this line\n",
    "i + j"
   ]
  },
  {
   "cell_type": "markdown",
   "id": "570a71fa-378b-4a85-8d21-23dd89271d2b",
   "metadata": {},
   "source": [
    "Here is some code from a QuantEcon lecture"
   ]
  },
  {
   "cell_type": "code",
   "execution_count": 11,
   "id": "eafb2784-ba7e-4914-8c7f-98aa0115c94b",
   "metadata": {},
   "outputs": [
    {
     "data": {
      "image/png": "[encoded data removed]",
      "text/plain": [
       "<Figure size 600x600 with 1 Axes>"
      ]
     },
     "metadata": {},
     "output_type": "display_data"
    }
   ],
   "source": [
    "import matplotlib.pyplot as plt\n",
    "import numpy as np\n",
    "\n",
    "π = np.pi\n",
    "r = 2\n",
    "θ = π/3\n",
    "x = r * np.cos(θ)\n",
    "x_range = np.linspace(0, x, 1000)\n",
    "θ_range = np.linspace(0, θ, 1000)\n",
    "\n",
    "fig = plt.figure(figsize=(6, 6))\n",
    "ax = plt.subplot(111, projection='polar')\n",
    "ax.plot((0, θ), (0, r), marker='o', color='b')          \n",
    "ax.plot(np.zeros(x_range.shape), x_range, color='b')      \n",
    "ax.plot(θ_range, x / np.cos(θ_range), color='b')\n",
    "ax.plot(θ_range, np.full(θ_range.shape, 0.1), color='r')\n",
    "ax.margins(0)\n",
    "ax.set_title(\"Trigonometry of complex numbers\", va='bottom',\n",
    "    fontsize='x-large')\n",
    "ax.set_rmax(2)\n",
    "ax.set_rticks((0.5, 1, 1.5, 2))\n",
    "ax.set_rlabel_position(-88.5)\n",
    "ax.text(θ, r+0.01 , r'$z = x + iy = 1 + \\sqrt{3}\\, i$')   # Label z\n",
    "ax.text(θ+0.2, 1 , '$r = 2$')                             # Label r\n",
    "ax.text(0-0.2, 0.5, '$x = 1$')                            # Label x\n",
    "ax.text(0.5, 1.2, r'$y = \\sqrt{3}$')                      # Label y\n",
    "ax.text(0.25, 0.15, r'$\\theta = 60^o$')                   # Label θ\n",
    "ax.grid(True)\n",
    "plt.show()"
   ]
  },
  {
   "cell_type": "markdown",
   "id": "8b4bfa4d-ce59-4307-bd41-e01490f28908",
   "metadata": {},
   "source": [
    "How might tidy up this code using white space and comments to make this code easier to read?"
   ]
  },
  {
   "cell_type": "code",
   "execution_count": null,
   "id": "8e18eaae-b5db-44f4-808c-03f6aebec9a0",
   "metadata": {},
   "outputs": [],
   "source": []
  },
  {
   "cell_type": "markdown",
   "id": "d094b744-a953-41c7-91f3-d4b2b8eab2a3",
   "metadata": {},
   "source": [
    "<details>\n",
    "\n",
    "<summary><strong>A suggested solution</strong></summary>\n",
    "\n",
    "```python\n",
    "# Abbreviate useful values and functions\n",
    "π = np.pi\n",
    "\n",
    "# Set parameters|\n",
    "r = 2\n",
    "θ = π/3\n",
    "x = r * np.cos(θ)\n",
    "x_range = np.linspace(0, x, 1000)\n",
    "θ_range = np.linspace(0, θ, 1000)\n",
    "\n",
    "# Plot\n",
    "fig = plt.figure(figsize=(8, 8))\n",
    "ax = plt.subplot(111, projection='polar')\n",
    "\n",
    "ax.plot((0, θ), (0, r), marker='o', color='b')           # Plot r\n",
    "ax.plot(np.zeros(x_range.shape), x_range, color='b')     # Plot x\n",
    "ax.plot(θ_range, x / np.cos(θ_range), color='b')         # Plot y\n",
    "ax.plot(θ_range, np.full(θ_range.shape, 0.1), color='r') # Plot θ\n",
    "\n",
    "ax.margins(0) # Let the plot starts at origin\n",
    "\n",
    "ax.set_title(\"Trigonometry of complex numbers\", va='bottom',\n",
    "    fontsize='x-large')\n",
    "\n",
    "ax.set_rmax(2)\n",
    "ax.set_rticks((0.5, 1, 1.5, 2))  # Less radial ticks\n",
    "ax.set_rlabel_position(-88.5)    # Get radial labels away from plotted line\n",
    "\n",
    "ax.text(θ, r+0.01 , r'$z = x + iy = 1 + \\sqrt{3}\\, i$')   # Label z\n",
    "ax.text(θ+0.2, 1 , '$r = 2$')                             # Label r\n",
    "ax.text(0-0.2, 0.5, '$x = 1$')                            # Label x\n",
    "ax.text(0.5, 1.2, r'$y = \\sqrt{3}$')                      # Label y\n",
    "ax.text(0.25, 0.15, r'$\\theta = 60^o$')                   # Label θ\n",
    "\n",
    "ax.grid(True)\n",
    "plt.show()\n",
    "```\n",
    "</details>"
   ]
  }
 ],
 "metadata": {
  "kernelspec": {
   "display_name": "Python 3 (ipykernel)",
   "language": "python",
   "name": "python3"
  },
  "language_info": {
   "codemirror_mode": {
    "name": "ipython",
    "version": 3
   },
   "file_extension": ".py",
   "mimetype": "text/x-python",
   "name": "python",
   "nbconvert_exporter": "python",
   "pygments_lexer": "ipython3",
   "version": "3.11.7"
  }
 },
 "nbformat": 4,
 "nbformat_minor": 5
}
