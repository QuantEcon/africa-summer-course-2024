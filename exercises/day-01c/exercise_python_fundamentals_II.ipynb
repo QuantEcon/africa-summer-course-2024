{
 "cells": [
  {
   "cell_type": "markdown",
   "id": "7f31ac09-5e52-4cc6-95b1-a690b92b039a",
   "metadata": {},
   "source": [
    "# Exercise Set - Python Fundamentals and Essentials II"
   ]
  },
  {
   "cell_type": "markdown",
   "id": "52ee26a4-44ff-4f75-b298-74e8fe79bb91",
   "metadata": {},
   "source": [
    "In this notebook we will work through\n",
    "\n",
    "1. Additional Collections in Python\n",
    "   1. Associative (Dictionaries)\n",
    "   2. Sets\n",
    "2. Additional Exercises (comparing `dict` and `pd.Series`)\n",
    "\n",
    "Next Exercise Notebook: `Conditional Logic and Control Flow` and `Functions`\n",
    "\n",
    "---"
   ]
  },
  {
   "cell_type": "markdown",
   "id": "3a0141f7-f015-4bbf-85db-b777a4ea0c09",
   "metadata": {},
   "source": [
    "## Associative Collections"
   ]
  },
  {
   "cell_type": "markdown",
   "id": "30a662c3-8980-45c2-ae4e-1b591e1d1497",
   "metadata": {},
   "source": [
    "### Dictionaries\n",
    "\n",
    "A dictionary (or `dict`) associates keys with values.\n",
    "\n",
    "It will feel similar to a dictionary for words, where the keys are words and\n",
    "the values are the associated definitions.\n",
    "\n",
    "The most common way to create a `dict` is to use curly braces — `{`\n",
    "and `}` — like this:\n",
    "\n",
    "```python\n",
    "{\"key1\": value1, \"key2\": value2, ..., \"keyN\": valueN}\n",
    "```\n",
    "\n",
    "where the `...` indicates that we can have any number of additional\n",
    "terms.\n",
    "\n",
    "The crucial part of the syntax is that each key-value pair is written\n",
    "`key: value` and that these pairs are separated by commas — `,`.\n",
    "\n",
    "Let’s see an example using our aggregate data on China in 2015."
   ]
  },
  {
   "cell_type": "code",
   "execution_count": 1,
   "id": "19fd3cba-e176-4448-ad16-cfd23a6294bf",
   "metadata": {},
   "outputs": [
    {
     "name": "stdout",
     "output_type": "stream",
     "text": [
      "{'country': 'China', 'year': 2015, 'GDP': 11.06, 'population': 1.371}\n"
     ]
    }
   ],
   "source": [
    "china_data = {\"country\": \"China\", \"year\": 2015, \"GDP\" : 11.06, \"population\": 1.371}\n",
    "print(china_data)"
   ]
  },
  {
   "cell_type": "markdown",
   "id": "9194b000-6b95-4aee-9b94-88cb782a55f4",
   "metadata": {},
   "source": [
    "Unlike our example (from Exercise Set 2) using a `tuple`, a `dict` allows us to\n",
    "associate a name with each field, rather than having to remember the\n",
    "order within the tuple.\n",
    "\n",
    "Often, code that makes a dict is easier to read if we put each\n",
    "`key: value` pair on its own line.\n",
    "\n",
    "The code below is equivalent to what we saw above."
   ]
  },
  {
   "cell_type": "code",
   "execution_count": 2,
   "id": "850fcfc9-6dd6-42b2-8d63-36e70271bc26",
   "metadata": {},
   "outputs": [],
   "source": [
    "china_data = {\n",
    "    \"country\": \"China\",\n",
    "    \"year\": 2015,\n",
    "    \"GDP\" : 11.06,\n",
    "    \"population\": 1.371\n",
    "}"
   ]
  },
  {
   "cell_type": "markdown",
   "id": "81cf114b-ca9e-47a4-a29a-f7231363eaf0",
   "metadata": {},
   "source": [
    "Most often, the keys (e.g. “country”, “year”, “GDP”, and “population”)\n",
    "will be strings, but we could also use numbers (`int`, or\n",
    "`float`) or even tuples (or, rarely, a combination of types).\n",
    "\n",
    "The values can be **any** type and different from each other.\n",
    "\n",
    "You can access a `value` using the `key` such as"
   ]
  },
  {
   "cell_type": "code",
   "execution_count": 3,
   "id": "ca4eecc1-fe82-481e-b1ae-03b3b99991d4",
   "metadata": {},
   "outputs": [
    {
     "data": {
      "text/plain": [
       "'China'"
      ]
     },
     "execution_count": 3,
     "metadata": {},
     "output_type": "execute_result"
    }
   ],
   "source": [
    "china_data['country']"
   ]
  },
  {
   "cell_type": "markdown",
   "id": "8880ff6a-df96-4262-a290-091bc4999ad6",
   "metadata": {},
   "source": [
    "**Exercise #1:** How can you access the `population` value from `china_data`?"
   ]
  },
  {
   "cell_type": "code",
   "execution_count": null,
   "id": "9d549b73-4664-4883-96ff-300571286def",
   "metadata": {},
   "outputs": [],
   "source": []
  },
  {
   "cell_type": "markdown",
   "id": "07ce6a12-63ca-49a7-bba2-8d3ca5e09695",
   "metadata": {},
   "source": [
    "**Exercise #2:** What do you think would happen if you looked at the length of the `china_data` object using `len(china_data)`?"
   ]
  },
  {
   "cell_type": "code",
   "execution_count": null,
   "id": "d788cb45-a56c-481d-920e-e8af6b3f127c",
   "metadata": {},
   "outputs": [],
   "source": []
  },
  {
   "cell_type": "markdown",
   "id": "5febc4e2-5bec-4228-b50b-81131c101e67",
   "metadata": {},
   "source": [
    "**Exercise #3:** What do you think the number above represents?"
   ]
  },
  {
   "cell_type": "markdown",
   "id": "35692cf9-c1a9-4152-a224-eab083f449eb",
   "metadata": {},
   "source": []
  },
  {
   "cell_type": "markdown",
   "id": "1a8445be-740b-4fe1-9230-bb9901992d6d",
   "metadata": {},
   "source": [
    "**Exercise #4:** \n",
    "\n",
    "Create a new dict which associates stock tickers with its stock price.\n",
    "\n",
    "Here are some tickers and a price.\n",
    "\n",
    "- AAPL: 175.96  \n",
    "- GOOGL: 1047.43  \n",
    "- TVIX: 8.38  "
   ]
  },
  {
   "cell_type": "code",
   "execution_count": null,
   "id": "e4410bf2-ff19-4a04-a4ec-7de3d05f39ec",
   "metadata": {},
   "outputs": [],
   "source": []
  },
  {
   "cell_type": "markdown",
   "id": "142bd865-0c8c-44a1-b6de-347c163cf1a9",
   "metadata": {},
   "source": [
    "#### Getting, Setting, and Updating dict Items\n",
    "\n",
    "As you saw above we can ask Python to tell us the value for a particular key by using\n",
    "the syntax `d[k]`,  where `d` is our `dict` and `k` is the key for which we want to\n",
    "find the value.\n",
    "\n",
    "For example,"
   ]
  },
  {
   "cell_type": "code",
   "execution_count": 4,
   "id": "0bf4466d-1fe6-47a3-ad25-69434804bd44",
   "metadata": {},
   "outputs": [
    {
     "data": {
      "text/plain": [
       "2015"
      ]
     },
     "execution_count": 4,
     "metadata": {},
     "output_type": "execute_result"
    }
   ],
   "source": [
    "china_data[\"year\"]"
   ]
  },
  {
   "cell_type": "markdown",
   "id": "6bf79662-4313-4e58-8a9e-fec27dd842df",
   "metadata": {},
   "source": [
    "**Exercise #5:** What happens if you specify a key that is not in the dictionary such as `inflation`?"
   ]
  },
  {
   "cell_type": "code",
   "execution_count": null,
   "id": "f8bff6ef-196c-47a7-9e9d-96421ab474f0",
   "metadata": {},
   "outputs": [],
   "source": []
  },
  {
   "cell_type": "markdown",
   "id": "6ccfac86-e09b-45f2-a249-3ee61f634cb1",
   "metadata": {},
   "source": [
    "### Adding items\n",
    "\n",
    "We can also add new items to a dict using the syntax `d[new_key] = new_value`.\n",
    "\n",
    "Let’s see some examples."
   ]
  },
  {
   "cell_type": "code",
   "execution_count": 5,
   "id": "6e0054ca-d14a-44a5-b282-76528bac16d0",
   "metadata": {},
   "outputs": [
    {
     "name": "stdout",
     "output_type": "stream",
     "text": [
      "{'country': 'China', 'year': 2015, 'GDP': 11.06, 'population': 1.371}\n",
      "{'country': 'China', 'year': 2015, 'GDP': 11.06, 'population': 1.371, 'unemployment': '4.05%'}\n"
     ]
    }
   ],
   "source": [
    "print(china_data)\n",
    "china_data[\"unemployment\"] = \"4.05%\"  # add new key:value pair to the dictionary\n",
    "print(china_data)"
   ]
  },
  {
   "cell_type": "markdown",
   "id": "dfe8d42a-e806-4fd8-8f3c-bb156282ec79",
   "metadata": {},
   "source": [
    "To update the value, we use assignment in the same way (which will\n",
    "create the key and value as required)."
   ]
  },
  {
   "cell_type": "code",
   "execution_count": 6,
   "id": "31eb260e-e8e9-44b8-9715-d756be00be16",
   "metadata": {},
   "outputs": [
    {
     "name": "stdout",
     "output_type": "stream",
     "text": [
      "{'country': 'China', 'year': 2015, 'GDP': 11.06, 'population': 1.371, 'unemployment': '4.05%'}\n",
      "{'country': 'China', 'year': 2015, 'GDP': 11.06, 'population': 1.371, 'unemployment': '3.60%'}\n"
     ]
    }
   ],
   "source": [
    "print(china_data)\n",
    "china_data[\"unemployment\"] = \"3.60%\"\n",
    "print(china_data)"
   ]
  },
  {
   "cell_type": "markdown",
   "id": "91c76b07-8f27-4ed9-96d0-78dfd4f7261b",
   "metadata": {},
   "source": [
    "Or we could change the type."
   ]
  },
  {
   "cell_type": "code",
   "execution_count": 7,
   "id": "43ba9d15-13b7-4a0b-8aee-c3516406adba",
   "metadata": {},
   "outputs": [
    {
     "name": "stdout",
     "output_type": "stream",
     "text": [
      "{'country': 'China', 'year': 2015, 'GDP': 11.06, 'population': 1.371, 'unemployment': 4.051}\n"
     ]
    }
   ],
   "source": [
    "china_data[\"unemployment\"] = 4.051\n",
    "print(china_data)"
   ]
  },
  {
   "cell_type": "markdown",
   "id": "0cb6d409-f666-4658-9a6d-718ed3a4fd96",
   "metadata": {},
   "source": [
    "Python dictionaries are flexible data containers and are very helpful objects. "
   ]
  },
  {
   "cell_type": "markdown",
   "id": "f5ac7c78-f435-4bff-95ec-2835109e0871",
   "metadata": {},
   "source": [
    "**Exercise #6:** How might you choose to represent time series data in a dictionary\n",
    "\n",
    "| year | value |\n",
    "| -----|-------|\n",
    "| 2010 | 6     |\n",
    "| 2011 | 9 | \n",
    "| 2012 | 12 |"
   ]
  },
  {
   "cell_type": "code",
   "execution_count": null,
   "id": "40406eba-155b-472d-b2a7-715fcb1de7d2",
   "metadata": {},
   "outputs": [],
   "source": []
  },
  {
   "cell_type": "markdown",
   "id": "cec582c2-2491-4cc5-9fc8-b4b03b4120c5",
   "metadata": {},
   "source": [
    "**Exercise #7:** How would you represent this same time series data using `list` objects? "
   ]
  },
  {
   "cell_type": "code",
   "execution_count": null,
   "id": "f9f0f755-f6cf-4b67-b596-69d23978867f",
   "metadata": {},
   "outputs": [],
   "source": []
  },
  {
   "cell_type": "markdown",
   "id": "7c7cbb54-13b7-4d85-ba39-0de7c8c321c6",
   "metadata": {},
   "source": [
    "**Exercise #8:** How do the two data structures compare (discussion)?"
   ]
  },
  {
   "cell_type": "markdown",
   "id": "dce78862-61e1-4cd1-a24b-16e729f0a46a",
   "metadata": {},
   "source": []
  },
  {
   "cell_type": "markdown",
   "id": "36e16e2c-9abc-4a62-994c-517e1cd0396c",
   "metadata": {},
   "source": [
    "#### Common `dict` Methods\n",
    "\n",
    "We can do some common things with dicts.\n",
    "\n",
    "We will demonstrate them with examples below."
   ]
  },
  {
   "cell_type": "code",
   "execution_count": 8,
   "id": "b530eab3-7ed3-44b7-910f-bdee0802aa37",
   "metadata": {},
   "outputs": [
    {
     "data": {
      "text/plain": [
       "5"
      ]
     },
     "execution_count": 8,
     "metadata": {},
     "output_type": "execute_result"
    }
   ],
   "source": [
    "# number of key-value pairs in a dict\n",
    "len(china_data)"
   ]
  },
  {
   "cell_type": "code",
   "execution_count": 9,
   "id": "5f387a08-69c0-48a9-b43e-34a48e5fb072",
   "metadata": {},
   "outputs": [
    {
     "data": {
      "text/plain": [
       "dict_keys(['country', 'year', 'GDP', 'population', 'unemployment'])"
      ]
     },
     "execution_count": 9,
     "metadata": {},
     "output_type": "execute_result"
    }
   ],
   "source": [
    "china_data.keys()"
   ]
  },
  {
   "cell_type": "code",
   "execution_count": 10,
   "id": "899c1361-e605-4855-95e9-41c5a1898253",
   "metadata": {},
   "outputs": [
    {
     "data": {
      "text/plain": [
       "['country', 'year', 'GDP', 'population', 'unemployment']"
      ]
     },
     "execution_count": 10,
     "metadata": {},
     "output_type": "execute_result"
    }
   ],
   "source": [
    "# get a list of all the keys\n",
    "list(china_data.keys())"
   ]
  },
  {
   "cell_type": "code",
   "execution_count": 11,
   "id": "48ee13ec-bb8c-4f21-b2ac-ff81f840dfa8",
   "metadata": {},
   "outputs": [
    {
     "data": {
      "text/plain": [
       "['China', 2015, 11.06, 1.371, 4.051]"
      ]
     },
     "execution_count": 11,
     "metadata": {},
     "output_type": "execute_result"
    }
   ],
   "source": [
    "# get a list of all the values\n",
    "list(china_data.values())"
   ]
  },
  {
   "cell_type": "code",
   "execution_count": 12,
   "id": "b4406669-343b-4463-8b5a-23d55916266b",
   "metadata": {},
   "outputs": [
    {
     "data": {
      "text/plain": [
       "{'country': 'China',\n",
       " 'year': 2015,\n",
       " 'GDP': 11.06,\n",
       " 'population': 1.371,\n",
       " 'unemployment': 4.051,\n",
       " 'irrigated_land': 690070,\n",
       " 'top_religions': {'buddhist': 18.2, 'christian': 5.1, 'muslim': 1.8}}"
      ]
     },
     "execution_count": 12,
     "metadata": {},
     "output_type": "execute_result"
    }
   ],
   "source": [
    "more_china_data = {\"irrigated_land\": 690_070, \"top_religions\": {\"buddhist\": 18.2, \"christian\" : 5.1, \"muslim\": 1.8}}\n",
    "\n",
    "# Add all key-value pairs in mydict2 to mydict.\n",
    "# if the key already appears in mydict, overwrite the\n",
    "# value with the value in mydict2\n",
    "china_data.update(more_china_data)\n",
    "china_data"
   ]
  },
  {
   "cell_type": "code",
   "execution_count": 14,
   "id": "5df87217-304f-44fd-ad19-d4f1cc9e2bdc",
   "metadata": {},
   "outputs": [
    {
     "data": {
      "text/plain": [
       "690070"
      ]
     },
     "execution_count": 14,
     "metadata": {},
     "output_type": "execute_result"
    }
   ],
   "source": [
    "# Get the value associated with a key or return a default value\n",
    "# use this to avoid the NameError we saw above if you have a reasonable\n",
    "# default value\n",
    "china_data.get(\"irrigated_land\", \"Data Not Available\")"
   ]
  },
  {
   "cell_type": "code",
   "execution_count": 16,
   "id": "ae88fb1e-db58-4a1f-ad1b-a5292b3eca5d",
   "metadata": {},
   "outputs": [
    {
     "data": {
      "text/plain": [
       "'Data Not Available'"
      ]
     },
     "execution_count": 16,
     "metadata": {},
     "output_type": "execute_result"
    }
   ],
   "source": [
    "china_data.get(\"inflation\", \"Data Not Available\")"
   ]
  },
  {
   "cell_type": "markdown",
   "id": "bbc843a2-b1b2-4729-a99f-3f3f2b391ac0",
   "metadata": {},
   "source": [
    "**Exercise #9:** Use Jupyter’s help facilities to learn how to use the `pop` method to\n",
    "remove the key `\"irrigated_land\"` (and its value) from the dict. (i.e. `china_data.pop?`)"
   ]
  },
  {
   "cell_type": "code",
   "execution_count": null,
   "id": "1c450946-b8d5-4de4-b047-b294e1e7aee6",
   "metadata": {},
   "outputs": [],
   "source": []
  },
  {
   "cell_type": "markdown",
   "id": "6ef73589-61a0-4eff-a02e-dbce4eeb2f44",
   "metadata": {},
   "source": [
    "**Exercise #10:** Explain what happens to the value you popped. Experiment with calling `pop` twice."
   ]
  },
  {
   "cell_type": "code",
   "execution_count": null,
   "id": "4dca1a98-fb3a-4768-bd0a-4e0128d172b2",
   "metadata": {},
   "outputs": [],
   "source": []
  },
  {
   "cell_type": "markdown",
   "id": "7c95dcfc-7cae-4b61-8cc4-45dcf9893a97",
   "metadata": {},
   "source": [
    "### Sets\n",
    "\n",
    "Python has an additional way to represent collections of items: sets.\n",
    "\n",
    "Sets are used relatively infrequently, but you should be aware of them as they can be useful.\n",
    "\n",
    "If you are familiar with the mathematical concept of sets, then you will\n",
    "understand the majority of Python sets already.\n",
    "\n",
    "If you don’t know the math behind sets, don’t worry: we’ll cover the\n",
    "basics of Python’s sets here.\n",
    "\n",
    "A set is an *unordered* collection of *unique* elements.\n",
    "\n",
    "The syntax for creating a set uses curly bracket `{` and `}`.\n",
    "\n",
    "```python\n",
    "{item1, item2, ..., itemN}\n",
    "```\n",
    "\n",
    "Here is an example."
   ]
  },
  {
   "cell_type": "code",
   "execution_count": 17,
   "id": "35673800-ad8c-437c-8008-beb13a544c07",
   "metadata": {},
   "outputs": [
    {
     "name": "stdout",
     "output_type": "stream",
     "text": [
      "s has type <class 'set'>\n"
     ]
    },
    {
     "data": {
      "text/plain": [
       "{1, 3.0, 'hello'}"
      ]
     },
     "execution_count": 17,
     "metadata": {},
     "output_type": "execute_result"
    }
   ],
   "source": [
    "s = {1, \"hello\", 3.0}          # create a set and save in variable s\n",
    "\n",
    "print(\"s has type\", type(s))\n",
    "s"
   ]
  },
  {
   "cell_type": "markdown",
   "id": "7c44587f-5bca-4bbc-a020-0b6e758ec182",
   "metadata": {},
   "source": [
    "**Exercise #11:**\n",
    "\n",
    "Try creating a set with repeated elements (e.g. `{1, 2, 1, 2, 1, 2}`) and save it in variable `a`\n",
    "\n",
    "What happens?\n",
    "\n",
    "Why?"
   ]
  },
  {
   "cell_type": "code",
   "execution_count": null,
   "id": "0a036d4e-70ed-40c0-b7e0-b6161349f54a",
   "metadata": {},
   "outputs": [],
   "source": []
  },
  {
   "cell_type": "markdown",
   "id": "eae122f4-1b29-4166-afcb-3b8078bbe2ba",
   "metadata": {},
   "source": [
    "As with lists and tuples, we can check if something is `in` the set\n",
    "and check the set’s length:"
   ]
  },
  {
   "cell_type": "code",
   "execution_count": 18,
   "id": "3544cd3d-6869-4b51-bb7f-a23a1650f550",
   "metadata": {},
   "outputs": [
    {
     "data": {
      "text/plain": [
       "{1, 3.0, 'hello'}"
      ]
     },
     "execution_count": 18,
     "metadata": {},
     "output_type": "execute_result"
    }
   ],
   "source": [
    "s"
   ]
  },
  {
   "cell_type": "code",
   "execution_count": 19,
   "id": "d2015511-7a5c-4674-b9f0-2bf68e0f9b5e",
   "metadata": {},
   "outputs": [
    {
     "name": "stdout",
     "output_type": "stream",
     "text": [
      "len(s) = 3\n"
     ]
    }
   ],
   "source": [
    "print(\"len(s) =\", len(s))"
   ]
  },
  {
   "cell_type": "code",
   "execution_count": 20,
   "id": "92e1f24d-43ff-4389-bf0d-d00d29ea3694",
   "metadata": {},
   "outputs": [
    {
     "data": {
      "text/plain": [
       "True"
      ]
     },
     "execution_count": 20,
     "metadata": {},
     "output_type": "execute_result"
    }
   ],
   "source": [
    "\"hello\" in s"
   ]
  },
  {
   "cell_type": "markdown",
   "id": "afd24bfb-ce73-4ba2-9f5e-794c5e3ce234",
   "metadata": {},
   "source": [
    "Unlike lists and tuples, we can’t extract elements of a set `s` using\n",
    "`s[N]` where `N` is a number.\n",
    "\n",
    "**Exercise 12:** What happens if you run `s[1]`?"
   ]
  },
  {
   "cell_type": "code",
   "execution_count": null,
   "id": "4544fb25-0d4c-4b3d-9c82-c06b2628674c",
   "metadata": {},
   "outputs": [],
   "source": []
  },
  {
   "cell_type": "markdown",
   "id": "f2a4c244-2f1e-44e8-a0cf-409fca2e593a",
   "metadata": {},
   "source": [
    "This is because sets are not ordered, so the notion of getting the\n",
    "second element (`s[1]`) is not well defined."
   ]
  },
  {
   "cell_type": "markdown",
   "id": "d4874ec8-8f07-4a10-a8b7-e7b6a1d1ec75",
   "metadata": {},
   "source": [
    "We add elements to a set `s` using `s.add`."
   ]
  },
  {
   "cell_type": "code",
   "execution_count": 21,
   "id": "fce6a14f-01ec-4003-bb8a-64bb214f41c6",
   "metadata": {},
   "outputs": [
    {
     "data": {
      "text/plain": [
       "{1, 100, 3.0, 'hello'}"
      ]
     },
     "execution_count": 21,
     "metadata": {},
     "output_type": "execute_result"
    }
   ],
   "source": [
    "s.add(100)\n",
    "s"
   ]
  },
  {
   "cell_type": "markdown",
   "id": "46f0efb5-19e0-407a-8952-61968dfbe267",
   "metadata": {},
   "source": [
    "**Exercise 13:** What happens if you run `s.add('hello')`?"
   ]
  },
  {
   "cell_type": "code",
   "execution_count": null,
   "id": "a0b0b933-502f-46b0-b41f-c7bfbc102c1f",
   "metadata": {},
   "outputs": [],
   "source": []
  },
  {
   "cell_type": "markdown",
   "id": "615cea00-62d9-4c5d-b11f-c560d6825ee1",
   "metadata": {},
   "source": [
    "We can also do set operations.\n",
    "\n",
    "Consider the set `s` from above and the set\n",
    "`s2 = {\"hello\", \"world\"}`.\n",
    "\n",
    "- `s.union(s2)`: returns a set with all elements in either `s` or\n",
    "  `s2`  \n",
    "- `s.intersection(s2)`: returns a set with all elements in both `s`\n",
    "  and `s2`  \n",
    "- `s.difference(s2)`: returns a set with all elements in `s` that\n",
    "  aren’t in `s2`  \n",
    "- `s.symmetric_difference(s2)`: returns a set with all elements in\n",
    "  only one of `s` and `s2`\n",
    "\n",
    "**Exercise 14:**\n",
    "\n",
    "Test out the operations described above using the original set we\n",
    "created, `s`, and the set created below `s2`."
   ]
  },
  {
   "cell_type": "code",
   "execution_count": 22,
   "id": "544b34ab-2771-4477-84ab-4f9d44433b2f",
   "metadata": {},
   "outputs": [],
   "source": [
    "s2 = {\"hello\", \"world\"}"
   ]
  },
  {
   "cell_type": "code",
   "execution_count": null,
   "id": "4afa2473-8451-4bc1-b836-c3da1fdfcc28",
   "metadata": {},
   "outputs": [],
   "source": []
  },
  {
   "cell_type": "code",
   "execution_count": null,
   "id": "adfd13e4-04e7-46d6-9c0b-3aba73834e04",
   "metadata": {},
   "outputs": [],
   "source": []
  },
  {
   "cell_type": "code",
   "execution_count": null,
   "id": "6145c512-3ca3-43c8-bb02-91a5f995d560",
   "metadata": {},
   "outputs": [],
   "source": []
  },
  {
   "cell_type": "code",
   "execution_count": null,
   "id": "7d59c978-60b8-482f-a6d4-079e98fdccdc",
   "metadata": {},
   "outputs": [],
   "source": []
  },
  {
   "cell_type": "markdown",
   "id": "953d3f77-4d10-4a9d-90c8-5b8fda812ca0",
   "metadata": {},
   "source": [
    "As with tuples and lists, a `set` function can convert other\n",
    "collections to sets."
   ]
  },
  {
   "cell_type": "code",
   "execution_count": 23,
   "id": "9b073411-e6be-4caa-a3be-0d1a546fa2e3",
   "metadata": {},
   "outputs": [
    {
     "data": {
      "text/plain": [
       "{1, 2, 3}"
      ]
     },
     "execution_count": 23,
     "metadata": {},
     "output_type": "execute_result"
    }
   ],
   "source": [
    "x = [1, 2, 3, 1]\n",
    "set(x)"
   ]
  },
  {
   "cell_type": "code",
   "execution_count": 24,
   "id": "abd6ab85-0582-4281-bd02-9afca07ad9c7",
   "metadata": {},
   "outputs": [
    {
     "data": {
      "text/plain": [
       "{1, 2, 3}"
      ]
     },
     "execution_count": 24,
     "metadata": {},
     "output_type": "execute_result"
    }
   ],
   "source": [
    "t = (1, 2, 3, 1)\n",
    "set(t)"
   ]
  },
  {
   "cell_type": "markdown",
   "id": "61a2fced-9288-4f77-9eb7-c56fad6bc852",
   "metadata": {},
   "source": [
    "Likewise, we can convert sets to lists and tuples."
   ]
  },
  {
   "cell_type": "code",
   "execution_count": 25,
   "id": "fd9d61d2-e0c8-4546-bf56-f53a4e1536c6",
   "metadata": {},
   "outputs": [
    {
     "data": {
      "text/plain": [
       "{1, 100, 3.0, 'hello'}"
      ]
     },
     "execution_count": 25,
     "metadata": {},
     "output_type": "execute_result"
    }
   ],
   "source": [
    "s"
   ]
  },
  {
   "cell_type": "code",
   "execution_count": 26,
   "id": "69d33ead-8451-4a45-b16b-39d543046785",
   "metadata": {},
   "outputs": [
    {
     "data": {
      "text/plain": [
       "[1, 3.0, 100, 'hello']"
      ]
     },
     "execution_count": 26,
     "metadata": {},
     "output_type": "execute_result"
    }
   ],
   "source": [
    "list(s)"
   ]
  },
  {
   "cell_type": "code",
   "execution_count": 27,
   "id": "c893c393-9d7a-494e-adbe-12cccf392441",
   "metadata": {},
   "outputs": [
    {
     "data": {
      "text/plain": [
       "(1, 3.0, 100, 'hello')"
      ]
     },
     "execution_count": 27,
     "metadata": {},
     "output_type": "execute_result"
    }
   ],
   "source": [
    "tuple(s)"
   ]
  },
  {
   "cell_type": "markdown",
   "id": "e4fc535f-28be-49e7-bc84-0dc010eac7b3",
   "metadata": {},
   "source": [
    "**Exercise 15:** What happens if you run `dict(s)`?"
   ]
  },
  {
   "cell_type": "code",
   "execution_count": null,
   "id": "f6155d53-d14c-4038-8f65-5befd19a2184",
   "metadata": {},
   "outputs": [],
   "source": []
  },
  {
   "cell_type": "markdown",
   "id": "41dbda98-ec83-4473-b0ba-456404340f0f",
   "metadata": {},
   "source": [
    "Why do you get the above error?"
   ]
  },
  {
   "cell_type": "markdown",
   "id": "867df07b-c2c4-4cbf-90cc-685acfe054fc",
   "metadata": {},
   "source": []
  },
  {
   "cell_type": "markdown",
   "id": "4ed93c19-ab82-4005-ad8f-b26a345f9cfa",
   "metadata": {},
   "source": [
    "---"
   ]
  },
  {
   "cell_type": "markdown",
   "id": "3a4fb2c5-7f7b-42db-8af5-b92f231719a3",
   "metadata": {},
   "source": [
    "## Additional Exercises\n",
    "\n",
    "\n",
    "Understanding how dictionaries work helps you to understand other objects you may use such as more advanced `pandas` DataFrame and Series objects. \n",
    "\n",
    "They behave in similar ways.\n",
    "\n",
    "In fact dataframes and series can be constructed directly from `dict` data structures."
   ]
  },
  {
   "cell_type": "code",
   "execution_count": 28,
   "id": "b81a5db7-5927-44eb-bd0b-c5044096e0a3",
   "metadata": {},
   "outputs": [],
   "source": [
    "import pandas as pd\n",
    "data = {\n",
    "    'a' : 2,\n",
    "    'b' : 1,\n",
    "    'c' : 3\n",
    "}\n",
    "series = pd.Series(data)"
   ]
  },
  {
   "cell_type": "code",
   "execution_count": 29,
   "id": "fcf94738-85aa-4799-90af-9f2f8c8e130e",
   "metadata": {},
   "outputs": [
    {
     "data": {
      "text/plain": [
       "a    2\n",
       "b    1\n",
       "c    3\n",
       "dtype: int64"
      ]
     },
     "execution_count": 29,
     "metadata": {},
     "output_type": "execute_result"
    }
   ],
   "source": [
    "series"
   ]
  },
  {
   "cell_type": "markdown",
   "id": "61df46b7-f16c-4632-b651-a13af56a4f02",
   "metadata": {},
   "source": [
    "**Exercise #16:** Use the `series` object to sort the values \n",
    "(*Hint:* use the `series.<<tab>>` to look at methods available to series objects, or use google)"
   ]
  },
  {
   "cell_type": "code",
   "execution_count": null,
   "id": "77bfa6a8-355b-4a31-b9d0-19b1a83801c6",
   "metadata": {},
   "outputs": [],
   "source": []
  },
  {
   "cell_type": "markdown",
   "id": "067ef337-06ee-42a2-8d89-9075a9e600a0",
   "metadata": {},
   "source": [
    "**Exercise #17:** Use the original `data` object (of type `dict`) to print a list of sorted values such as\n",
    "\n",
    "```\n",
    "1\n",
    "2\n",
    "3\n",
    "```\n",
    "\n",
    "You can print the values of a `dict` object using the following code"
   ]
  },
  {
   "cell_type": "code",
   "execution_count": null,
   "id": "bf0a6839-6f07-457d-8dd7-50e824b25c04",
   "metadata": {},
   "outputs": [],
   "source": [
    "for k,v in data.items():\n",
    "    print(v)"
   ]
  },
  {
   "cell_type": "markdown",
   "id": "1c8fff87-ea24-4a6a-a6dc-63bb20979b0c",
   "metadata": {},
   "source": [
    "**Hint:** think about using a new object to collect your results. "
   ]
  },
  {
   "cell_type": "code",
   "execution_count": null,
   "id": "acd8f27b-2854-40e6-a824-05fcf0d7b0d0",
   "metadata": {},
   "outputs": [],
   "source": []
  },
  {
   "cell_type": "code",
   "execution_count": null,
   "id": "2711df38-4a94-4b5d-b2b1-f364e95018a5",
   "metadata": {},
   "outputs": [],
   "source": []
  },
  {
   "cell_type": "markdown",
   "id": "7dc807ff-322f-4e38-8019-d4401867604c",
   "metadata": {},
   "source": [
    "**Exercise #18:** Use the `series` object to make a plot of the data (*Hint:* use the `series.<<tab>>` to look at methods available to series objects, or use google) "
   ]
  },
  {
   "cell_type": "code",
   "execution_count": null,
   "id": "e2f57da3-1bfe-4624-b959-5cdda2d7f7cb",
   "metadata": {},
   "outputs": [],
   "source": []
  },
  {
   "cell_type": "markdown",
   "id": "e46f8284-5d38-44f2-aab2-a0c65d0e541a",
   "metadata": {},
   "source": [
    "**Exercise #19:** Use the `data` object to make a plot"
   ]
  },
  {
   "cell_type": "code",
   "execution_count": null,
   "id": "2d7bb658-eee1-4c4e-a567-90666a458530",
   "metadata": {},
   "outputs": [],
   "source": []
  },
  {
   "cell_type": "markdown",
   "id": "8d5a23ed-4ef9-48a0-aa88-c3b693d07d1c",
   "metadata": {},
   "source": [
    "**Exercise #20:** What do you notice about the differences between using the `data` (as a `dict`) and the `series` (as a `pd.Series`)? "
   ]
  },
  {
   "cell_type": "markdown",
   "id": "000fa962-cc3d-42ec-aebf-c8adb9146b86",
   "metadata": {},
   "source": []
  }
 ],
 "metadata": {
  "kernelspec": {
   "display_name": "Python 3 (ipykernel)",
   "language": "python",
   "name": "python3"
  },
  "language_info": {
   "codemirror_mode": {
    "name": "ipython",
    "version": 3
   },
   "file_extension": ".py",
   "mimetype": "text/x-python",
   "name": "python",
   "nbconvert_exporter": "python",
   "pygments_lexer": "ipython3",
   "version": "3.11.7"
  }
 },
 "nbformat": 4,
 "nbformat_minor": 5
}
