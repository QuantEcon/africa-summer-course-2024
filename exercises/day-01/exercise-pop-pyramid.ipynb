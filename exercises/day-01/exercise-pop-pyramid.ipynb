{
 "cells": [
  {
   "cell_type": "markdown",
   "id": "471065f6-227c-4d09-978b-1572a7e7f167",
   "metadata": {},
   "source": [
    "# Exercise (Day 1): Making your own Population Pyramid Diagram\n",
    "\n",
    "## What is a Population Pyramid\n",
    "\n",
    "As our first Python program we will set out to make our own population pyramid to understand the distribution of age in a given country.\n",
    "\n",
    "```{note}\n",
    "A population pyramid (age structure diagram) or \"age-sex pyramid\" is a graphical illustration of the distribution of a population (typically that of a country or region of the world) by age groups and sex; it typically takes the shape of a pyramid when the population is growing.\n",
    "```\n",
    "\n",
    "Source: [Wikipedia](https://en.wikipedia.org/wiki/Population_pyramid)\n",
    "\n",
    "A population pyramid is used to visually explain changes in demography over time.\n",
    "\n",
    "A diagram with a wide base (i.e. high percentage of children) tends to have strong population growth in the future. \n",
    "\n",
    "The shape of the distribution has many economic implications such as:\n",
    "\n",
    "1. tax policy\n",
    "2. impacts of age depenency on government spending\n",
    "3. understand population growth dynamics\n",
    "\n",
    "\n",
    "This [Our World in Data Project article](https://ourworldindata.org/global-population-pyramid) uses one of these diagrams to look at the Demography of world population over time \n",
    "\n",
    "<center>\n",
    "<img src=\"https://ourworldindata.org/images/published/Population-Pyramid-1950-to-2100_3000.png\" alt=\"drawing\" width=\"600\"/>\n",
    "</center>\n",
    "\n",
    "<br>\n",
    "\n",
    "Even if you have never programmed in python before, work through this exercise, as you will understand more than you think by reading the code.\n",
    "\n",
    "This `jupyterlite` environment lets you execute the code below so you can make changes and explore python straight away."
   ]
  },
  {
   "cell_type": "markdown",
   "id": "d6250aba-9150-49df-9ea4-3360a578996a",
   "metadata": {},
   "source": [
    "## Exercise #1: Run the following python code to build a population pyramid for Australia\n",
    "\n",
    "This exercise will first show you how to construct a population pyramid for Australia in 1960 and 2023. \n",
    "\n",
    "You will then be asked to make a population pyramid for either `Benin`, `Côte d'Ivoire`, or `Uganda`. \n",
    "\n",
    "All data sourced for this exercise is from the [World Development Indicators](https://datatopics.worldbank.org/world-development-indicators/) database.\n",
    "\n",
    "---\n",
    "\n",
    "First we will need to import some useful packages\n",
    "\n",
    "```{hint}\n",
    "To execute the code select the cell below and push <shift>+<enter>\n",
    "```"
   ]
  },
  {
   "cell_type": "code",
   "execution_count": null,
   "id": "f9c8aea5-6bb3-4861-b0a7-ebb405429df6",
   "metadata": {},
   "outputs": [],
   "source": [
    "%pip install -q seaborn"
   ]
  },
  {
   "cell_type": "code",
   "execution_count": null,
   "id": "597aa37a-1ad2-4077-a3ea-216fe45ed27c",
   "metadata": {},
   "outputs": [],
   "source": [
    "import seaborn as sns\n",
    "import matplotlib.pyplot as plt\n",
    "import pandas as pd\n",
    "import pyodide_http\n",
    "pyodide_http.patch_all()"
   ]
  },
  {
   "cell_type": "markdown",
   "id": "1054efa8-4db6-4e4b-9aa0-c35c80480571",
   "metadata": {},
   "source": [
    "We will need to fetch the data needed to build a plot\n",
    "\n",
    "There is a saved dataset that contains the share of population within certain age groups (i.e. 0-4, 5-9) for Australia in 1960 and 2023.\n",
    "\n",
    "You can retrieve this data by executing the following cell\n",
    "\n",
    "```{hint}\n",
    "To execute the code select the cell below and push <shift>+<enter>\n",
    "```"
   ]
  },
  {
   "cell_type": "code",
   "execution_count": null,
   "id": "9d709146-0f5a-41bc-9436-e7231e2a1ec2",
   "metadata": {},
   "outputs": [],
   "source": [
    "URL = \"https://raw.githubusercontent.com/QuantEcon/africa-summer-course-2024/main/exercises/day-01/datapop_shares_aus.csv\"\n",
    "# Use the pandas package to read the csv from our github repository\n",
    "plot_data = pd.read_csv(URL)"
   ]
  },
  {
   "cell_type": "markdown",
   "id": "c2e86d06-97db-405a-8917-25897f63c365",
   "metadata": {},
   "source": [
    "Let us first take a look at the data that has been imported"
   ]
  },
  {
   "cell_type": "code",
   "execution_count": null,
   "id": "096a60d2-da50-4064-8607-d5da9526056e",
   "metadata": {},
   "outputs": [],
   "source": [
    "plot_data.head()  # the .head() method returns the first 5 lines of the DataFrame"
   ]
  },
  {
   "cell_type": "markdown",
   "id": "f044c7e9-bfc1-4539-997d-a5f1ca40c965",
   "metadata": {},
   "source": [
    "You can see that this dataset contains four columns named `age`, `year`, `female`, and `male`.\n",
    "\n",
    "Let's take a closer look at the `age` column to understand what that column represents"
   ]
  },
  {
   "cell_type": "code",
   "execution_count": null,
   "id": "d695b2f1-e067-460e-b439-af564ca270a9",
   "metadata": {},
   "outputs": [],
   "source": [
    "plot_data['age'].unique()"
   ]
  },
  {
   "cell_type": "markdown",
   "id": "53400a68-5591-4202-aa07-ed22e9de85c7",
   "metadata": {},
   "source": [
    "As you can see it consists of various age groups. \n",
    "\n",
    "This is the format we need for building a population pyramid. \n",
    "\n",
    "Now let's look at the year column"
   ]
  },
  {
   "cell_type": "code",
   "execution_count": null,
   "id": "ee2ff9ec-cbb1-401f-bf9e-93263e1706c6",
   "metadata": {},
   "outputs": [],
   "source": [
    "plot_data.year.unique()"
   ]
  },
  {
   "cell_type": "markdown",
   "id": "5ccfeb66-04ee-47a1-86c8-3a7cd3a3a65b",
   "metadata": {},
   "source": [
    "This dataset contains data for `two` different years so we will need to filter for either 1960 or 2023 when building our figures.\n",
    "\n",
    "Let's first collect the data for 1960 into a separate dataframe"
   ]
  },
  {
   "cell_type": "code",
   "execution_count": null,
   "id": "68bcf84e-caa8-46fd-bb6e-4de708856abd",
   "metadata": {},
   "outputs": [],
   "source": [
    "plot_1960 = plot_data[plot_data.year == 1960]\n",
    "plot_1960.head()"
   ]
  },
  {
   "cell_type": "markdown",
   "id": "05f05c0c-518e-478f-b094-7edcf8b6c79c",
   "metadata": {},
   "source": [
    "This data is now in the format we need to build a figure.\n",
    "\n",
    "We will use a python package called [seaborn]() to build the visualisation as horizontal bar charts. "
   ]
  },
  {
   "cell_type": "code",
   "execution_count": null,
   "id": "0076db21-1c7a-4ddd-b258-6b841b80fece",
   "metadata": {},
   "outputs": [],
   "source": [
    "# - Make Plot for 1960\n",
    "ax1 = sns.barplot(x='male', y='age', data=plot_1960, color=\"blue\")\n",
    "ax2 = sns.barplot(x='female', y='age', data=plot_1960, color=\"green\")\n",
    "plt.title(\"Population pyramid for Australia, 1960 estimates\")\n",
    "plt.xlabel(\"% of population \\n Female / Male\")\n",
    "plt.show()"
   ]
  },
  {
   "cell_type": "markdown",
   "id": "6ea25181-a67c-4c3d-b671-ac4ece61a2a3",
   "metadata": {},
   "source": [
    "In the 1960's Australia had a typical wide based population pyramid, with a higher percentage of children when compared to the rest of the population. \n",
    "\n",
    "We have data from 2023 in our dataset so let us compare the two"
   ]
  },
  {
   "cell_type": "code",
   "execution_count": null,
   "id": "d39c0c7b-77ba-4b8a-abde-7ab7f8c585ad",
   "metadata": {},
   "outputs": [],
   "source": [
    "plot_2023 = plot_data[plot_data.year == 2023]"
   ]
  },
  {
   "cell_type": "code",
   "execution_count": null,
   "id": "e2bb2bbf-cacc-4aea-a811-9d49efb210ba",
   "metadata": {},
   "outputs": [],
   "source": [
    "# - Overlay of both Years\n",
    "ax3 = sns.barplot(x='male', y='age', data=plot_2023, color=\"blue\")\n",
    "ax4 = sns.barplot(x='female', y='age', data=plot_2023, color=\"green\")\n",
    "plt.title(\"Population pyramid for Australia, 2023 estimates\")\n",
    "plt.xlabel(\"% of population \\n Female / Male\")\n",
    "plt.show()"
   ]
  },
  {
   "cell_type": "markdown",
   "id": "55a0f203-7b4e-4182-8d42-c9d2f670e234",
   "metadata": {},
   "source": [
    "The shape of this pyramid has changed significantly, with the highest cohort (by percentage) between the age of 30 and 40. \n",
    "\n",
    "It may be more convenient to see these plots side by side"
   ]
  },
  {
   "cell_type": "code",
   "execution_count": null,
   "id": "3f3aada3-077e-420d-b1f3-95accc37c8de",
   "metadata": {},
   "outputs": [],
   "source": [
    "import matplotlib.pyplot as plt\n",
    "figure, axes = plt.subplots(1, 2, figsize=(12,6))\n",
    "year = [1960, 2023]\n",
    "index = 0\n",
    "for axis in axes:\n",
    "    ax1 = sns.barplot(x='male', y='age', data=plot_data[plot_data['year'] == year[index]], color=\"blue\", ax=axis)\n",
    "    ax2 = sns.barplot(x='female', y='age', data=plot_data[plot_data['year'] == year[index]], color=\"green\", ax=axis)\n",
    "    axis.set_xlabel(\"% of population \\n Female / Male\")\n",
    "    axis.set_title(year[index])\n",
    "    index = index+1\n",
    "plt.show()"
   ]
  },
  {
   "cell_type": "markdown",
   "id": "37230e9e-af7d-4d44-bd0c-ca0edb146029",
   "metadata": {},
   "source": [
    "### Question: What else do you observe by comparing these two plots?\n",
    "\n",
    "---"
   ]
  },
  {
   "cell_type": "markdown",
   "id": "a56dcffe-7f6f-44b1-8ee4-cebc7e40a8c0",
   "metadata": {},
   "source": [
    "## Exercise #2: Making your own population pyramid\n",
    "\n",
    "Above you have been shown how to make a population pyramid for Australia using prepared data. \n",
    "\n",
    "In this section we will:\n",
    "\n",
    "1. Show how this data was retrieved from the world development indicators database\n",
    "2. See how to prepare the data, extracting the information you need\n",
    "3. Save the data of interest to build a plot for `Benin`, `Côte d'Ivoire`, or `Uganda`.\n",
    "4. Make your own plot (using the code above)\n",
    "\n",
    "---\n",
    "\n",
    "**Step #1:** Getting Data from the World Bank World Development Indicators\n",
    "\n",
    "One way to get data from the [WDI](http://wdi.worldbank.org) database is to use the [World Bank Databank](https://databank.worldbank.org) website.\n",
    "\n",
    "We have fetched some data for the countries `Australia`, `Benin`, `Côte d'Ivoire`, or `Uganda` and saved the output as a csv file that we will use in this exercise.\n",
    "\n",
    "The RAW world bank data looks like this once downloaded."
   ]
  },
  {
   "cell_type": "code",
   "execution_count": null,
   "id": "12ef86ed-0a50-4fc1-b757-e8e8e88eefad",
   "metadata": {},
   "outputs": [],
   "source": [
    "URL = \"https://raw.githubusercontent.com/QuantEcon/africa-summer-course-2024/main/exercises/day-01/wdi-data-exercise-day01-all.csv\"\n",
    "data = pd.read_csv(URL)"
   ]
  },
  {
   "cell_type": "code",
   "execution_count": null,
   "id": "85d52acb-cc3f-4922-80d6-f08d06f3dba6",
   "metadata": {},
   "outputs": [],
   "source": [
    "data.head()"
   ]
  },
  {
   "cell_type": "markdown",
   "id": "bc78b991-358e-4f21-ab1b-77ffc942adc5",
   "metadata": {},
   "source": [
    "The dataset is nicely organised, however it is not in the format we need to build a plot. \n",
    "\n",
    "For a country of interest we would want the dataset to be in the format we observed in Exercise #1 (above)\n",
    "\n",
    "|age |\tyear |\tfemale\t| male |\n",
    "|----|-------|----------|------|\n",
    "| 80+\t| 1960 |\t-1.619326\t| 0.948079|\n",
    "| 75-79\t| 1960 |\t-1.809344\t| 1.280289|\n",
    "| 70-74\t| 1960 |\t-2.818732\t| 2.211589|\n",
    "| 65-69\t| 1960 |\t-3.606390\t| 2.885782|\n",
    "| 60-64\t| 1960 |\t-4.049524\t| 3.566932|\n",
    "\n",
    "What we can see from the raw data is the information is there (for example, the age brackets are embedded in the `Series Name`) but we will need to extract the data that we would like for our figure.\n",
    "\n",
    "Python can help with this\n",
    "\n",
    "---\n",
    "\n",
    "**Step 2:** Understand the dataset and extract the information you need for the population pyramid\n",
    "\n",
    "We can first take a look at what countries are in this dataset"
   ]
  },
  {
   "cell_type": "code",
   "execution_count": null,
   "id": "f9df278a-0d93-4f03-911c-4d68de6d6014",
   "metadata": {},
   "outputs": [],
   "source": [
    "data['Country Code'].unique()"
   ]
  },
  {
   "cell_type": "markdown",
   "id": "1342b1dd-870a-4c47-835c-a86e2603ab86",
   "metadata": {},
   "source": [
    "Then we can look at what `Series` are in this dataset"
   ]
  },
  {
   "cell_type": "code",
   "execution_count": null,
   "id": "93a254e8-991e-4e6b-ab0b-072681d588e4",
   "metadata": {},
   "outputs": [],
   "source": [
    "data['Series Name'].unique()"
   ]
  },
  {
   "cell_type": "markdown",
   "id": "fc61ade1-9211-48a8-8607-002fb3031cfd",
   "metadata": {},
   "source": [
    "It is nice that we have data for all the age-brackets in the one DataFrame, however what we would like to do is extract the age brackets (such as \"0-4\" from this data). \n",
    "\n",
    "We can use `python string` manipulation to achieve this pretty simply by recognizing the common patterns in the string.\n",
    "\n",
    "Let's look at one string more closely. "
   ]
  },
  {
   "cell_type": "code",
   "execution_count": null,
   "id": "4b1fae68-f9f9-4c04-9519-08fd54afa45b",
   "metadata": {},
   "outputs": [],
   "source": [
    "data['Series Name'][0]"
   ]
  },
  {
   "cell_type": "markdown",
   "id": "f12df5b6-c8c4-4bc3-9867-a0b72f8e767d",
   "metadata": {},
   "source": [
    "We can split the string on the \",\" character and then replace \"Population ages \" with nothing to extract the `00-04` text. "
   ]
  },
  {
   "cell_type": "code",
   "execution_count": null,
   "id": "cb5766f6-edd2-4341-93f2-8b4768333ca9",
   "metadata": {},
   "outputs": [],
   "source": [
    "data['Series Name'][0].split(\",\")[0].replace(\"Population ages \", \"\")"
   ]
  },
  {
   "cell_type": "markdown",
   "id": "b3b9432a-efff-4102-8026-096400f99edf",
   "metadata": {},
   "source": [
    "We did it! \n",
    "\n",
    "Because this pattern is consistent we can use python to apply this to all `Series Name` rows.\n",
    "\n",
    "We will collect the text in a Python List and then add it to our dataset as a new column"
   ]
  },
  {
   "cell_type": "code",
   "execution_count": null,
   "id": "5ee2de2c-e644-4779-ba2f-57b8d822f099",
   "metadata": {},
   "outputs": [],
   "source": [
    "age_brackets = []\n",
    "for sn in data['Series Name']:\n",
    "    a,b = sn.split(\",\")\n",
    "    a = a.replace(\"Population ages \", \"\")\n",
    "    if a == '80 and above':\n",
    "        a = '80+'\n",
    "    age_brackets.append(a)"
   ]
  },
  {
   "cell_type": "code",
   "execution_count": null,
   "id": "e45fa07b-03d8-4032-89ef-c7265fd20a5c",
   "metadata": {},
   "outputs": [],
   "source": [
    "data['age'] = age_brackets"
   ]
  },
  {
   "cell_type": "code",
   "execution_count": null,
   "id": "63230e52-a9d9-403e-b4f5-0514904ef0d2",
   "metadata": {},
   "outputs": [],
   "source": [
    "data.head()"
   ]
  },
  {
   "cell_type": "markdown",
   "id": "46ac8ef0-a8be-4acc-a45b-010ebab4090e",
   "metadata": {},
   "source": [
    "Now we will need two columns that contain `male` or `female`\n",
    "\n",
    "We can apply similar logic."
   ]
  },
  {
   "cell_type": "code",
   "execution_count": null,
   "id": "c1526086-e30f-4a5e-84d6-d9a72bced518",
   "metadata": {},
   "outputs": [],
   "source": [
    "gender = []\n",
    "for sn in data['Series Name']:\n",
    "    if 'female' in sn:\n",
    "        gender.append('female')\n",
    "    elif 'male' in sn:\n",
    "        gender.append('male')\n",
    "    else:\n",
    "        raise ValueError(\"ERROR: cannot determine gender -- check data source\")"
   ]
  },
  {
   "cell_type": "markdown",
   "id": "80b81fd4-8ae7-4153-a838-4e6e7e80f979",
   "metadata": {},
   "source": [
    "```{note}\n",
    "Even though you may have never programmed in Python before you can probably read this code and understand what it is doing.\n",
    "```"
   ]
  },
  {
   "cell_type": "code",
   "execution_count": null,
   "id": "b06a62c5-a81e-43de-948c-c796b9691c65",
   "metadata": {},
   "outputs": [],
   "source": [
    "data['gender'] = gender"
   ]
  },
  {
   "cell_type": "code",
   "execution_count": null,
   "id": "3cbbd42b-8952-4066-98a6-a967786ef18d",
   "metadata": {},
   "outputs": [],
   "source": [
    "data.head()"
   ]
  },
  {
   "cell_type": "markdown",
   "id": "05fe7580-8412-497a-aa4f-1efad8dcd3f0",
   "metadata": {},
   "source": [
    "---\n",
    "\n",
    "**Step #3:** Now we just need to build a small dataset with the data needed for our population pyramid\n",
    "\n",
    "Let's filter the dataset for Australia using the following code"
   ]
  },
  {
   "cell_type": "code",
   "execution_count": null,
   "id": "13ee109d-954a-4c47-91fa-c797a8550b2c",
   "metadata": {},
   "outputs": [],
   "source": [
    "cntry_data = data[data['Country Code'] == \"AUS\"]                 # save data for 'AUS' in cntry_data \n",
    "plot_data = cntry_data[['1960', '2023', 'age', 'gender']]"
   ]
  },
  {
   "cell_type": "code",
   "execution_count": null,
   "id": "94f0fb48-1f1a-4309-97fc-37d83615ecc0",
   "metadata": {},
   "outputs": [],
   "source": [
    "plot_data.head()"
   ]
  },
  {
   "cell_type": "markdown",
   "id": "810e8a04-6a4d-46a4-8f5c-17a757e7ab99",
   "metadata": {},
   "source": [
    "This isn't quite in the shape we need for the graph.\n",
    "\n",
    "Let's reshape this dataset so we have years in one column, and the data in their own `male` and `female` columns instead. "
   ]
  },
  {
   "cell_type": "code",
   "execution_count": null,
   "id": "bd7a933d-34ea-415f-9596-61414a09b1e4",
   "metadata": {},
   "outputs": [],
   "source": [
    "plot_data = plot_data.pivot(index='age', columns='gender')\n",
    "plot_data.columns.names = ['year', 'gender']"
   ]
  },
  {
   "cell_type": "code",
   "execution_count": null,
   "id": "c9881577-fffd-4bab-bdec-68ad1ae79186",
   "metadata": {},
   "outputs": [],
   "source": [
    "plot_data.head()"
   ]
  },
  {
   "cell_type": "markdown",
   "id": "109dde14-01fa-473a-8b41-0c6f1533c10e",
   "metadata": {},
   "source": [
    "**Note:** The pandas package tracks all the relationships between data and their labels for you. "
   ]
  },
  {
   "cell_type": "code",
   "execution_count": null,
   "id": "9e3f34c9-a209-4ec8-9053-e6c551db2ad6",
   "metadata": {},
   "outputs": [],
   "source": [
    "plot_data = plot_data.stack(level=0).reset_index()\n",
    "plot_data['year'] = plot_data['year'].astype(int)      # make sure years are numbers\n",
    "plot_data['female'] = plot_data['female'] * -1         # put the bar chart on the LHS of axis\n",
    "plot_data = plot_data.sort_values(by='age', ascending=False)"
   ]
  },
  {
   "cell_type": "code",
   "execution_count": null,
   "id": "1acf321a-cd60-43f4-8be7-5cee970bd90f",
   "metadata": {},
   "outputs": [],
   "source": [
    "plot_data.head()"
   ]
  },
  {
   "cell_type": "markdown",
   "id": "e7f40270-ec91-429d-9185-54a6a1171e97",
   "metadata": {},
   "source": [
    "**Step #4:** Build the Figure\n",
    "\n",
    "The data is now in the format we need to build our charts from Exercise #1.\n",
    "\n",
    "Let's copy the code below"
   ]
  },
  {
   "cell_type": "code",
   "execution_count": null,
   "id": "b3591cc2-b67b-4458-b7eb-d0c310d88368",
   "metadata": {},
   "outputs": [],
   "source": [
    "figure, axes = plt.subplots(1, 2, figsize=(12,6))\n",
    "year = [1960, 2023]\n",
    "index = 0\n",
    "for axis in axes:\n",
    "    ax1 = sns.barplot(x='male', y='age', data=plot_data[plot_data['year'] == year[index]], color=\"blue\", ax=axis)\n",
    "    ax2 = sns.barplot(x='female', y='age', data=plot_data[plot_data['year'] == year[index]], color=\"green\", ax=axis)\n",
    "    axis.set_xlabel(\"% of population \\n Female / Male\")\n",
    "    axis.set_title(year[index])\n",
    "    index = index+1\n",
    "plt.show()"
   ]
  },
  {
   "cell_type": "markdown",
   "id": "1d993122-f33e-4853-b836-93be43f3cafa",
   "metadata": {},
   "source": [
    "## Exercise: Build your own population pyramid using the code above and modify it\n",
    "\n",
    "The country code data for each country is\n",
    "\n",
    "| Country | Country Code |\n",
    "|---------|--------------|\n",
    "| Benin   | BEN |\n",
    "| Côte d'Ivoire | CIV | \n",
    "| Uganda | UGA |\n",
    "\n",
    "Start with the code from **Step 3** above and modify it to find the country you are interested in."
   ]
  },
  {
   "cell_type": "code",
   "execution_count": null,
   "id": "3d707735-2ab9-446b-abca-62ab69bc9eeb",
   "metadata": {},
   "outputs": [],
   "source": [
    "# You will need to change 'AUS' to another country code here\n",
    "cntry_data = data[data['Country Code'] == ]                 \n",
    "plot_data = cntry_data[['1960', '2023', 'age', 'gender']]"
   ]
  },
  {
   "cell_type": "code",
   "execution_count": null,
   "id": "fb1fd591-385d-4202-a8b4-0949dccbd142",
   "metadata": {},
   "outputs": [],
   "source": []
  },
  {
   "cell_type": "code",
   "execution_count": null,
   "id": "e5fe54e0-707a-4e22-9e93-bb19bf30f8d6",
   "metadata": {},
   "outputs": [],
   "source": []
  },
  {
   "cell_type": "code",
   "execution_count": null,
   "id": "7c794a7b-4925-490f-bbd9-9aa13f15cc3d",
   "metadata": {},
   "outputs": [],
   "source": []
  },
  {
   "cell_type": "code",
   "execution_count": null,
   "id": "3f8b9774-c0f7-400e-b7a8-bf2b0cb07f6c",
   "metadata": {},
   "outputs": [],
   "source": []
  },
  {
   "cell_type": "code",
   "execution_count": null,
   "id": "f7f83efc-1557-417c-88f3-99e2f34d79c0",
   "metadata": {},
   "outputs": [],
   "source": []
  },
  {
   "cell_type": "code",
   "execution_count": null,
   "id": "6a87a12f-6ff8-4b38-9c15-ea7304e63f17",
   "metadata": {},
   "outputs": [],
   "source": []
  },
  {
   "cell_type": "code",
   "execution_count": null,
   "id": "27dec77c-44d7-4adc-9ab5-7b60868d683d",
   "metadata": {},
   "outputs": [],
   "source": []
  },
  {
   "cell_type": "markdown",
   "id": "e6dca900-004b-4a92-bbc3-2a8e3b78189c",
   "metadata": {},
   "source": [
    "**Note:** You could also just change the country code in `Step #3` above and re-run the cells.\n",
    "\n",
    "The great part of building programs is once you have done the work for one country, you have done the work for any country you are interested in building the plot for. "
   ]
  },
  {
   "cell_type": "markdown",
   "id": "ab6fddd9-5c6f-4bf0-83ea-a55e58d7049c",
   "metadata": {},
   "source": [
    "### Exercise 3: See if you can change the plots\n",
    "\n",
    "1. How might you change the colour of the bar charts?\n",
    "2. By convention, the population pyramid is often organised with `Male` on the left and `Female` on the right. How could you change the figure to comply with this popular convention? "
   ]
  },
  {
   "cell_type": "code",
   "execution_count": null,
   "id": "cde450be-e2f2-45d7-8fc0-53784c076443",
   "metadata": {},
   "outputs": [],
   "source": []
  }
 ],
 "metadata": {
  "kernelspec": {
   "display_name": "Python 3 (ipykernel)",
   "language": "python",
   "name": "python3"
  },
  "language_info": {
   "codemirror_mode": {
    "name": "ipython",
    "version": 3
   },
   "file_extension": ".py",
   "mimetype": "text/x-python",
   "name": "python",
   "nbconvert_exporter": "python",
   "pygments_lexer": "ipython3",
   "version": "3.11.7"
  }
 },
 "nbformat": 4,
 "nbformat_minor": 5
}
