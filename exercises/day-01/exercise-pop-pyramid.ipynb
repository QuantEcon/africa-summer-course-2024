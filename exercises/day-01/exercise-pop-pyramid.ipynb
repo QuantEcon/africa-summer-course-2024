{
 "cells": [
  {
   "cell_type": "markdown",
   "id": "471065f6-227c-4d09-978b-1572a7e7f167",
   "metadata": {},
   "source": [
    "# Exercise (Day 1): Making your own Population Pyramid Diagram\n",
    "\n",
    "## What is a Population Pyramid\n",
    "\n",
    "As our first Python program we will set out to make our own population pyramid to understand the distribution of age in a given country.\n",
    "\n",
    "```{note}\n",
    "A population pyramid (age structure diagram) or \"age-sex pyramid\" is a graphical illustration of the distribution of a population (typically that of a country or region of the world) by age groups and sex; it typically takes the shape of a pyramid when the population is growing.\n",
    "```\n",
    "\n",
    "Source: [Wikipedia](https://en.wikipedia.org/wiki/Population_pyramid)\n",
    "\n",
    "A population pyramid is used to visually explain changes in demography over time.\n",
    "\n",
    "A diagram with a wide base (i.e. high percentage of children) tends to have strong population growth in the future. \n",
    "\n",
    "The shape of the distribution has many economic implications such as:\n",
    "\n",
    "1. tax policy\n",
    "2. impacts of age depenency on government spending\n",
    "3. understand population growth dynamics\n",
    "\n",
    "\n",
    "This [Our World in Data Project article](https://ourworldindata.org/global-population-pyramid) uses one of these diagrams to look at the Demography of world population over time \n",
    "\n",
    "<center>\n",
    "<img src=\"https://ourworldindata.org/images/published/Population-Pyramid-1950-to-2100_3000.png\" alt=\"drawing\" width=\"600\"/>\n",
    "</center>"
   ]
  },
  {
   "cell_type": "markdown",
   "id": "d6250aba-9150-49df-9ea4-3360a578996a",
   "metadata": {},
   "source": [
    "## Exercise #1: Run the following python code to build a population pyramid for Australia\n",
    "\n",
    "This exercise will first show you how to construct a population pyramid for Australia in 1960 and 2023. \n",
    "\n",
    "You will then be asked to make a population pyramid for either `Benin`, `Côte d'Ivoire`, or `Uganda`. \n",
    "\n",
    "All data sourced for this exercise is from the [World Development Indicators](https://datatopics.worldbank.org/world-development-indicators/) database.\n",
    "\n",
    "---\n",
    "\n",
    "First we will need to import some useful packages\n",
    "\n",
    "```{hint}\n",
    "To execute the code select the cell below and push <shift>+<enter>\n",
    "```"
   ]
  },
  {
   "cell_type": "code",
   "execution_count": 52,
   "id": "597aa37a-1ad2-4077-a3ea-216fe45ed27c",
   "metadata": {},
   "outputs": [],
   "source": [
    "import seaborn as sns\n",
    "import matplotlib.pyplot as plt\n",
    "import pandas as pd\n",
    "# import pyodide_http\n",
    "# pyodide_http.patch_all()"
   ]
  },
  {
   "cell_type": "markdown",
   "id": "1054efa8-4db6-4e4b-9aa0-c35c80480571",
   "metadata": {},
   "source": [
    "We will need to fetch the data needed to build a plot\n",
    "\n",
    "There is a saved dataset Australia that contains the share of population within certain age groups (i.e. 0-4, 5-9) for Australia in 1960 and 2023.\n",
    "\n",
    "You can retrieve this data by executing the following cell\n",
    "\n",
    "```{hint}\n",
    "To execute the code select the cell below and push <shift>+<enter>\n",
    "```"
   ]
  },
  {
   "cell_type": "code",
   "execution_count": 57,
   "id": "9d709146-0f5a-41bc-9436-e7231e2a1ec2",
   "metadata": {},
   "outputs": [],
   "source": [
    "URL = \"https://raw.githubusercontent.com/QuantEcon/africa-summer-course-2024/main/exercises/day-01/datapop_shares_aus.csv\"\n",
    "# Use the pandas package to read the csv from out github repository\n",
    "plot_data = pd.read_csv(URL)"
   ]
  },
  {
   "cell_type": "markdown",
   "id": "c2e86d06-97db-405a-8917-25897f63c365",
   "metadata": {},
   "source": [
    "Let us first take a look at the data that has been imported"
   ]
  },
  {
   "cell_type": "code",
   "execution_count": 55,
   "id": "096a60d2-da50-4064-8607-d5da9526056e",
   "metadata": {},
   "outputs": [
    {
     "data": {
      "text/html": [
       "<div>\n",
       "<style scoped>\n",
       "    .dataframe tbody tr th:only-of-type {\n",
       "        vertical-align: middle;\n",
       "    }\n",
       "\n",
       "    .dataframe tbody tr th {\n",
       "        vertical-align: top;\n",
       "    }\n",
       "\n",
       "    .dataframe thead th {\n",
       "        text-align: right;\n",
       "    }\n",
       "</style>\n",
       "<table border=\"1\" class=\"dataframe\">\n",
       "  <thead>\n",
       "    <tr style=\"text-align: right;\">\n",
       "      <th></th>\n",
       "      <th>age</th>\n",
       "      <th>year</th>\n",
       "      <th>female</th>\n",
       "      <th>male</th>\n",
       "    </tr>\n",
       "  </thead>\n",
       "  <tbody>\n",
       "    <tr>\n",
       "      <th>0</th>\n",
       "      <td>80+</td>\n",
       "      <td>2023</td>\n",
       "      <td>-4.981383</td>\n",
       "      <td>3.838151</td>\n",
       "    </tr>\n",
       "    <tr>\n",
       "      <th>1</th>\n",
       "      <td>80+</td>\n",
       "      <td>1960</td>\n",
       "      <td>-1.619326</td>\n",
       "      <td>0.948079</td>\n",
       "    </tr>\n",
       "    <tr>\n",
       "      <th>2</th>\n",
       "      <td>75-79</td>\n",
       "      <td>2023</td>\n",
       "      <td>-3.598009</td>\n",
       "      <td>3.384923</td>\n",
       "    </tr>\n",
       "    <tr>\n",
       "      <th>3</th>\n",
       "      <td>75-79</td>\n",
       "      <td>1960</td>\n",
       "      <td>-1.809344</td>\n",
       "      <td>1.280289</td>\n",
       "    </tr>\n",
       "    <tr>\n",
       "      <th>4</th>\n",
       "      <td>70-74</td>\n",
       "      <td>2023</td>\n",
       "      <td>-4.455070</td>\n",
       "      <td>4.215617</td>\n",
       "    </tr>\n",
       "  </tbody>\n",
       "</table>\n",
       "</div>"
      ],
      "text/plain": [
       "     age  year    female      male\n",
       "0    80+  2023 -4.981383  3.838151\n",
       "1    80+  1960 -1.619326  0.948079\n",
       "2  75-79  2023 -3.598009  3.384923\n",
       "3  75-79  1960 -1.809344  1.280289\n",
       "4  70-74  2023 -4.455070  4.215617"
      ]
     },
     "execution_count": 55,
     "metadata": {},
     "output_type": "execute_result"
    }
   ],
   "source": [
    "plot_data.head()  # the .head() method returns the first 5 lines of the DataFrame"
   ]
  },
  {
   "cell_type": "markdown",
   "id": "f044c7e9-bfc1-4539-997d-a5f1ca40c965",
   "metadata": {},
   "source": [
    "You can see that this dataset contains four columns named `age`, `year`, `female`, and `male`.\n",
    "\n",
    "Let's take a closer look at the `age` column to understand what that column represents"
   ]
  },
  {
   "cell_type": "code",
   "execution_count": 58,
   "id": "d695b2f1-e067-460e-b439-af564ca270a9",
   "metadata": {},
   "outputs": [
    {
     "data": {
      "text/plain": [
       "array(['80+', '75-79', '70-74', '65-69', '60-64', '55-59', '50-54',\n",
       "       '45-49', '40-44', '35-39', '30-34', '25-29', '20-24', '15-19',\n",
       "       '10-14', '05-09', '00-04'], dtype=object)"
      ]
     },
     "execution_count": 58,
     "metadata": {},
     "output_type": "execute_result"
    }
   ],
   "source": [
    "plot_data['age'].unique()"
   ]
  },
  {
   "cell_type": "markdown",
   "id": "53400a68-5591-4202-aa07-ed22e9de85c7",
   "metadata": {},
   "source": [
    "As you can see it consists of various age groups. \n",
    "\n",
    "This is the format we need for building a population pyramid. \n",
    "\n",
    "Now let's look at the year column"
   ]
  },
  {
   "cell_type": "code",
   "execution_count": 59,
   "id": "ee2ff9ec-cbb1-401f-bf9e-93263e1706c6",
   "metadata": {},
   "outputs": [
    {
     "data": {
      "text/plain": [
       "array([2023, 1960])"
      ]
     },
     "execution_count": 59,
     "metadata": {},
     "output_type": "execute_result"
    }
   ],
   "source": [
    "plot_data.year.unique()"
   ]
  },
  {
   "cell_type": "markdown",
   "id": "5ccfeb66-04ee-47a1-86c8-3a7cd3a3a65b",
   "metadata": {},
   "source": [
    "This dataset contains data for `two` different years so we will need to filter for either 1960 or 2023 when building our figures.\n",
    "\n",
    "Let's first collect the data for 1960 into a separate dataframe"
   ]
  },
  {
   "cell_type": "code",
   "execution_count": 61,
   "id": "68bcf84e-caa8-46fd-bb6e-4de708856abd",
   "metadata": {},
   "outputs": [
    {
     "data": {
      "text/html": [
       "<div>\n",
       "<style scoped>\n",
       "    .dataframe tbody tr th:only-of-type {\n",
       "        vertical-align: middle;\n",
       "    }\n",
       "\n",
       "    .dataframe tbody tr th {\n",
       "        vertical-align: top;\n",
       "    }\n",
       "\n",
       "    .dataframe thead th {\n",
       "        text-align: right;\n",
       "    }\n",
       "</style>\n",
       "<table border=\"1\" class=\"dataframe\">\n",
       "  <thead>\n",
       "    <tr style=\"text-align: right;\">\n",
       "      <th></th>\n",
       "      <th>age</th>\n",
       "      <th>year</th>\n",
       "      <th>female</th>\n",
       "      <th>male</th>\n",
       "    </tr>\n",
       "  </thead>\n",
       "  <tbody>\n",
       "    <tr>\n",
       "      <th>1</th>\n",
       "      <td>80+</td>\n",
       "      <td>1960</td>\n",
       "      <td>-1.619326</td>\n",
       "      <td>0.948079</td>\n",
       "    </tr>\n",
       "    <tr>\n",
       "      <th>3</th>\n",
       "      <td>75-79</td>\n",
       "      <td>1960</td>\n",
       "      <td>-1.809344</td>\n",
       "      <td>1.280289</td>\n",
       "    </tr>\n",
       "    <tr>\n",
       "      <th>5</th>\n",
       "      <td>70-74</td>\n",
       "      <td>1960</td>\n",
       "      <td>-2.818732</td>\n",
       "      <td>2.211589</td>\n",
       "    </tr>\n",
       "    <tr>\n",
       "      <th>7</th>\n",
       "      <td>65-69</td>\n",
       "      <td>1960</td>\n",
       "      <td>-3.606390</td>\n",
       "      <td>2.885782</td>\n",
       "    </tr>\n",
       "    <tr>\n",
       "      <th>9</th>\n",
       "      <td>60-64</td>\n",
       "      <td>1960</td>\n",
       "      <td>-4.049524</td>\n",
       "      <td>3.566932</td>\n",
       "    </tr>\n",
       "  </tbody>\n",
       "</table>\n",
       "</div>"
      ],
      "text/plain": [
       "     age  year    female      male\n",
       "1    80+  1960 -1.619326  0.948079\n",
       "3  75-79  1960 -1.809344  1.280289\n",
       "5  70-74  1960 -2.818732  2.211589\n",
       "7  65-69  1960 -3.606390  2.885782\n",
       "9  60-64  1960 -4.049524  3.566932"
      ]
     },
     "execution_count": 61,
     "metadata": {},
     "output_type": "execute_result"
    }
   ],
   "source": [
    "plot_1960 = plot_data[plot_data.year == 1960]\n",
    "plot_1960.head()"
   ]
  },
  {
   "cell_type": "markdown",
   "id": "05f05c0c-518e-478f-b094-7edcf8b6c79c",
   "metadata": {},
   "source": [
    "This data is now in the format we need to build a figure.\n",
    "\n",
    "We will use a python package called [seaborn]() to build the visualisation as horizontal bar charts. "
   ]
  },
  {
   "cell_type": "code",
   "execution_count": 67,
   "id": "0076db21-1c7a-4ddd-b258-6b841b80fece",
   "metadata": {},
   "outputs": [
    {
     "data": {
      "image/png": "[encoded data removed]",
      "text/plain": [
       "<Figure size 640x480 with 1 Axes>"
      ]
     },
     "metadata": {},
     "output_type": "display_data"
    }
   ],
   "source": [
    "# - Make Plot for 1960\n",
    "ax1 = sns.barplot(x='male', y='age', data=plot_1960, color=\"blue\")\n",
    "ax2 = sns.barplot(x='female', y='age', data=plot_1960, color=\"green\")\n",
    "plt.title(\"Population pyramid for Australia, 1960 estimates\")\n",
    "plt.xlabel(\"% of population \\n Female / Male\")\n",
    "plt.grid()"
   ]
  },
  {
   "cell_type": "markdown",
   "id": "6ea25181-a67c-4c3d-b671-ac4ece61a2a3",
   "metadata": {},
   "source": [
    "In the 1960's Australia had a typical wide based population pyramid, with a higher percentage of children when compared to the rest of the population. \n",
    "\n",
    "We have data from 2023 in our dataset so let us compare the two"
   ]
  },
  {
   "cell_type": "code",
   "execution_count": 68,
   "id": "d39c0c7b-77ba-4b8a-abde-7ab7f8c585ad",
   "metadata": {},
   "outputs": [],
   "source": [
    "plot_2023 = plot_data[plot_data.year == 2023]"
   ]
  },
  {
   "cell_type": "code",
   "execution_count": 69,
   "id": "e2bb2bbf-cacc-4aea-a811-9d49efb210ba",
   "metadata": {},
   "outputs": [
    {
     "data": {
      "image/png": "[encoded data removed]",
      "text/plain": [
       "<Figure size 640x480 with 1 Axes>"
      ]
     },
     "metadata": {},
     "output_type": "display_data"
    }
   ],
   "source": [
    "# - Overlay of both Years\n",
    "ax3 = sns.barplot(x='male', y='age', data=plot_2023, color=\"blue\")\n",
    "ax4 = sns.barplot(x='female', y='age', data=plot_2023, color=\"green\")\n",
    "plt.title(\"Population pyramid for Australia, 2023 estimates\")\n",
    "plt.xlabel(\"% of population \\n Female / Male\")\n",
    "plt.grid()"
   ]
  },
  {
   "cell_type": "markdown",
   "id": "55a0f203-7b4e-4182-8d42-c9d2f670e234",
   "metadata": {},
   "source": [
    "The shape of this pyramid has changed significantly, with the highest cohort (by percentage) between the age of 30 and 40. \n",
    "\n",
    "It may be more convenient to see these plots side by side"
   ]
  },
  {
   "cell_type": "code",
   "execution_count": 70,
   "id": "3f3aada3-077e-420d-b1f3-95accc37c8de",
   "metadata": {},
   "outputs": [
    {
     "data": {
      "image/png": "[encoded data removed]",
      "text/plain": [
       "<Figure size 1200x600 with 2 Axes>"
      ]
     },
     "metadata": {},
     "output_type": "display_data"
    }
   ],
   "source": [
    "import matplotlib.pyplot as plt\n",
    "figure, axes = plt.subplots(1, 2, figsize=(12,6))\n",
    "year = [1960, 2023]\n",
    "index = 0\n",
    "for axis in axes:\n",
    "    ax1 = sns.barplot(x='male', y='age', data=plot_data[plot_data['year'] == year[index]], color=\"blue\", ax=axis)\n",
    "    ax2 = sns.barplot(x='female', y='age', data=plot_data[plot_data['year'] == year[index]], color=\"green\", ax=axis)\n",
    "    axis.set_xlabel(\"female / male\")\n",
    "    axis.set_title(year[index])\n",
    "    index = index+1\n",
    "plt.show()"
   ]
  },
  {
   "cell_type": "markdown",
   "id": "37230e9e-af7d-4d44-bd0c-ca0edb146029",
   "metadata": {},
   "source": [
    "### Question: What else do you observe by comparing these two plots?\n",
    "\n",
    "---"
   ]
  },
  {
   "cell_type": "markdown",
   "id": "a56dcffe-7f6f-44b1-8ee4-cebc7e40a8c0",
   "metadata": {},
   "source": [
    "## Exercise #2: Making your own population pyramid\n",
    "\n",
    "Above you have been shown how to make a population pyramid for Australia using prepared data. \n",
    "\n",
    "In this section we will:\n",
    "\n",
    "1. Show how this data was retrieved from the world development indicators database\n",
    "2. See how to prepare the data, extracting the information you need\n",
    "3. Save the data of interest to build a plot for `Benin`, `Côte d'Ivoire`, or `Uganda`.\n",
    "4. Make your own plot (using the code above)\n",
    "\n",
    "---\n",
    "\n",
    "**Step #1:** Getting Data from the World Bank World Development Indicators\n",
    "\n",
    "One way to get data from the [WDI](http://wdi.worldbank.org) database is to use the [World Bank Databank](https://databank.worldbank.org) website.\n",
    "\n",
    "We have fetched some data for the countries `Australia`, `Benin`, `Côte d'Ivoire`, or `Uganda` and saved the output as a csv file that we will use in this exercise.\n",
    "\n",
    "The RAW world bank data looks like this once downloaded."
   ]
  },
  {
   "cell_type": "code",
   "execution_count": 71,
   "id": "12ef86ed-0a50-4fc1-b757-e8e8e88eefad",
   "metadata": {},
   "outputs": [],
   "source": [
    "URL = \"https://raw.githubusercontent.com/QuantEcon/africa-summer-course-2024/main/exercises/day-01/wdi-data-exercise-day01-all.csv\"\n",
    "data = pd.read_csv(URL)"
   ]
  },
  {
   "cell_type": "code",
   "execution_count": 72,
   "id": "85d52acb-cc3f-4922-80d6-f08d06f3dba6",
   "metadata": {},
   "outputs": [
    {
     "data": {
      "text/html": [
       "<div>\n",
       "<style scoped>\n",
       "    .dataframe tbody tr th:only-of-type {\n",
       "        vertical-align: middle;\n",
       "    }\n",
       "\n",
       "    .dataframe tbody tr th {\n",
       "        vertical-align: top;\n",
       "    }\n",
       "\n",
       "    .dataframe thead th {\n",
       "        text-align: right;\n",
       "    }\n",
       "</style>\n",
       "<table border=\"1\" class=\"dataframe\">\n",
       "  <thead>\n",
       "    <tr style=\"text-align: right;\">\n",
       "      <th></th>\n",
       "      <th>Country Name</th>\n",
       "      <th>Country Code</th>\n",
       "      <th>Series Name</th>\n",
       "      <th>Series Code</th>\n",
       "      <th>1960</th>\n",
       "      <th>1970</th>\n",
       "      <th>1980</th>\n",
       "      <th>1990</th>\n",
       "      <th>2000</th>\n",
       "      <th>2010</th>\n",
       "      <th>2020</th>\n",
       "      <th>2023</th>\n",
       "    </tr>\n",
       "  </thead>\n",
       "  <tbody>\n",
       "    <tr>\n",
       "      <th>0</th>\n",
       "      <td>Australia</td>\n",
       "      <td>AUS</td>\n",
       "      <td>Population ages 00-04, female (% of female pop...</td>\n",
       "      <td>SP.POP.0004.FE.5Y</td>\n",
       "      <td>10.480677</td>\n",
       "      <td>9.322055</td>\n",
       "      <td>7.530362</td>\n",
       "      <td>7.172339</td>\n",
       "      <td>6.481703</td>\n",
       "      <td>6.371332</td>\n",
       "      <td>5.848970</td>\n",
       "      <td>5.574327</td>\n",
       "    </tr>\n",
       "    <tr>\n",
       "      <th>1</th>\n",
       "      <td>Australia</td>\n",
       "      <td>AUS</td>\n",
       "      <td>Population ages 00-04, male (% of male populat...</td>\n",
       "      <td>SP.POP.0004.MA.5Y</td>\n",
       "      <td>10.781845</td>\n",
       "      <td>9.658687</td>\n",
       "      <td>7.921738</td>\n",
       "      <td>7.585953</td>\n",
       "      <td>6.927366</td>\n",
       "      <td>6.779684</td>\n",
       "      <td>6.282570</td>\n",
       "      <td>5.966725</td>\n",
       "    </tr>\n",
       "    <tr>\n",
       "      <th>2</th>\n",
       "      <td>Australia</td>\n",
       "      <td>AUS</td>\n",
       "      <td>Population ages 05-09, female (% of female pop...</td>\n",
       "      <td>SP.POP.0509.FE.5Y</td>\n",
       "      <td>9.911938</td>\n",
       "      <td>9.587401</td>\n",
       "      <td>8.637762</td>\n",
       "      <td>7.177850</td>\n",
       "      <td>6.810105</td>\n",
       "      <td>6.002763</td>\n",
       "      <td>6.096275</td>\n",
       "      <td>5.862372</td>\n",
       "    </tr>\n",
       "    <tr>\n",
       "      <th>3</th>\n",
       "      <td>Australia</td>\n",
       "      <td>AUS</td>\n",
       "      <td>Population ages 05-09, male (% of male populat...</td>\n",
       "      <td>SP.POP.0509.MA.5Y</td>\n",
       "      <td>10.140228</td>\n",
       "      <td>9.979450</td>\n",
       "      <td>9.044278</td>\n",
       "      <td>7.599521</td>\n",
       "      <td>7.285220</td>\n",
       "      <td>6.379275</td>\n",
       "      <td>6.522612</td>\n",
       "      <td>6.276601</td>\n",
       "    </tr>\n",
       "    <tr>\n",
       "      <th>4</th>\n",
       "      <td>Australia</td>\n",
       "      <td>AUS</td>\n",
       "      <td>Population ages 10-14, female (% of female pop...</td>\n",
       "      <td>SP.POP.1014.FE.5Y</td>\n",
       "      <td>9.396905</td>\n",
       "      <td>9.320753</td>\n",
       "      <td>8.477508</td>\n",
       "      <td>7.042719</td>\n",
       "      <td>6.770388</td>\n",
       "      <td>6.102217</td>\n",
       "      <td>5.962129</td>\n",
       "      <td>5.943782</td>\n",
       "    </tr>\n",
       "  </tbody>\n",
       "</table>\n",
       "</div>"
      ],
      "text/plain": [
       "  Country Name Country Code  \\\n",
       "0    Australia          AUS   \n",
       "1    Australia          AUS   \n",
       "2    Australia          AUS   \n",
       "3    Australia          AUS   \n",
       "4    Australia          AUS   \n",
       "\n",
       "                                         Series Name        Series Code  \\\n",
       "0  Population ages 00-04, female (% of female pop...  SP.POP.0004.FE.5Y   \n",
       "1  Population ages 00-04, male (% of male populat...  SP.POP.0004.MA.5Y   \n",
       "2  Population ages 05-09, female (% of female pop...  SP.POP.0509.FE.5Y   \n",
       "3  Population ages 05-09, male (% of male populat...  SP.POP.0509.MA.5Y   \n",
       "4  Population ages 10-14, female (% of female pop...  SP.POP.1014.FE.5Y   \n",
       "\n",
       "        1960      1970      1980      1990      2000      2010      2020  \\\n",
       "0  10.480677  9.322055  7.530362  7.172339  6.481703  6.371332  5.848970   \n",
       "1  10.781845  9.658687  7.921738  7.585953  6.927366  6.779684  6.282570   \n",
       "2   9.911938  9.587401  8.637762  7.177850  6.810105  6.002763  6.096275   \n",
       "3  10.140228  9.979450  9.044278  7.599521  7.285220  6.379275  6.522612   \n",
       "4   9.396905  9.320753  8.477508  7.042719  6.770388  6.102217  5.962129   \n",
       "\n",
       "       2023  \n",
       "0  5.574327  \n",
       "1  5.966725  \n",
       "2  5.862372  \n",
       "3  6.276601  \n",
       "4  5.943782  "
      ]
     },
     "execution_count": 72,
     "metadata": {},
     "output_type": "execute_result"
    }
   ],
   "source": [
    "data.head()"
   ]
  },
  {
   "cell_type": "markdown",
   "id": "bc78b991-358e-4f21-ab1b-77ffc942adc5",
   "metadata": {},
   "source": [
    "The dataset is nicely organised, however it is not in the format we need to build a plot. \n",
    "\n",
    "For a country of interest we would want the dataset to be in the format we observed in Exercise #1 (above)\n",
    "\n",
    "|age |\tyear |\tfemale\t| male |\n",
    "|----|-------|----------|------|\n",
    "| 80+\t| 1960 |\t-1.619326\t| 0.948079|\n",
    "| 75-79\t| 1960 |\t-1.809344\t| 1.280289|\n",
    "| 70-74\t| 1960 |\t-2.818732\t| 2.211589|\n",
    "| 65-69\t| 1960 |\t-3.606390\t| 2.885782|\n",
    "| 60-64\t| 1960 |\t-4.049524\t| 3.566932|\n",
    "\n",
    "What we can see from the raw data is the information is there (for example, the age brackets are embedded in the `Series Name`) but we will need to extract the data that we would like for our figure.\n",
    "\n",
    "Python can help with this\n",
    "\n",
    "---\n",
    "\n",
    "**Step 2:** Understand the dataset and extract the information you need for the population pyramid\n",
    "\n",
    "We can first take a look at what countries are in this dataset"
   ]
  },
  {
   "cell_type": "code",
   "execution_count": 73,
   "id": "f9df278a-0d93-4f03-911c-4d68de6d6014",
   "metadata": {},
   "outputs": [
    {
     "data": {
      "text/plain": [
       "array(['AUS', 'BEN', 'CIV', 'UGA'], dtype=object)"
      ]
     },
     "execution_count": 73,
     "metadata": {},
     "output_type": "execute_result"
    }
   ],
   "source": [
    "data['Country Code'].unique()"
   ]
  },
  {
   "cell_type": "markdown",
   "id": "1342b1dd-870a-4c47-835c-a86e2603ab86",
   "metadata": {},
   "source": [
    "Then we can look at what `Series` are in this dataset"
   ]
  },
  {
   "cell_type": "code",
   "execution_count": 74,
   "id": "93a254e8-991e-4e6b-ab0b-072681d588e4",
   "metadata": {},
   "outputs": [
    {
     "data": {
      "text/plain": [
       "array(['Population ages 00-04, female (% of female population)',\n",
       "       'Population ages 00-04, male (% of male population)',\n",
       "       'Population ages 05-09, female (% of female population)',\n",
       "       'Population ages 05-09, male (% of male population)',\n",
       "       'Population ages 10-14, female (% of female population)',\n",
       "       'Population ages 10-14, male (% of male population)',\n",
       "       'Population ages 15-19, female (% of female population)',\n",
       "       'Population ages 15-19, male (% of male population)',\n",
       "       'Population ages 20-24, female (% of female population)',\n",
       "       'Population ages 20-24, male (% of male population)',\n",
       "       'Population ages 25-29, female (% of female population)',\n",
       "       'Population ages 25-29, male (% of male population)',\n",
       "       'Population ages 30-34, female (% of female population)',\n",
       "       'Population ages 30-34, male (% of male population)',\n",
       "       'Population ages 35-39, female (% of female population)',\n",
       "       'Population ages 35-39, male (% of male population)',\n",
       "       'Population ages 40-44, female (% of female population)',\n",
       "       'Population ages 40-44, male (% of male population)',\n",
       "       'Population ages 45-49, female (% of female population)',\n",
       "       'Population ages 45-49, male (% of male population)',\n",
       "       'Population ages 50-54, female (% of female population)',\n",
       "       'Population ages 50-54, male (% of male population)',\n",
       "       'Population ages 55-59, female (% of female population)',\n",
       "       'Population ages 55-59, male (% of male population)',\n",
       "       'Population ages 60-64, female (% of female population)',\n",
       "       'Population ages 60-64, male (% of male population)',\n",
       "       'Population ages 65-69, female (% of female population)',\n",
       "       'Population ages 65-69, male (% of male population)',\n",
       "       'Population ages 70-74, female (% of female population)',\n",
       "       'Population ages 70-74, male (% of male population)',\n",
       "       'Population ages 75-79, female (% of female population)',\n",
       "       'Population ages 75-79, male (% of male population)',\n",
       "       'Population ages 80 and above, female (% of female population)',\n",
       "       'Population ages 80 and above, male (% of male population)'],\n",
       "      dtype=object)"
      ]
     },
     "execution_count": 74,
     "metadata": {},
     "output_type": "execute_result"
    }
   ],
   "source": [
    "data['Series Name'].unique()"
   ]
  },
  {
   "cell_type": "markdown",
   "id": "fc61ade1-9211-48a8-8607-002fb3031cfd",
   "metadata": {},
   "source": [
    "It is nice that we have data for all the age-brackets in the one DataFrame, however what we would like to do is extract the age brackets (such as \"0-4\" from this data). \n",
    "\n",
    "We can use `python string` manipulation to achieve this pretty simply by recognizing the common patterns in the string.\n",
    "\n",
    "Let's look at one string more closely. "
   ]
  },
  {
   "cell_type": "code",
   "execution_count": 77,
   "id": "4b1fae68-f9f9-4c04-9519-08fd54afa45b",
   "metadata": {},
   "outputs": [
    {
     "data": {
      "text/plain": [
       "'Population ages 00-04, female (% of female population)'"
      ]
     },
     "execution_count": 77,
     "metadata": {},
     "output_type": "execute_result"
    }
   ],
   "source": [
    "data['Series Name'][0]"
   ]
  },
  {
   "cell_type": "markdown",
   "id": "f12df5b6-c8c4-4bc3-9867-a0b72f8e767d",
   "metadata": {},
   "source": [
    "We can split the string on the \",\" character and then replace \"Population ages \" with nothing to extract the `00-04` text. "
   ]
  },
  {
   "cell_type": "code",
   "execution_count": 79,
   "id": "cb5766f6-edd2-4341-93f2-8b4768333ca9",
   "metadata": {},
   "outputs": [
    {
     "data": {
      "text/plain": [
       "'00-04'"
      ]
     },
     "execution_count": 79,
     "metadata": {},
     "output_type": "execute_result"
    }
   ],
   "source": [
    "data['Series Name'][0].split(\",\")[0].replace(\"Population ages \", \"\")"
   ]
  },
  {
   "cell_type": "markdown",
   "id": "b3b9432a-efff-4102-8026-096400f99edf",
   "metadata": {},
   "source": [
    "We did it! \n",
    "\n",
    "Because this pattern is consistent we can use python to apply this to all `Series Name` rows.\n",
    "\n",
    "We will collect the text in a Python List and then add it to our dataset as a new column"
   ]
  },
  {
   "cell_type": "code",
   "execution_count": 80,
   "id": "5ee2de2c-e644-4779-ba2f-57b8d822f099",
   "metadata": {},
   "outputs": [],
   "source": [
    "age_brackets = []\n",
    "for sn in data['Series Name']:\n",
    "    a,b = sn.split(\",\")\n",
    "    a = a.replace(\"Population ages \", \"\")\n",
    "    if a == '80 and above':\n",
    "        a = '80+'\n",
    "    age_brackets.append(a)"
   ]
  },
  {
   "cell_type": "code",
   "execution_count": 82,
   "id": "e45fa07b-03d8-4032-89ef-c7265fd20a5c",
   "metadata": {},
   "outputs": [],
   "source": [
    "data['age'] = age_brackets"
   ]
  },
  {
   "cell_type": "code",
   "execution_count": 84,
   "id": "63230e52-a9d9-403e-b4f5-0514904ef0d2",
   "metadata": {},
   "outputs": [
    {
     "data": {
      "text/html": [
       "<div>\n",
       "<style scoped>\n",
       "    .dataframe tbody tr th:only-of-type {\n",
       "        vertical-align: middle;\n",
       "    }\n",
       "\n",
       "    .dataframe tbody tr th {\n",
       "        vertical-align: top;\n",
       "    }\n",
       "\n",
       "    .dataframe thead th {\n",
       "        text-align: right;\n",
       "    }\n",
       "</style>\n",
       "<table border=\"1\" class=\"dataframe\">\n",
       "  <thead>\n",
       "    <tr style=\"text-align: right;\">\n",
       "      <th></th>\n",
       "      <th>Country Name</th>\n",
       "      <th>Country Code</th>\n",
       "      <th>Series Name</th>\n",
       "      <th>Series Code</th>\n",
       "      <th>1960</th>\n",
       "      <th>1970</th>\n",
       "      <th>1980</th>\n",
       "      <th>1990</th>\n",
       "      <th>2000</th>\n",
       "      <th>2010</th>\n",
       "      <th>2020</th>\n",
       "      <th>2023</th>\n",
       "      <th>age</th>\n",
       "    </tr>\n",
       "  </thead>\n",
       "  <tbody>\n",
       "    <tr>\n",
       "      <th>0</th>\n",
       "      <td>Australia</td>\n",
       "      <td>AUS</td>\n",
       "      <td>Population ages 00-04, female (% of female pop...</td>\n",
       "      <td>SP.POP.0004.FE.5Y</td>\n",
       "      <td>10.480677</td>\n",
       "      <td>9.322055</td>\n",
       "      <td>7.530362</td>\n",
       "      <td>7.172339</td>\n",
       "      <td>6.481703</td>\n",
       "      <td>6.371332</td>\n",
       "      <td>5.848970</td>\n",
       "      <td>5.574327</td>\n",
       "      <td>00-04</td>\n",
       "    </tr>\n",
       "    <tr>\n",
       "      <th>1</th>\n",
       "      <td>Australia</td>\n",
       "      <td>AUS</td>\n",
       "      <td>Population ages 00-04, male (% of male populat...</td>\n",
       "      <td>SP.POP.0004.MA.5Y</td>\n",
       "      <td>10.781845</td>\n",
       "      <td>9.658687</td>\n",
       "      <td>7.921738</td>\n",
       "      <td>7.585953</td>\n",
       "      <td>6.927366</td>\n",
       "      <td>6.779684</td>\n",
       "      <td>6.282570</td>\n",
       "      <td>5.966725</td>\n",
       "      <td>00-04</td>\n",
       "    </tr>\n",
       "    <tr>\n",
       "      <th>2</th>\n",
       "      <td>Australia</td>\n",
       "      <td>AUS</td>\n",
       "      <td>Population ages 05-09, female (% of female pop...</td>\n",
       "      <td>SP.POP.0509.FE.5Y</td>\n",
       "      <td>9.911938</td>\n",
       "      <td>9.587401</td>\n",
       "      <td>8.637762</td>\n",
       "      <td>7.177850</td>\n",
       "      <td>6.810105</td>\n",
       "      <td>6.002763</td>\n",
       "      <td>6.096275</td>\n",
       "      <td>5.862372</td>\n",
       "      <td>05-09</td>\n",
       "    </tr>\n",
       "    <tr>\n",
       "      <th>3</th>\n",
       "      <td>Australia</td>\n",
       "      <td>AUS</td>\n",
       "      <td>Population ages 05-09, male (% of male populat...</td>\n",
       "      <td>SP.POP.0509.MA.5Y</td>\n",
       "      <td>10.140228</td>\n",
       "      <td>9.979450</td>\n",
       "      <td>9.044278</td>\n",
       "      <td>7.599521</td>\n",
       "      <td>7.285220</td>\n",
       "      <td>6.379275</td>\n",
       "      <td>6.522612</td>\n",
       "      <td>6.276601</td>\n",
       "      <td>05-09</td>\n",
       "    </tr>\n",
       "    <tr>\n",
       "      <th>4</th>\n",
       "      <td>Australia</td>\n",
       "      <td>AUS</td>\n",
       "      <td>Population ages 10-14, female (% of female pop...</td>\n",
       "      <td>SP.POP.1014.FE.5Y</td>\n",
       "      <td>9.396905</td>\n",
       "      <td>9.320753</td>\n",
       "      <td>8.477508</td>\n",
       "      <td>7.042719</td>\n",
       "      <td>6.770388</td>\n",
       "      <td>6.102217</td>\n",
       "      <td>5.962129</td>\n",
       "      <td>5.943782</td>\n",
       "      <td>10-14</td>\n",
       "    </tr>\n",
       "  </tbody>\n",
       "</table>\n",
       "</div>"
      ],
      "text/plain": [
       "  Country Name Country Code  \\\n",
       "0    Australia          AUS   \n",
       "1    Australia          AUS   \n",
       "2    Australia          AUS   \n",
       "3    Australia          AUS   \n",
       "4    Australia          AUS   \n",
       "\n",
       "                                         Series Name        Series Code  \\\n",
       "0  Population ages 00-04, female (% of female pop...  SP.POP.0004.FE.5Y   \n",
       "1  Population ages 00-04, male (% of male populat...  SP.POP.0004.MA.5Y   \n",
       "2  Population ages 05-09, female (% of female pop...  SP.POP.0509.FE.5Y   \n",
       "3  Population ages 05-09, male (% of male populat...  SP.POP.0509.MA.5Y   \n",
       "4  Population ages 10-14, female (% of female pop...  SP.POP.1014.FE.5Y   \n",
       "\n",
       "        1960      1970      1980      1990      2000      2010      2020  \\\n",
       "0  10.480677  9.322055  7.530362  7.172339  6.481703  6.371332  5.848970   \n",
       "1  10.781845  9.658687  7.921738  7.585953  6.927366  6.779684  6.282570   \n",
       "2   9.911938  9.587401  8.637762  7.177850  6.810105  6.002763  6.096275   \n",
       "3  10.140228  9.979450  9.044278  7.599521  7.285220  6.379275  6.522612   \n",
       "4   9.396905  9.320753  8.477508  7.042719  6.770388  6.102217  5.962129   \n",
       "\n",
       "       2023    age  \n",
       "0  5.574327  00-04  \n",
       "1  5.966725  00-04  \n",
       "2  5.862372  05-09  \n",
       "3  6.276601  05-09  \n",
       "4  5.943782  10-14  "
      ]
     },
     "execution_count": 84,
     "metadata": {},
     "output_type": "execute_result"
    }
   ],
   "source": [
    "data.head()"
   ]
  },
  {
   "cell_type": "markdown",
   "id": "46ac8ef0-a8be-4acc-a45b-010ebab4090e",
   "metadata": {},
   "source": [
    "Now we will need two columns that contain `male` or `female`\n",
    "\n",
    "We can apply similar logic."
   ]
  },
  {
   "cell_type": "code",
   "execution_count": 86,
   "id": "c1526086-e30f-4a5e-84d6-d9a72bced518",
   "metadata": {},
   "outputs": [],
   "source": [
    "gender = []\n",
    "for sn in data['Series Name']:\n",
    "    if 'female' in sn:\n",
    "        gender.append('female')\n",
    "    elif 'male' in sn:\n",
    "        gender.append('male')\n",
    "    else:\n",
    "        raise ValueError(\"ERROR: cannot determine gender -- check data source\")"
   ]
  },
  {
   "cell_type": "markdown",
   "id": "80b81fd4-8ae7-4153-a838-4e6e7e80f979",
   "metadata": {},
   "source": [
    "```{note}\n",
    "Even though you may have never programmed in Python before you can probably read this code and understand what it is doing.\n",
    "```"
   ]
  },
  {
   "cell_type": "code",
   "execution_count": 87,
   "id": "b06a62c5-a81e-43de-948c-c796b9691c65",
   "metadata": {},
   "outputs": [],
   "source": [
    "data['gender'] = gender"
   ]
  },
  {
   "cell_type": "code",
   "execution_count": 88,
   "id": "3cbbd42b-8952-4066-98a6-a967786ef18d",
   "metadata": {},
   "outputs": [
    {
     "data": {
      "text/html": [
       "<div>\n",
       "<style scoped>\n",
       "    .dataframe tbody tr th:only-of-type {\n",
       "        vertical-align: middle;\n",
       "    }\n",
       "\n",
       "    .dataframe tbody tr th {\n",
       "        vertical-align: top;\n",
       "    }\n",
       "\n",
       "    .dataframe thead th {\n",
       "        text-align: right;\n",
       "    }\n",
       "</style>\n",
       "<table border=\"1\" class=\"dataframe\">\n",
       "  <thead>\n",
       "    <tr style=\"text-align: right;\">\n",
       "      <th></th>\n",
       "      <th>Country Name</th>\n",
       "      <th>Country Code</th>\n",
       "      <th>Series Name</th>\n",
       "      <th>Series Code</th>\n",
       "      <th>1960</th>\n",
       "      <th>1970</th>\n",
       "      <th>1980</th>\n",
       "      <th>1990</th>\n",
       "      <th>2000</th>\n",
       "      <th>2010</th>\n",
       "      <th>2020</th>\n",
       "      <th>2023</th>\n",
       "      <th>age</th>\n",
       "      <th>gender</th>\n",
       "    </tr>\n",
       "  </thead>\n",
       "  <tbody>\n",
       "    <tr>\n",
       "      <th>0</th>\n",
       "      <td>Australia</td>\n",
       "      <td>AUS</td>\n",
       "      <td>Population ages 00-04, female (% of female pop...</td>\n",
       "      <td>SP.POP.0004.FE.5Y</td>\n",
       "      <td>10.480677</td>\n",
       "      <td>9.322055</td>\n",
       "      <td>7.530362</td>\n",
       "      <td>7.172339</td>\n",
       "      <td>6.481703</td>\n",
       "      <td>6.371332</td>\n",
       "      <td>5.848970</td>\n",
       "      <td>5.574327</td>\n",
       "      <td>00-04</td>\n",
       "      <td>female</td>\n",
       "    </tr>\n",
       "    <tr>\n",
       "      <th>1</th>\n",
       "      <td>Australia</td>\n",
       "      <td>AUS</td>\n",
       "      <td>Population ages 00-04, male (% of male populat...</td>\n",
       "      <td>SP.POP.0004.MA.5Y</td>\n",
       "      <td>10.781845</td>\n",
       "      <td>9.658687</td>\n",
       "      <td>7.921738</td>\n",
       "      <td>7.585953</td>\n",
       "      <td>6.927366</td>\n",
       "      <td>6.779684</td>\n",
       "      <td>6.282570</td>\n",
       "      <td>5.966725</td>\n",
       "      <td>00-04</td>\n",
       "      <td>male</td>\n",
       "    </tr>\n",
       "    <tr>\n",
       "      <th>2</th>\n",
       "      <td>Australia</td>\n",
       "      <td>AUS</td>\n",
       "      <td>Population ages 05-09, female (% of female pop...</td>\n",
       "      <td>SP.POP.0509.FE.5Y</td>\n",
       "      <td>9.911938</td>\n",
       "      <td>9.587401</td>\n",
       "      <td>8.637762</td>\n",
       "      <td>7.177850</td>\n",
       "      <td>6.810105</td>\n",
       "      <td>6.002763</td>\n",
       "      <td>6.096275</td>\n",
       "      <td>5.862372</td>\n",
       "      <td>05-09</td>\n",
       "      <td>female</td>\n",
       "    </tr>\n",
       "    <tr>\n",
       "      <th>3</th>\n",
       "      <td>Australia</td>\n",
       "      <td>AUS</td>\n",
       "      <td>Population ages 05-09, male (% of male populat...</td>\n",
       "      <td>SP.POP.0509.MA.5Y</td>\n",
       "      <td>10.140228</td>\n",
       "      <td>9.979450</td>\n",
       "      <td>9.044278</td>\n",
       "      <td>7.599521</td>\n",
       "      <td>7.285220</td>\n",
       "      <td>6.379275</td>\n",
       "      <td>6.522612</td>\n",
       "      <td>6.276601</td>\n",
       "      <td>05-09</td>\n",
       "      <td>male</td>\n",
       "    </tr>\n",
       "    <tr>\n",
       "      <th>4</th>\n",
       "      <td>Australia</td>\n",
       "      <td>AUS</td>\n",
       "      <td>Population ages 10-14, female (% of female pop...</td>\n",
       "      <td>SP.POP.1014.FE.5Y</td>\n",
       "      <td>9.396905</td>\n",
       "      <td>9.320753</td>\n",
       "      <td>8.477508</td>\n",
       "      <td>7.042719</td>\n",
       "      <td>6.770388</td>\n",
       "      <td>6.102217</td>\n",
       "      <td>5.962129</td>\n",
       "      <td>5.943782</td>\n",
       "      <td>10-14</td>\n",
       "      <td>female</td>\n",
       "    </tr>\n",
       "  </tbody>\n",
       "</table>\n",
       "</div>"
      ],
      "text/plain": [
       "  Country Name Country Code  \\\n",
       "0    Australia          AUS   \n",
       "1    Australia          AUS   \n",
       "2    Australia          AUS   \n",
       "3    Australia          AUS   \n",
       "4    Australia          AUS   \n",
       "\n",
       "                                         Series Name        Series Code  \\\n",
       "0  Population ages 00-04, female (% of female pop...  SP.POP.0004.FE.5Y   \n",
       "1  Population ages 00-04, male (% of male populat...  SP.POP.0004.MA.5Y   \n",
       "2  Population ages 05-09, female (% of female pop...  SP.POP.0509.FE.5Y   \n",
       "3  Population ages 05-09, male (% of male populat...  SP.POP.0509.MA.5Y   \n",
       "4  Population ages 10-14, female (% of female pop...  SP.POP.1014.FE.5Y   \n",
       "\n",
       "        1960      1970      1980      1990      2000      2010      2020  \\\n",
       "0  10.480677  9.322055  7.530362  7.172339  6.481703  6.371332  5.848970   \n",
       "1  10.781845  9.658687  7.921738  7.585953  6.927366  6.779684  6.282570   \n",
       "2   9.911938  9.587401  8.637762  7.177850  6.810105  6.002763  6.096275   \n",
       "3  10.140228  9.979450  9.044278  7.599521  7.285220  6.379275  6.522612   \n",
       "4   9.396905  9.320753  8.477508  7.042719  6.770388  6.102217  5.962129   \n",
       "\n",
       "       2023    age  gender  \n",
       "0  5.574327  00-04  female  \n",
       "1  5.966725  00-04    male  \n",
       "2  5.862372  05-09  female  \n",
       "3  6.276601  05-09    male  \n",
       "4  5.943782  10-14  female  "
      ]
     },
     "execution_count": 88,
     "metadata": {},
     "output_type": "execute_result"
    }
   ],
   "source": [
    "data.head()"
   ]
  },
  {
   "cell_type": "markdown",
   "id": "05fe7580-8412-497a-aa4f-1efad8dcd3f0",
   "metadata": {},
   "source": [
    "---\n",
    "\n",
    "**Step #3:** Now we just need to build a small dataset with the data needed for our population pyramid\n",
    "\n",
    "Let's filter the dataset for Australia using the following code"
   ]
  },
  {
   "cell_type": "code",
   "execution_count": 194,
   "id": "13ee109d-954a-4c47-91fa-c797a8550b2c",
   "metadata": {},
   "outputs": [],
   "source": [
    "cntry_data = data[data['Country Code'] == \"AUS\"]                 # save data for 'AUS' in cntry_data \n",
    "plot_data = cntry_data[['1960', '2023', 'age', 'gender']]"
   ]
  },
  {
   "cell_type": "code",
   "execution_count": 195,
   "id": "94f0fb48-1f1a-4309-97fc-37d83615ecc0",
   "metadata": {},
   "outputs": [
    {
     "data": {
      "text/html": [
       "<div>\n",
       "<style scoped>\n",
       "    .dataframe tbody tr th:only-of-type {\n",
       "        vertical-align: middle;\n",
       "    }\n",
       "\n",
       "    .dataframe tbody tr th {\n",
       "        vertical-align: top;\n",
       "    }\n",
       "\n",
       "    .dataframe thead th {\n",
       "        text-align: right;\n",
       "    }\n",
       "</style>\n",
       "<table border=\"1\" class=\"dataframe\">\n",
       "  <thead>\n",
       "    <tr style=\"text-align: right;\">\n",
       "      <th></th>\n",
       "      <th>1960</th>\n",
       "      <th>2023</th>\n",
       "      <th>age</th>\n",
       "      <th>gender</th>\n",
       "    </tr>\n",
       "  </thead>\n",
       "  <tbody>\n",
       "    <tr>\n",
       "      <th>0</th>\n",
       "      <td>10.480677</td>\n",
       "      <td>5.574327</td>\n",
       "      <td>00-04</td>\n",
       "      <td>female</td>\n",
       "    </tr>\n",
       "    <tr>\n",
       "      <th>1</th>\n",
       "      <td>10.781845</td>\n",
       "      <td>5.966725</td>\n",
       "      <td>00-04</td>\n",
       "      <td>male</td>\n",
       "    </tr>\n",
       "    <tr>\n",
       "      <th>2</th>\n",
       "      <td>9.911938</td>\n",
       "      <td>5.862372</td>\n",
       "      <td>05-09</td>\n",
       "      <td>female</td>\n",
       "    </tr>\n",
       "    <tr>\n",
       "      <th>3</th>\n",
       "      <td>10.140228</td>\n",
       "      <td>6.276601</td>\n",
       "      <td>05-09</td>\n",
       "      <td>male</td>\n",
       "    </tr>\n",
       "    <tr>\n",
       "      <th>4</th>\n",
       "      <td>9.396905</td>\n",
       "      <td>5.943782</td>\n",
       "      <td>10-14</td>\n",
       "      <td>female</td>\n",
       "    </tr>\n",
       "  </tbody>\n",
       "</table>\n",
       "</div>"
      ],
      "text/plain": [
       "        1960      2023    age  gender\n",
       "0  10.480677  5.574327  00-04  female\n",
       "1  10.781845  5.966725  00-04    male\n",
       "2   9.911938  5.862372  05-09  female\n",
       "3  10.140228  6.276601  05-09    male\n",
       "4   9.396905  5.943782  10-14  female"
      ]
     },
     "execution_count": 195,
     "metadata": {},
     "output_type": "execute_result"
    }
   ],
   "source": [
    "plot_data.head()"
   ]
  },
  {
   "cell_type": "markdown",
   "id": "810e8a04-6a4d-46a4-8f5c-17a757e7ab99",
   "metadata": {},
   "source": [
    "This isn't quite in the shape we need for the graph.\n",
    "\n",
    "Let's reshape this dataset so we have years in one column, and the data in their own `male` and `female` columns instead. "
   ]
  },
  {
   "cell_type": "code",
   "execution_count": 196,
   "id": "bd7a933d-34ea-415f-9596-61414a09b1e4",
   "metadata": {},
   "outputs": [],
   "source": [
    "plot_data = plot_data.pivot(index='age', columns='gender')\n",
    "plot_data.columns.names = ['year', 'gender']"
   ]
  },
  {
   "cell_type": "code",
   "execution_count": 197,
   "id": "c9881577-fffd-4bab-bdec-68ad1ae79186",
   "metadata": {},
   "outputs": [
    {
     "data": {
      "text/html": [
       "<div>\n",
       "<style scoped>\n",
       "    .dataframe tbody tr th:only-of-type {\n",
       "        vertical-align: middle;\n",
       "    }\n",
       "\n",
       "    .dataframe tbody tr th {\n",
       "        vertical-align: top;\n",
       "    }\n",
       "\n",
       "    .dataframe thead tr th {\n",
       "        text-align: left;\n",
       "    }\n",
       "\n",
       "    .dataframe thead tr:last-of-type th {\n",
       "        text-align: right;\n",
       "    }\n",
       "</style>\n",
       "<table border=\"1\" class=\"dataframe\">\n",
       "  <thead>\n",
       "    <tr>\n",
       "      <th>year</th>\n",
       "      <th colspan=\"2\" halign=\"left\">1960</th>\n",
       "      <th colspan=\"2\" halign=\"left\">2023</th>\n",
       "    </tr>\n",
       "    <tr>\n",
       "      <th>gender</th>\n",
       "      <th>female</th>\n",
       "      <th>male</th>\n",
       "      <th>female</th>\n",
       "      <th>male</th>\n",
       "    </tr>\n",
       "    <tr>\n",
       "      <th>age</th>\n",
       "      <th></th>\n",
       "      <th></th>\n",
       "      <th></th>\n",
       "      <th></th>\n",
       "    </tr>\n",
       "  </thead>\n",
       "  <tbody>\n",
       "    <tr>\n",
       "      <th>00-04</th>\n",
       "      <td>10.480677</td>\n",
       "      <td>10.781845</td>\n",
       "      <td>5.574327</td>\n",
       "      <td>5.966725</td>\n",
       "    </tr>\n",
       "    <tr>\n",
       "      <th>05-09</th>\n",
       "      <td>9.911938</td>\n",
       "      <td>10.140228</td>\n",
       "      <td>5.862372</td>\n",
       "      <td>6.276601</td>\n",
       "    </tr>\n",
       "    <tr>\n",
       "      <th>10-14</th>\n",
       "      <td>9.396905</td>\n",
       "      <td>9.665174</td>\n",
       "      <td>5.943782</td>\n",
       "      <td>6.343711</td>\n",
       "    </tr>\n",
       "    <tr>\n",
       "      <th>15-19</th>\n",
       "      <td>7.363435</td>\n",
       "      <td>7.571252</td>\n",
       "      <td>5.733758</td>\n",
       "      <td>6.114841</td>\n",
       "    </tr>\n",
       "    <tr>\n",
       "      <th>20-24</th>\n",
       "      <td>6.379235</td>\n",
       "      <td>6.652719</td>\n",
       "      <td>5.975467</td>\n",
       "      <td>6.332740</td>\n",
       "    </tr>\n",
       "  </tbody>\n",
       "</table>\n",
       "</div>"
      ],
      "text/plain": [
       "year         1960                 2023          \n",
       "gender     female       male    female      male\n",
       "age                                             \n",
       "00-04   10.480677  10.781845  5.574327  5.966725\n",
       "05-09    9.911938  10.140228  5.862372  6.276601\n",
       "10-14    9.396905   9.665174  5.943782  6.343711\n",
       "15-19    7.363435   7.571252  5.733758  6.114841\n",
       "20-24    6.379235   6.652719  5.975467  6.332740"
      ]
     },
     "execution_count": 197,
     "metadata": {},
     "output_type": "execute_result"
    }
   ],
   "source": [
    "plot_data.head()"
   ]
  },
  {
   "cell_type": "markdown",
   "id": "109dde14-01fa-473a-8b41-0c6f1533c10e",
   "metadata": {},
   "source": [
    "**Note:** The pandas package tracks all the relationships between data and their labels for you. "
   ]
  },
  {
   "cell_type": "code",
   "execution_count": 198,
   "id": "9e3f34c9-a209-4ec8-9053-e6c551db2ad6",
   "metadata": {},
   "outputs": [],
   "source": [
    "plot_data = plot_data.stack(level=0).reset_index()\n",
    "plot_data['year'] = plot_data['year'].astype(int)      # make sure years are numbers\n",
    "plot_data['female'] = plot_data['female'] * -1         # put the bar chart on the LHS of axis\n",
    "plot_data = plot_data.sort_values(by='age', ascending=False)"
   ]
  },
  {
   "cell_type": "code",
   "execution_count": 199,
   "id": "1acf321a-cd60-43f4-8be7-5cee970bd90f",
   "metadata": {},
   "outputs": [
    {
     "data": {
      "text/html": [
       "<div>\n",
       "<style scoped>\n",
       "    .dataframe tbody tr th:only-of-type {\n",
       "        vertical-align: middle;\n",
       "    }\n",
       "\n",
       "    .dataframe tbody tr th {\n",
       "        vertical-align: top;\n",
       "    }\n",
       "\n",
       "    .dataframe thead th {\n",
       "        text-align: right;\n",
       "    }\n",
       "</style>\n",
       "<table border=\"1\" class=\"dataframe\">\n",
       "  <thead>\n",
       "    <tr style=\"text-align: right;\">\n",
       "      <th>gender</th>\n",
       "      <th>age</th>\n",
       "      <th>year</th>\n",
       "      <th>female</th>\n",
       "      <th>male</th>\n",
       "    </tr>\n",
       "  </thead>\n",
       "  <tbody>\n",
       "    <tr>\n",
       "      <th>33</th>\n",
       "      <td>80+</td>\n",
       "      <td>2023</td>\n",
       "      <td>-4.981383</td>\n",
       "      <td>3.838151</td>\n",
       "    </tr>\n",
       "    <tr>\n",
       "      <th>32</th>\n",
       "      <td>80+</td>\n",
       "      <td>1960</td>\n",
       "      <td>-1.619326</td>\n",
       "      <td>0.948079</td>\n",
       "    </tr>\n",
       "    <tr>\n",
       "      <th>31</th>\n",
       "      <td>75-79</td>\n",
       "      <td>2023</td>\n",
       "      <td>-3.598009</td>\n",
       "      <td>3.384923</td>\n",
       "    </tr>\n",
       "    <tr>\n",
       "      <th>30</th>\n",
       "      <td>75-79</td>\n",
       "      <td>1960</td>\n",
       "      <td>-1.809344</td>\n",
       "      <td>1.280289</td>\n",
       "    </tr>\n",
       "    <tr>\n",
       "      <th>29</th>\n",
       "      <td>70-74</td>\n",
       "      <td>2023</td>\n",
       "      <td>-4.455070</td>\n",
       "      <td>4.215617</td>\n",
       "    </tr>\n",
       "  </tbody>\n",
       "</table>\n",
       "</div>"
      ],
      "text/plain": [
       "gender    age  year    female      male\n",
       "33        80+  2023 -4.981383  3.838151\n",
       "32        80+  1960 -1.619326  0.948079\n",
       "31      75-79  2023 -3.598009  3.384923\n",
       "30      75-79  1960 -1.809344  1.280289\n",
       "29      70-74  2023 -4.455070  4.215617"
      ]
     },
     "execution_count": 199,
     "metadata": {},
     "output_type": "execute_result"
    }
   ],
   "source": [
    "plot_data.head()"
   ]
  },
  {
   "cell_type": "markdown",
   "id": "e7f40270-ec91-429d-9185-54a6a1171e97",
   "metadata": {},
   "source": [
    "**Step #4:** Build the Figure\n",
    "\n",
    "The data is now in the format we need to build our charts from Exercise #1.\n",
    "\n",
    "Let's copy the code below"
   ]
  },
  {
   "cell_type": "code",
   "execution_count": 200,
   "id": "b3591cc2-b67b-4458-b7eb-d0c310d88368",
   "metadata": {},
   "outputs": [
    {
     "data": {
      "image/png": "[encoded data removed]",
      "text/plain": [
       "<Figure size 1200x600 with 2 Axes>"
      ]
     },
     "metadata": {},
     "output_type": "display_data"
    }
   ],
   "source": [
    "figure, axes = plt.subplots(1, 2, figsize=(12,6))\n",
    "year = [1960, 2023]\n",
    "index = 0\n",
    "for axis in axes:\n",
    "    ax1 = sns.barplot(x='male', y='age', data=plot_data[plot_data['year'] == year[index]], color=\"blue\", ax=axis)\n",
    "    ax2 = sns.barplot(x='female', y='age', data=plot_data[plot_data['year'] == year[index]], color=\"green\", ax=axis)\n",
    "    axis.set_xlabel(\"female / male\")\n",
    "    axis.set_title(year[index])\n",
    "    index = index+1\n",
    "plt.show()"
   ]
  },
  {
   "cell_type": "markdown",
   "id": "1d993122-f33e-4853-b836-93be43f3cafa",
   "metadata": {},
   "source": [
    "## Exercise: Build your own population pyramid using the code above and modifying it\n",
    "\n",
    "The country code data for each country is\n",
    "\n",
    "| Country | Country Code |\n",
    "|---------|--------------|\n",
    "| Benin   | BEN |\n",
    "| Côte d'Ivoire | CIV | \n",
    "| Uganda | UGA |\n",
    "\n",
    "Start with the code from **Step 3** above and modify it to find the country you are interested in."
   ]
  },
  {
   "cell_type": "code",
   "execution_count": 202,
   "id": "3d707735-2ab9-446b-abca-62ab69bc9eeb",
   "metadata": {},
   "outputs": [
    {
     "ename": "SyntaxError",
     "evalue": "invalid syntax (3053006593.py, line 2)",
     "output_type": "error",
     "traceback": [
      "\u001b[0;36m  Cell \u001b[0;32mIn[202], line 2\u001b[0;36m\u001b[0m\n\u001b[0;31m    cntry_data = data[data['Country Code'] == ]\u001b[0m\n\u001b[0m                                              ^\u001b[0m\n\u001b[0;31mSyntaxError\u001b[0m\u001b[0;31m:\u001b[0m invalid syntax\n"
     ]
    }
   ],
   "source": [
    "# You will need to change 'AUS' to another country code here\n",
    "cntry_data = data[data['Country Code'] == ]                 \n",
    "plot_data = cntry_data[['1960', '2023', 'age', 'gender']]"
   ]
  },
  {
   "cell_type": "code",
   "execution_count": null,
   "id": "fb1fd591-385d-4202-a8b4-0949dccbd142",
   "metadata": {},
   "outputs": [],
   "source": []
  },
  {
   "cell_type": "code",
   "execution_count": null,
   "id": "e5fe54e0-707a-4e22-9e93-bb19bf30f8d6",
   "metadata": {},
   "outputs": [],
   "source": []
  },
  {
   "cell_type": "code",
   "execution_count": null,
   "id": "7c794a7b-4925-490f-bbd9-9aa13f15cc3d",
   "metadata": {},
   "outputs": [],
   "source": []
  },
  {
   "cell_type": "code",
   "execution_count": null,
   "id": "3f8b9774-c0f7-400e-b7a8-bf2b0cb07f6c",
   "metadata": {},
   "outputs": [],
   "source": []
  },
  {
   "cell_type": "code",
   "execution_count": null,
   "id": "f7f83efc-1557-417c-88f3-99e2f34d79c0",
   "metadata": {},
   "outputs": [],
   "source": []
  },
  {
   "cell_type": "code",
   "execution_count": null,
   "id": "6a87a12f-6ff8-4b38-9c15-ea7304e63f17",
   "metadata": {},
   "outputs": [],
   "source": []
  },
  {
   "cell_type": "code",
   "execution_count": null,
   "id": "27dec77c-44d7-4adc-9ab5-7b60868d683d",
   "metadata": {},
   "outputs": [],
   "source": []
  },
  {
   "cell_type": "markdown",
   "id": "e6dca900-004b-4a92-bbc3-2a8e3b78189c",
   "metadata": {},
   "source": [
    "**Note:** You could also just change the country code in `Step #3` above and re-run the cells.\n",
    "\n",
    "The great part of building programs is once you have done the work for one country, you have done the work for any country you are interested in building the plot for. "
   ]
  },
  {
   "cell_type": "markdown",
   "id": "ab6fddd9-5c6f-4bf0-83ea-a55e58d7049c",
   "metadata": {},
   "source": [
    "### Exercise 3: See if you can change the plots (i.e. change the colour)"
   ]
  },
  {
   "cell_type": "code",
   "execution_count": null,
   "id": "cde450be-e2f2-45d7-8fc0-53784c076443",
   "metadata": {},
   "outputs": [],
   "source": []
  }
 ],
 "metadata": {
  "kernelspec": {
   "display_name": "Python 3 (ipykernel)",
   "language": "python",
   "name": "python3"
  },
  "language_info": {
   "codemirror_mode": {
    "name": "ipython",
    "version": 3
   },
   "file_extension": ".py",
   "mimetype": "text/x-python",
   "name": "python",
   "nbconvert_exporter": "python",
   "pygments_lexer": "ipython3",
   "version": "3.11.7"
  }
 },
 "nbformat": 4,
 "nbformat_minor": 5
}
